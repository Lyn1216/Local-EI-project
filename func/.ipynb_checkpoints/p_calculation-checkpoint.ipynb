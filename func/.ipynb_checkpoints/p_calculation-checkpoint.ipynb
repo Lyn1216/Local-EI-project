{
 "cells": [
  {
   "cell_type": "code",
   "execution_count": null,
   "id": "33fda4b9",
   "metadata": {},
   "outputs": [],
   "source": []
  },
  {
   "cell_type": "code",
   "execution_count": null,
   "id": "6dcb5547",
   "metadata": {},
   "outputs": [],
   "source": [
    "# 或 节点的概率\n",
    "def calculate_or_p(i, *args):\n",
    "    '''\n",
    "    calculation_xor_p：用来计算 或 节点的概率值\n",
    "    i：计算TPM矩阵第i行\n",
    "    args：邻居节点的位置\n",
    "    '''\n",
    "    max_value = max(int(Col[i][j]) for j in args)\n",
    "    p = [1 - max_value, max_value]\n",
    "    return p"
   ]
  },
  {
   "cell_type": "code",
   "execution_count": null,
   "id": "61c2aa4e",
   "metadata": {},
   "outputs": [],
   "source": [
    "# 异或 节点的概率\n",
    "def calculate_xor_p(i, *args):  \n",
    "    '''\n",
    "    calculation_xor_p：用来计算 异或 节点的概率值\n",
    "    i：计算TPM矩阵第i行\n",
    "    args：邻居节点的位置\n",
    "    '''\n",
    "    sum_mod = sum(int(Col[i][j]) for j in args) % 2\n",
    "    p = [1 - sum_mod, sum_mod]\n",
    "    return p"
   ]
  },
  {
   "cell_type": "code",
   "execution_count": null,
   "id": "ce5e6673",
   "metadata": {},
   "outputs": [],
   "source": [
    "# 噪音影响后的p\n",
    "def noise_modify_p(p, a):\n",
    "    '''\n",
    "    noise_modify_p：用来计算 噪音 影响之后的概率值\n",
    "    p：未影响前的概率值\n",
    "    a：噪音的大小，为小数\n",
    "    '''\n",
    "    modified_p = [x - a if x == 1 else x + a for x in p]\n",
    "    return modified_p\n"
   ]
  }
 ],
 "metadata": {
  "kernelspec": {
   "display_name": "Python 3",
   "language": "python",
   "name": "python3"
  },
  "language_info": {
   "codemirror_mode": {
    "name": "ipython",
    "version": 3
   },
   "file_extension": ".py",
   "mimetype": "text/x-python",
   "name": "python",
   "nbconvert_exporter": "python",
   "pygments_lexer": "ipython3",
   "version": "3.8.8"
  }
 },
 "nbformat": 4,
 "nbformat_minor": 5
}
