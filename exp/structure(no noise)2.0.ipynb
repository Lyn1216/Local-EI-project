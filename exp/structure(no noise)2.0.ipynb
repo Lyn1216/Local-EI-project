{
 "cells": [
  {
   "cell_type": "code",
   "execution_count": 2,
   "id": "405a1dec",
   "metadata": {},
   "outputs": [],
   "source": [
    "import numpy as np\n",
    "import networkx as nx\n",
    "from scipy.stats import entropy\n",
    "import matplotlib.pyplot as plt\n",
    "import random\n",
    "\n",
    "%matplotlib inline\n",
    "import torch\n",
    "import torch.nn as nn\n",
    "import torch.optim as optim\n",
    "\n",
    "import entropy_estimators as ee"
   ]
  },
  {
   "cell_type": "code",
   "execution_count": null,
   "id": "203621ea",
   "metadata": {},
   "outputs": [],
   "source": [
    "from func.EI_calculation import tpm_ei\n",
    "from func.p_calculation import calculate_or_p\n",
    "from func.p_calculation import calculate_xor_p\n",
    "from func.p_calculation import noise_modify_p"
   ]
  },
  {
   "cell_type": "code",
   "execution_count": 3,
   "id": "579f40cc",
   "metadata": {},
   "outputs": [],
   "source": [
    "%run EI_calculation.ipynb"
   ]
  },
  {
   "cell_type": "code",
   "execution_count": 4,
   "id": "572e9a39",
   "metadata": {},
   "outputs": [],
   "source": [
    "%run p_calculation.ipynb"
   ]
  },
  {
   "cell_type": "code",
   "execution_count": 5,
   "id": "7606357a",
   "metadata": {},
   "outputs": [
    {
     "data": {
      "image/png": "[encoded data removed]",
      "text/plain": [
       "<Figure size 432x288 with 1 Axes>"
      ]
     },
     "metadata": {},
     "output_type": "display_data"
    }
   ],
   "source": [
    "G = nx.DiGraph()\n",
    "G.add_nodes_from(['A', 'B', 'C', 'D', 'E', 'F', 'G', 'H', 'I', 'J'])\n",
    "G.add_edges_from([('A', 'B'), ('B', 'A'), ('A', 'C'), ('C', 'A'), ('A', 'E'), ('C', 'E'), ('E', 'C'), ('F', 'D'), \n",
    "                  ('H', 'F'), ('D', 'F'), ('F', 'D'), ('B', 'F'), ('E', 'A'), ('F', 'B'), ('F', 'H'), ('G', 'I'), \n",
    "                  ('A', 'G'), ('I', 'G'), ('I', 'C'), ('E', 'G'), ('E', 'I'), ('E', 'A'), ('J', 'F'), ('F', 'J'), \n",
    "                  ('C', 'I'), ('G', 'A'), ('G', 'E'), ('I', 'E')])\n",
    "pos = {'A': (2, 2), 'B': (4, 2), 'C': (2, 0), 'D': (4, 0), 'E': (1, 1), 'F': (5, 1), \n",
    "       'I': (0, 0), 'G': (0, 2), 'H': (6, 2), 'J': (6, 0)}\n",
    "nx.draw_networkx(G, pos=pos, with_labels=True, node_color='lightblue', font_weight='bold', arrows=True, \n",
    "                 labels={node: node for node in G.nodes()}, node_size=1000, width=2, arrowstyle='->', arrowsize=20)\n",
    "plt.show()"
   ]
  },
  {
   "cell_type": "markdown",
   "id": "729ae934",
   "metadata": {},
   "source": [
    "# ACEGI或——BDFHJ或"
   ]
  },
  {
   "cell_type": "markdown",
   "id": "d87df1bf",
   "metadata": {},
   "source": [
    "## 整体"
   ]
  },
  {
   "cell_type": "code",
   "execution_count": 31,
   "id": "ffd55085",
   "metadata": {},
   "outputs": [],
   "source": [
    "Col = ['{:010b}'.format(i) for i in range(1024)]\n",
    "ABCDEFGHIJ = np.empty((1024, 1024))\n",
    "\n",
    "for i in range(ABCDEFGHIJ.shape[0]):\n",
    "    \n",
    "    pa = calculate_or_p(i, 1,2,4,6) \n",
    "    pc = calculate_or_p(i, 0,4,8)\n",
    "    pe = calculate_or_p(i, 0,2,6,8)\n",
    "    pg = calculate_or_p(i, 0,4,8)\n",
    "    pi = calculate_or_p(i, 2,4,6)\n",
    "    \n",
    "    pb = calculate_or_p(i, 0,5)\n",
    "    pd = calculate_or_p(i, 5)\n",
    "    pf = calculate_or_p(i, 1,3,7,9)\n",
    "    ph = calculate_or_p(i, 5)\n",
    "    pj = calculate_or_p(i, 5)\n",
    "        \n",
    "    pg_ph_pi_pj = np.kron(pg, np.kron(ph, np.kron(pi, pj)))\n",
    "    ABCDEFGHIJ[i] = np.kron(pa, np.kron(pb, np.kron(pc, np.kron(pd, np.kron(pe, np.kron(pf, pg_ph_pi_pj))))))"
   ]
  },
  {
   "cell_type": "code",
   "execution_count": 32,
   "id": "2b76b7a8",
   "metadata": {},
   "outputs": [
    {
     "data": {
      "text/plain": [
       "3.1286951425292644"
      ]
     },
     "execution_count": 32,
     "metadata": {},
     "output_type": "execute_result"
    }
   ],
   "source": [
    "ABCDEFGHIJ_ei = tpm_ei(ABCDEFGHIJ, log_base = 2)\n",
    "ABCDEFGHIJ_ei"
   ]
  },
  {
   "cell_type": "markdown",
   "id": "731cdcef",
   "metadata": {},
   "source": [
    "## ACEGI"
   ]
  },
  {
   "cell_type": "code",
   "execution_count": 17,
   "id": "13fdf27b",
   "metadata": {},
   "outputs": [],
   "source": [
    "Col = ['{:05b}0'.format(i) for i in range(32)]\n",
    "ACEGI_B_0 = np.empty((32, 32))\n",
    "\n",
    "for i in range(ACEGI_B_0.shape[0]):  \n",
    "    \n",
    "    pa = calculate_or_p(i, 1,2,3,5) \n",
    "    pc = calculate_or_p(i, 0,2,4)\n",
    "    pe = calculate_or_p(i, 0,1,3,4)\n",
    "    pg = calculate_or_p(i, 0,2,4)\n",
    "    pi = calculate_or_p(i, 1,2,3)\n",
    "\n",
    "    ACEGI_B_0[i] = np.kron(pa, np.kron(pc, np.kron(pe, np.kron(pg, pi))))"
   ]
  },
  {
   "cell_type": "code",
   "execution_count": 18,
   "id": "858aa346",
   "metadata": {},
   "outputs": [],
   "source": [
    "Col = ['{:05b}1'.format(i) for i in range(32)]\n",
    "ACEGI_B_1 = np.empty((32, 32))\n",
    "\n",
    "for i in range(ACEGI_B_1.shape[0]):  \n",
    "    \n",
    "    pa = calculate_or_p(i, 1,2,3,5) \n",
    "    pc = calculate_or_p(i, 0,2,4)\n",
    "    pe = calculate_or_p(i, 0,1,3,4)\n",
    "    pg = calculate_or_p(i, 0,2,4)\n",
    "    pi = calculate_or_p(i, 1,2,3)\n",
    "\n",
    "    ACEGI_B_1[i] = np.kron(pa, np.kron(pc, np.kron(pe, np.kron(pg, pi))))"
   ]
  },
  {
   "cell_type": "code",
   "execution_count": 19,
   "id": "d5e307c9",
   "metadata": {},
   "outputs": [
    {
     "name": "stdout",
     "output_type": "stream",
     "text": [
      "1.264097655573916\n",
      "1.264097655573916\n",
      "1.264097655573916\n"
     ]
    }
   ],
   "source": [
    "print(tpm_ei(ACEGI_B_0, log_base = 2))  #同质、B为0的时候ACE的ei\n",
    "print(tpm_ei(ACEGI_B_1, log_base = 2))  #同质、B为1的时候ACE的ei\n",
    "print((tpm_ei(ACEGI_B_0, log_base = 2) + tpm_ei(ACEGI_B_1, log_base = 2)) / 2)   #异质、ACEGI的ei"
   ]
  },
  {
   "cell_type": "markdown",
   "id": "1668f1c7",
   "metadata": {},
   "source": [
    "## BDFHJ"
   ]
  },
  {
   "cell_type": "code",
   "execution_count": 28,
   "id": "e49e80a8",
   "metadata": {},
   "outputs": [],
   "source": [
    "Col = ['{:05b}0'.format(i) for i in range(32)]\n",
    "BDFHJ_A_0 = np.empty((32, 32))\n",
    "\n",
    "for i in range(BDFHJ_A_0.shape[0]):  \n",
    "    \n",
    "    pb = calculate_or_p(i, 2,5)\n",
    "    pd = calculate_or_p(i, 2)\n",
    "    pf = calculate_or_p(i, 0,1,3,4)\n",
    "    ph = calculate_or_p(i, 2)\n",
    "    pj = calculate_or_p(i, 2)\n",
    "\n",
    "    BDFHJ_A_0[i] = np.kron(pb, np.kron(pd, np.kron(pf, np.kron(ph, pj))))"
   ]
  },
  {
   "cell_type": "code",
   "execution_count": 29,
   "id": "9dea6bb9",
   "metadata": {},
   "outputs": [],
   "source": [
    "Col = ['{:05b}1'.format(i) for i in range(32)]\n",
    "BDFHJ_A_1 = np.empty((32, 32))\n",
    "\n",
    "for i in range(BDFHJ_A_1.shape[0]):  \n",
    "    \n",
    "    pb = calculate_or_p(i, 2,5)\n",
    "    pd = calculate_or_p(i, 2)\n",
    "    pf = calculate_or_p(i, 0,1,3,4)\n",
    "    ph = calculate_or_p(i, 2)\n",
    "    pj = calculate_or_p(i, 2)\n",
    "\n",
    "    BDFHJ_A_1[i] = np.kron(pb, np.kron(pd, np.kron(pf, np.kron(ph, pj))))"
   ]
  },
  {
   "cell_type": "code",
   "execution_count": 30,
   "id": "70c7c632",
   "metadata": {},
   "outputs": [
    {
     "name": "stdout",
     "output_type": "stream",
     "text": [
      "1.337290066617014\n",
      "1.337290066617014\n",
      "1.337290066617014\n"
     ]
    }
   ],
   "source": [
    "print(tpm_ei(BDFHJ_A_0, log_base = 2))  #同质、A为0的时候BDF的ei\n",
    "print(tpm_ei(BDFHJ_A_1, log_base = 2))  #同质、A为1的时候BDF的ei\n",
    "print((tpm_ei(BDFHJ_A_0, log_base = 2) + tpm_ei(BDFHJ_A_1, log_base = 2)) / 2)  #异质、BDF的ei"
   ]
  },
  {
   "cell_type": "markdown",
   "id": "35ed8d35",
   "metadata": {},
   "source": [
    "# ACEGI异或——BDFHJ异或"
   ]
  },
  {
   "cell_type": "markdown",
   "id": "ba0138fc",
   "metadata": {},
   "source": [
    "## 整体"
   ]
  },
  {
   "cell_type": "code",
   "execution_count": 33,
   "id": "03962ee4",
   "metadata": {},
   "outputs": [],
   "source": [
    "Col = ['{:010b}'.format(i) for i in range(1024)]\n",
    "ABCDEFGHIJ = np.empty((1024, 1024))\n",
    "\n",
    "for i in range(ABCDEFGHIJ.shape[0]):\n",
    "    \n",
    "    pa = calculate_xor_p(i, 1,2,4,6) \n",
    "    pc = calculate_xor_p(i, 0,4,8)\n",
    "    pe = calculate_xor_p(i, 0,2,6,8)\n",
    "    pg = calculate_xor_p(i, 0,4,8)\n",
    "    pi = calculate_xor_p(i, 2,4,6)\n",
    "    \n",
    "    pb = calculate_xor_p(i, 0,5)\n",
    "    pd = calculate_xor_p(i, 5)\n",
    "    pf = calculate_xor_p(i, 1,3,7,9)\n",
    "    ph = calculate_xor_p(i, 5)\n",
    "    pj = calculate_xor_p(i, 5)\n",
    "    \n",
    "    pg_ph_pi_pj = np.kron(pg, np.kron(ph, np.kron(pi, pj)))\n",
    "    ABCDEFGHIJ[i] = np.kron(pa, np.kron(pb, np.kron(pc, np.kron(pd, np.kron(pe, np.kron(pf, pg_ph_pi_pj))))))"
   ]
  },
  {
   "cell_type": "code",
   "execution_count": 34,
   "id": "fee33360",
   "metadata": {},
   "outputs": [
    {
     "name": "stdout",
     "output_type": "stream",
     "text": [
      "6.0\n"
     ]
    }
   ],
   "source": [
    "print(tpm_ei(ABCDEFGHIJ, log_base = 2))"
   ]
  },
  {
   "cell_type": "markdown",
   "id": "a85a2d21",
   "metadata": {},
   "source": [
    "## ACEGI"
   ]
  },
  {
   "cell_type": "code",
   "execution_count": 35,
   "id": "b65404cd",
   "metadata": {},
   "outputs": [],
   "source": [
    "Col = ['{:05b}0'.format(i) for i in range(32)]\n",
    "ACEGI_B_0 = np.empty((32, 32))\n",
    "\n",
    "for i in range(ACEGI_B_0.shape[0]):  \n",
    "    \n",
    "    pa = calculate_xor_p(i, 1,2,3,5) \n",
    "    pc = calculate_xor_p(i, 0,2,4)\n",
    "    pe = calculate_xor_p(i, 0,1,3,4)\n",
    "    pg = calculate_xor_p(i, 0,2,4)\n",
    "    pi = calculate_xor_p(i, 1,2,3)\n",
    "        \n",
    "    ACEGI_B_0[i] = np.kron(pa, np.kron(pc, np.kron(pe, np.kron(pg, pi))))"
   ]
  },
  {
   "cell_type": "code",
   "execution_count": 36,
   "id": "2247cb4c",
   "metadata": {},
   "outputs": [],
   "source": [
    "Col = ['{:05b}1'.format(i) for i in range(32)]\n",
    "ACEGI_B_1 = np.empty((32, 32))\n",
    "\n",
    "for i in range(ACEGI_B_1.shape[0]):  \n",
    "    \n",
    "    pa = calculate_xor_p(i, 1,2,3,5) \n",
    "    pc = calculate_xor_p(i, 0,2,4)\n",
    "    pe = calculate_xor_p(i, 0,1,3,4)\n",
    "    pg = calculate_xor_p(i, 0,2,4)\n",
    "    pi = calculate_xor_p(i, 1,2,3)\n",
    "        \n",
    "    ACEGI_B_1[i] = np.kron(pa, np.kron(pc, np.kron(pe, np.kron(pg, pi))))"
   ]
  },
  {
   "cell_type": "code",
   "execution_count": 37,
   "id": "928c3724",
   "metadata": {},
   "outputs": [
    {
     "name": "stdout",
     "output_type": "stream",
     "text": [
      "2.0\n",
      "2.0\n",
      "2.0\n"
     ]
    }
   ],
   "source": [
    "print(tpm_ei(ACEGI_B_0, log_base = 2))  #同质、B为0的时候ACE的ei\n",
    "print(tpm_ei(ACEGI_B_1, log_base = 2))  #同质、B为1的时候ACE的ei\n",
    "print((tpm_ei(ACEGI_B_0, log_base = 2) + tpm_ei(ACEGI_B_1, log_base = 2)) / 2)   #异质、ACEGI的ei"
   ]
  },
  {
   "cell_type": "markdown",
   "id": "40fe48bf",
   "metadata": {},
   "source": [
    "## BDFHJ"
   ]
  },
  {
   "cell_type": "code",
   "execution_count": 38,
   "id": "f847a393",
   "metadata": {},
   "outputs": [],
   "source": [
    "Col = ['{:05b}0'.format(i) for i in range(32)]\n",
    "BDFHJ_A_0 = np.empty((32, 32))\n",
    "\n",
    "for i in range(BDFHJ_A_0.shape[0]):  \n",
    "    \n",
    "    pb = calculate_xor_p(i, 2,5)\n",
    "    pd = calculate_xor_p(i, 2)\n",
    "    pf = calculate_xor_p(i, 0,1,3,4)\n",
    "    ph = calculate_xor_p(i, 2)\n",
    "    pj = calculate_xor_p(i, 2)\n",
    "\n",
    "    BDFHJ_A_0[i] = np.kron(pb, np.kron(pd, np.kron(pf, np.kron(ph, pj))))"
   ]
  },
  {
   "cell_type": "code",
   "execution_count": 39,
   "id": "a9bd86e2",
   "metadata": {},
   "outputs": [],
   "source": [
    "Col = ['{:05b}1'.format(i) for i in range(32)]\n",
    "BDFHJ_A_1 = np.empty((32, 32))\n",
    "\n",
    "for i in range(BDFHJ_A_1.shape[0]):  \n",
    "    \n",
    "    pb = calculate_xor_p(i, 2,5)\n",
    "    pd = calculate_xor_p(i, 2)\n",
    "    pf = calculate_xor_p(i, 0,1,3,4)\n",
    "    ph = calculate_xor_p(i, 2)\n",
    "    pj = calculate_xor_p(i, 2)\n",
    "\n",
    "    BDFHJ_A_1[i] = np.kron(pb, np.kron(pd, np.kron(pf, np.kron(ph, pj))))"
   ]
  },
  {
   "cell_type": "code",
   "execution_count": 40,
   "id": "38201e57",
   "metadata": {},
   "outputs": [
    {
     "name": "stdout",
     "output_type": "stream",
     "text": [
      "2.0\n",
      "2.0\n",
      "2.0\n"
     ]
    }
   ],
   "source": [
    "print(tpm_ei(BDFHJ_A_0, log_base = 2))  #同质、A为0的时候BDF的ei\n",
    "print(tpm_ei(BDFHJ_A_1, log_base = 2))  #同质、A为0的时候BDF的ei\n",
    "print((tpm_ei(BDFHJ_A_0, log_base = 2) + tpm_ei(BDFHJ_A_1, log_base = 2)) / 2)  #异质、BDF的ei"
   ]
  },
  {
   "cell_type": "code",
   "execution_count": null,
   "id": "1eca9c22",
   "metadata": {},
   "outputs": [],
   "source": []
  }
 ],
 "metadata": {
  "kernelspec": {
   "display_name": "Python 3",
   "language": "python",
   "name": "python3"
  },
  "language_info": {
   "codemirror_mode": {
    "name": "ipython",
    "version": 3
   },
   "file_extension": ".py",
   "mimetype": "text/x-python",
   "name": "python",
   "nbconvert_exporter": "python",
   "pygments_lexer": "ipython3",
   "version": "3.8.8"
  }
 },
 "nbformat": 4,
 "nbformat_minor": 5
}
