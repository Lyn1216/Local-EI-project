{
 "cells": [
  {
   "cell_type": "code",
   "execution_count": 1,
   "id": "405a1dec",
   "metadata": {},
   "outputs": [],
   "source": [
    "import sys\n",
    "sys.path.append(\"..\")\n",
    "import numpy as np\n",
    "import networkx as nx\n",
    "from scipy.stats import entropy\n",
    "import matplotlib.pyplot as plt\n",
    "import random\n",
    "\n",
    "%matplotlib inline\n",
    "import torch\n",
    "import torch.nn as nn\n",
    "import torch.optim as optim\n",
    "\n",
    "import func.entropy_estimators as ee"
   ]
  },
  {
   "cell_type": "code",
   "execution_count": 2,
   "id": "b9c898c8",
   "metadata": {},
   "outputs": [],
   "source": [
    "#EI的求解\n",
    "from func.EI_calculation import tpm_ei"
   ]
  },
  {
   "cell_type": "code",
   "execution_count": 3,
   "id": "7606357a",
   "metadata": {},
   "outputs": [
    {
     "data": {
      "image/png": "[encoded data removed]",
      "text/plain": [
       "<Figure size 640x480 with 1 Axes>"
      ]
     },
     "metadata": {},
     "output_type": "display_data"
    }
   ],
   "source": [
    "# 创建一个空的有向图\n",
    "G = nx.DiGraph()\n",
    "# 添加节点\n",
    "G.add_nodes_from(['A', 'B', 'C', 'D', 'E', 'F'])\n",
    "# 添加边\n",
    "G.add_edges_from([('A', 'B'), ('B', 'A'), ('A', 'C'), ('C', 'A'), ('A', 'E'), ('C', 'E'), ('E', 'C'), ('B', 'D'), \n",
    "                  ('D', 'B'), ('D', 'F'), ('F', 'D'), ('B', 'F'), ('E', 'A'), ('F', 'B')])\n",
    "# 明确指定节点的位置\n",
    "pos = {'A': (1, 2), 'B': (2, 2), 'C': (1, 0), 'D': (2, 0), 'E': (0, 1), 'F': (3, 1)}\n",
    "# 绘制图形\n",
    "nx.draw_networkx(G, pos=pos, with_labels=True, node_color='lightblue', font_weight='bold', arrows=True, \n",
    "                 labels={node: node for node in G.nodes()}, node_size=1000, width=2, arrowstyle='->', arrowsize=20)\n",
    "# 显示图形\n",
    "plt.show()"
   ]
  },
  {
   "cell_type": "code",
   "execution_count": null,
   "id": "5d2d1e5f",
   "metadata": {},
   "outputs": [],
   "source": []
  },
  {
   "cell_type": "markdown",
   "id": "729ae934",
   "metadata": {},
   "source": [
    "# ACE或——BDF或"
   ]
  },
  {
   "cell_type": "markdown",
   "id": "d87df1bf",
   "metadata": {},
   "source": [
    "## 整体"
   ]
  },
  {
   "cell_type": "code",
   "execution_count": 4,
   "id": "ffd55085",
   "metadata": {
    "scrolled": true
   },
   "outputs": [
    {
     "name": "stdout",
     "output_type": "stream",
     "text": [
      "[1 0] [0.9 0.1] [1 0] [0.9 0.1] [1 0] [0.9 0.1]\n",
      "[0.729 0.081 0.    0.    0.081 0.009 0.    0.    0.    0.    0.    0.\n",
      " 0.    0.    0.    0.    0.081 0.009 0.    0.    0.009 0.001 0.    0.\n",
      " 0.    0.    0.    0.    0.    0.    0.    0.    0.    0.    0.    0.\n",
      " 0.    0.    0.    0.    0.    0.    0.    0.    0.    0.    0.    0.\n",
      " 0.    0.    0.    0.    0.    0.    0.    0.    0.    0.    0.    0.\n",
      " 0.    0.    0.    0.   ]\n",
      "[1 0] [0.1 0.9] [1 0] [0.1 0.9] [1 0] [0.9 0.1]\n",
      "[0.009 0.001 0.    0.    0.081 0.009 0.    0.    0.    0.    0.    0.\n",
      " 0.    0.    0.    0.    0.081 0.009 0.    0.    0.729 0.081 0.    0.\n",
      " 0.    0.    0.    0.    0.    0.    0.    0.    0.    0.    0.    0.\n",
      " 0.    0.    0.    0.    0.    0.    0.    0.    0.    0.    0.    0.\n",
      " 0.    0.    0.    0.    0.    0.    0.    0.    0.    0.    0.    0.\n",
      " 0.    0.    0.    0.   ]\n",
      "[0 1] [0.9 0.1] [0 1] [0.9 0.1] [1 0] [0.9 0.1]\n",
      "[0.    0.    0.    0.    0.    0.    0.    0.    0.    0.    0.    0.\n",
      " 0.    0.    0.    0.    0.    0.    0.    0.    0.    0.    0.    0.\n",
      " 0.    0.    0.    0.    0.    0.    0.    0.    0.    0.    0.    0.\n",
      " 0.    0.    0.    0.    0.729 0.081 0.    0.    0.081 0.009 0.    0.\n",
      " 0.    0.    0.    0.    0.    0.    0.    0.    0.081 0.009 0.    0.\n",
      " 0.009 0.001 0.    0.   ]\n",
      "[0 1] [0.1 0.9] [0 1] [0.1 0.9] [1 0] [0.9 0.1]\n",
      "[0.    0.    0.    0.    0.    0.    0.    0.    0.    0.    0.    0.\n",
      " 0.    0.    0.    0.    0.    0.    0.    0.    0.    0.    0.    0.\n",
      " 0.    0.    0.    0.    0.    0.    0.    0.    0.    0.    0.    0.\n",
      " 0.    0.    0.    0.    0.009 0.001 0.    0.    0.081 0.009 0.    0.\n",
      " 0.    0.    0.    0.    0.    0.    0.    0.    0.081 0.009 0.    0.\n",
      " 0.729 0.081 0.    0.   ]\n",
      "[1 0] [0.1 0.9] [1 0] [0.9 0.1] [1 0] [0.1 0.9]\n",
      "[0.009 0.081 0.    0.    0.001 0.009 0.    0.    0.    0.    0.    0.\n",
      " 0.    0.    0.    0.    0.081 0.729 0.    0.    0.009 0.081 0.    0.\n",
      " 0.    0.    0.    0.    0.    0.    0.    0.    0.    0.    0.    0.\n",
      " 0.    0.    0.    0.    0.    0.    0.    0.    0.    0.    0.    0.\n",
      " 0.    0.    0.    0.    0.    0.    0.    0.    0.    0.    0.    0.\n",
      " 0.    0.    0.    0.   ]\n",
      "[1 0] [0.1 0.9] [1 0] [0.1 0.9] [1 0] [0.1 0.9]\n",
      "[0.001 0.009 0.    0.    0.009 0.081 0.    0.    0.    0.    0.    0.\n",
      " 0.    0.    0.    0.    0.009 0.081 0.    0.    0.081 0.729 0.    0.\n",
      " 0.    0.    0.    0.    0.    0.    0.    0.    0.    0.    0.    0.\n",
      " 0.    0.    0.    0.    0.    0.    0.    0.    0.    0.    0.    0.\n",
      " 0.    0.    0.    0.    0.    0.    0.    0.    0.    0.    0.    0.\n",
      " 0.    0.    0.    0.   ]\n",
      "[0 1] [0.1 0.9] [0 1] [0.9 0.1] [1 0] [0.1 0.9]\n",
      "[0.    0.    0.    0.    0.    0.    0.    0.    0.    0.    0.    0.\n",
      " 0.    0.    0.    0.    0.    0.    0.    0.    0.    0.    0.    0.\n",
      " 0.    0.    0.    0.    0.    0.    0.    0.    0.    0.    0.    0.\n",
      " 0.    0.    0.    0.    0.009 0.081 0.    0.    0.001 0.009 0.    0.\n",
      " 0.    0.    0.    0.    0.    0.    0.    0.    0.081 0.729 0.    0.\n",
      " 0.009 0.081 0.    0.   ]\n",
      "[0 1] [0.1 0.9] [0 1] [0.1 0.9] [1 0] [0.1 0.9]\n",
      "[0.    0.    0.    0.    0.    0.    0.    0.    0.    0.    0.    0.\n",
      " 0.    0.    0.    0.    0.    0.    0.    0.    0.    0.    0.    0.\n",
      " 0.    0.    0.    0.    0.    0.    0.    0.    0.    0.    0.    0.\n",
      " 0.    0.    0.    0.    0.001 0.009 0.    0.    0.009 0.081 0.    0.\n",
      " 0.    0.    0.    0.    0.    0.    0.    0.    0.009 0.081 0.    0.\n",
      " 0.081 0.729 0.    0.   ]\n",
      "[0 1] [0.9 0.1] [1 0] [0.9 0.1] [0 1] [0.9 0.1]\n",
      "[0.    0.    0.    0.    0.    0.    0.    0.    0.    0.    0.    0.\n",
      " 0.    0.    0.    0.    0.    0.    0.    0.    0.    0.    0.    0.\n",
      " 0.    0.    0.    0.    0.    0.    0.    0.    0.    0.    0.729 0.081\n",
      " 0.    0.    0.081 0.009 0.    0.    0.    0.    0.    0.    0.    0.\n",
      " 0.    0.    0.081 0.009 0.    0.    0.009 0.001 0.    0.    0.    0.\n",
      " 0.    0.    0.    0.   ]\n",
      "[0 1] [0.1 0.9] [1 0] [0.1 0.9] [0 1] [0.9 0.1]\n",
      "[0.    0.    0.    0.    0.    0.    0.    0.    0.    0.    0.    0.\n",
      " 0.    0.    0.    0.    0.    0.    0.    0.    0.    0.    0.    0.\n",
      " 0.    0.    0.    0.    0.    0.    0.    0.    0.    0.    0.009 0.001\n",
      " 0.    0.    0.081 0.009 0.    0.    0.    0.    0.    0.    0.    0.\n",
      " 0.    0.    0.081 0.009 0.    0.    0.729 0.081 0.    0.    0.    0.\n",
      " 0.    0.    0.    0.   ]\n",
      "[0 1] [0.9 0.1] [0 1] [0.9 0.1] [0 1] [0.9 0.1]\n",
      "[0.    0.    0.    0.    0.    0.    0.    0.    0.    0.    0.    0.\n",
      " 0.    0.    0.    0.    0.    0.    0.    0.    0.    0.    0.    0.\n",
      " 0.    0.    0.    0.    0.    0.    0.    0.    0.    0.    0.    0.\n",
      " 0.    0.    0.    0.    0.    0.    0.729 0.081 0.    0.    0.081 0.009\n",
      " 0.    0.    0.    0.    0.    0.    0.    0.    0.    0.    0.081 0.009\n",
      " 0.    0.    0.009 0.001]\n",
      "[0 1] [0.1 0.9] [0 1] [0.1 0.9] [0 1] [0.9 0.1]\n",
      "[0.    0.    0.    0.    0.    0.    0.    0.    0.    0.    0.    0.\n",
      " 0.    0.    0.    0.    0.    0.    0.    0.    0.    0.    0.    0.\n",
      " 0.    0.    0.    0.    0.    0.    0.    0.    0.    0.    0.    0.\n",
      " 0.    0.    0.    0.    0.    0.    0.009 0.001 0.    0.    0.081 0.009\n",
      " 0.    0.    0.    0.    0.    0.    0.    0.    0.    0.    0.081 0.009\n",
      " 0.    0.    0.729 0.081]\n",
      "[0 1] [0.1 0.9] [1 0] [0.9 0.1] [0 1] [0.1 0.9]\n",
      "[0.    0.    0.    0.    0.    0.    0.    0.    0.    0.    0.    0.\n",
      " 0.    0.    0.    0.    0.    0.    0.    0.    0.    0.    0.    0.\n",
      " 0.    0.    0.    0.    0.    0.    0.    0.    0.    0.    0.009 0.081\n",
      " 0.    0.    0.001 0.009 0.    0.    0.    0.    0.    0.    0.    0.\n",
      " 0.    0.    0.081 0.729 0.    0.    0.009 0.081 0.    0.    0.    0.\n",
      " 0.    0.    0.    0.   ]\n",
      "[0 1] [0.1 0.9] [1 0] [0.1 0.9] [0 1] [0.1 0.9]\n",
      "[0.    0.    0.    0.    0.    0.    0.    0.    0.    0.    0.    0.\n",
      " 0.    0.    0.    0.    0.    0.    0.    0.    0.    0.    0.    0.\n",
      " 0.    0.    0.    0.    0.    0.    0.    0.    0.    0.    0.001 0.009\n",
      " 0.    0.    0.009 0.081 0.    0.    0.    0.    0.    0.    0.    0.\n",
      " 0.    0.    0.009 0.081 0.    0.    0.081 0.729 0.    0.    0.    0.\n",
      " 0.    0.    0.    0.   ]\n",
      "[0 1] [0.1 0.9] [0 1] [0.9 0.1] [0 1] [0.1 0.9]\n",
      "[0.    0.    0.    0.    0.    0.    0.    0.    0.    0.    0.    0.\n",
      " 0.    0.    0.    0.    0.    0.    0.    0.    0.    0.    0.    0.\n",
      " 0.    0.    0.    0.    0.    0.    0.    0.    0.    0.    0.    0.\n",
      " 0.    0.    0.    0.    0.    0.    0.009 0.081 0.    0.    0.001 0.009\n",
      " 0.    0.    0.    0.    0.    0.    0.    0.    0.    0.    0.081 0.729\n",
      " 0.    0.    0.009 0.081]\n",
      "[0 1] [0.1 0.9] [0 1] [0.1 0.9] [0 1] [0.1 0.9]\n",
      "[0.    0.    0.    0.    0.    0.    0.    0.    0.    0.    0.    0.\n",
      " 0.    0.    0.    0.    0.    0.    0.    0.    0.    0.    0.    0.\n",
      " 0.    0.    0.    0.    0.    0.    0.    0.    0.    0.    0.    0.\n",
      " 0.    0.    0.    0.    0.    0.    0.001 0.009 0.    0.    0.009 0.081\n",
      " 0.    0.    0.    0.    0.    0.    0.    0.    0.    0.    0.009 0.081\n",
      " 0.    0.    0.081 0.729]\n",
      "[0 1] [0.9 0.1] [1 0] [0.1 0.9] [1 0] [0.1 0.9]\n",
      "[0.    0.    0.    0.    0.    0.    0.    0.    0.    0.    0.    0.\n",
      " 0.    0.    0.    0.    0.    0.    0.    0.    0.    0.    0.    0.\n",
      " 0.    0.    0.    0.    0.    0.    0.    0.    0.009 0.081 0.    0.\n",
      " 0.081 0.729 0.    0.    0.    0.    0.    0.    0.    0.    0.    0.\n",
      " 0.001 0.009 0.    0.    0.009 0.081 0.    0.    0.    0.    0.    0.\n",
      " 0.    0.    0.    0.   ]\n",
      "[0 1] [0.1 0.9] [1 0] [0.1 0.9] [1 0] [0.1 0.9]\n",
      "[0.    0.    0.    0.    0.    0.    0.    0.    0.    0.    0.    0.\n",
      " 0.    0.    0.    0.    0.    0.    0.    0.    0.    0.    0.    0.\n",
      " 0.    0.    0.    0.    0.    0.    0.    0.    0.001 0.009 0.    0.\n",
      " 0.009 0.081 0.    0.    0.    0.    0.    0.    0.    0.    0.    0.\n",
      " 0.009 0.081 0.    0.    0.081 0.729 0.    0.    0.    0.    0.    0.\n",
      " 0.    0.    0.    0.   ]\n",
      "[0 1] [0.9 0.1] [0 1] [0.1 0.9] [1 0] [0.1 0.9]\n",
      "[0.    0.    0.    0.    0.    0.    0.    0.    0.    0.    0.    0.\n",
      " 0.    0.    0.    0.    0.    0.    0.    0.    0.    0.    0.    0.\n",
      " 0.    0.    0.    0.    0.    0.    0.    0.    0.    0.    0.    0.\n",
      " 0.    0.    0.    0.    0.009 0.081 0.    0.    0.081 0.729 0.    0.\n",
      " 0.    0.    0.    0.    0.    0.    0.    0.    0.001 0.009 0.    0.\n",
      " 0.009 0.081 0.    0.   ]\n",
      "[0 1] [0.1 0.9] [0 1] [0.1 0.9] [1 0] [0.1 0.9]\n",
      "[0.    0.    0.    0.    0.    0.    0.    0.    0.    0.    0.    0.\n",
      " 0.    0.    0.    0.    0.    0.    0.    0.    0.    0.    0.    0.\n",
      " 0.    0.    0.    0.    0.    0.    0.    0.    0.    0.    0.    0.\n",
      " 0.    0.    0.    0.    0.001 0.009 0.    0.    0.009 0.081 0.    0.\n",
      " 0.    0.    0.    0.    0.    0.    0.    0.    0.009 0.081 0.    0.\n",
      " 0.081 0.729 0.    0.   ]\n",
      "[0 1] [0.1 0.9] [1 0] [0.1 0.9] [1 0] [0.1 0.9]\n",
      "[0.    0.    0.    0.    0.    0.    0.    0.    0.    0.    0.    0.\n",
      " 0.    0.    0.    0.    0.    0.    0.    0.    0.    0.    0.    0.\n",
      " 0.    0.    0.    0.    0.    0.    0.    0.    0.001 0.009 0.    0.\n",
      " 0.009 0.081 0.    0.    0.    0.    0.    0.    0.    0.    0.    0.\n",
      " 0.009 0.081 0.    0.    0.081 0.729 0.    0.    0.    0.    0.    0.\n",
      " 0.    0.    0.    0.   ]\n",
      "[0 1] [0.1 0.9] [1 0] [0.1 0.9] [1 0] [0.1 0.9]\n",
      "[0.    0.    0.    0.    0.    0.    0.    0.    0.    0.    0.    0.\n",
      " 0.    0.    0.    0.    0.    0.    0.    0.    0.    0.    0.    0.\n",
      " 0.    0.    0.    0.    0.    0.    0.    0.    0.001 0.009 0.    0.\n",
      " 0.009 0.081 0.    0.    0.    0.    0.    0.    0.    0.    0.    0.\n",
      " 0.009 0.081 0.    0.    0.081 0.729 0.    0.    0.    0.    0.    0.\n",
      " 0.    0.    0.    0.   ]\n",
      "[0 1] [0.1 0.9] [0 1] [0.1 0.9] [1 0] [0.1 0.9]\n",
      "[0.    0.    0.    0.    0.    0.    0.    0.    0.    0.    0.    0.\n",
      " 0.    0.    0.    0.    0.    0.    0.    0.    0.    0.    0.    0.\n",
      " 0.    0.    0.    0.    0.    0.    0.    0.    0.    0.    0.    0.\n",
      " 0.    0.    0.    0.    0.001 0.009 0.    0.    0.009 0.081 0.    0.\n",
      " 0.    0.    0.    0.    0.    0.    0.    0.    0.009 0.081 0.    0.\n",
      " 0.081 0.729 0.    0.   ]\n",
      "[0 1] [0.1 0.9] [0 1] [0.1 0.9] [1 0] [0.1 0.9]\n",
      "[0.    0.    0.    0.    0.    0.    0.    0.    0.    0.    0.    0.\n",
      " 0.    0.    0.    0.    0.    0.    0.    0.    0.    0.    0.    0.\n",
      " 0.    0.    0.    0.    0.    0.    0.    0.    0.    0.    0.    0.\n",
      " 0.    0.    0.    0.    0.001 0.009 0.    0.    0.009 0.081 0.    0.\n",
      " 0.    0.    0.    0.    0.    0.    0.    0.    0.009 0.081 0.    0.\n",
      " 0.081 0.729 0.    0.   ]\n",
      "[0 1] [0.9 0.1] [1 0] [0.1 0.9] [0 1] [0.1 0.9]\n",
      "[0.    0.    0.    0.    0.    0.    0.    0.    0.    0.    0.    0.\n",
      " 0.    0.    0.    0.    0.    0.    0.    0.    0.    0.    0.    0.\n",
      " 0.    0.    0.    0.    0.    0.    0.    0.    0.    0.    0.009 0.081\n",
      " 0.    0.    0.081 0.729 0.    0.    0.    0.    0.    0.    0.    0.\n",
      " 0.    0.    0.001 0.009 0.    0.    0.009 0.081 0.    0.    0.    0.\n",
      " 0.    0.    0.    0.   ]\n",
      "[0 1] [0.1 0.9] [1 0] [0.1 0.9] [0 1] [0.1 0.9]\n",
      "[0.    0.    0.    0.    0.    0.    0.    0.    0.    0.    0.    0.\n",
      " 0.    0.    0.    0.    0.    0.    0.    0.    0.    0.    0.    0.\n",
      " 0.    0.    0.    0.    0.    0.    0.    0.    0.    0.    0.001 0.009\n",
      " 0.    0.    0.009 0.081 0.    0.    0.    0.    0.    0.    0.    0.\n",
      " 0.    0.    0.009 0.081 0.    0.    0.081 0.729 0.    0.    0.    0.\n",
      " 0.    0.    0.    0.   ]\n",
      "[0 1] [0.9 0.1] [0 1] [0.1 0.9] [0 1] [0.1 0.9]\n",
      "[0.    0.    0.    0.    0.    0.    0.    0.    0.    0.    0.    0.\n",
      " 0.    0.    0.    0.    0.    0.    0.    0.    0.    0.    0.    0.\n",
      " 0.    0.    0.    0.    0.    0.    0.    0.    0.    0.    0.    0.\n",
      " 0.    0.    0.    0.    0.    0.    0.009 0.081 0.    0.    0.081 0.729\n",
      " 0.    0.    0.    0.    0.    0.    0.    0.    0.    0.    0.001 0.009\n",
      " 0.    0.    0.009 0.081]\n",
      "[0 1] [0.1 0.9] [0 1] [0.1 0.9] [0 1] [0.1 0.9]\n",
      "[0.    0.    0.    0.    0.    0.    0.    0.    0.    0.    0.    0.\n",
      " 0.    0.    0.    0.    0.    0.    0.    0.    0.    0.    0.    0.\n",
      " 0.    0.    0.    0.    0.    0.    0.    0.    0.    0.    0.    0.\n",
      " 0.    0.    0.    0.    0.    0.    0.001 0.009 0.    0.    0.009 0.081\n",
      " 0.    0.    0.    0.    0.    0.    0.    0.    0.    0.    0.009 0.081\n",
      " 0.    0.    0.081 0.729]\n",
      "[0 1] [0.1 0.9] [1 0] [0.1 0.9] [0 1] [0.1 0.9]\n",
      "[0.    0.    0.    0.    0.    0.    0.    0.    0.    0.    0.    0.\n",
      " 0.    0.    0.    0.    0.    0.    0.    0.    0.    0.    0.    0.\n",
      " 0.    0.    0.    0.    0.    0.    0.    0.    0.    0.    0.001 0.009\n",
      " 0.    0.    0.009 0.081 0.    0.    0.    0.    0.    0.    0.    0.\n",
      " 0.    0.    0.009 0.081 0.    0.    0.081 0.729 0.    0.    0.    0.\n",
      " 0.    0.    0.    0.   ]\n",
      "[0 1] [0.1 0.9] [1 0] [0.1 0.9] [0 1] [0.1 0.9]\n",
      "[0.    0.    0.    0.    0.    0.    0.    0.    0.    0.    0.    0.\n",
      " 0.    0.    0.    0.    0.    0.    0.    0.    0.    0.    0.    0.\n",
      " 0.    0.    0.    0.    0.    0.    0.    0.    0.    0.    0.001 0.009\n",
      " 0.    0.    0.009 0.081 0.    0.    0.    0.    0.    0.    0.    0.\n",
      " 0.    0.    0.009 0.081 0.    0.    0.081 0.729 0.    0.    0.    0.\n",
      " 0.    0.    0.    0.   ]\n",
      "[0 1] [0.1 0.9] [0 1] [0.1 0.9] [0 1] [0.1 0.9]\n",
      "[0.    0.    0.    0.    0.    0.    0.    0.    0.    0.    0.    0.\n",
      " 0.    0.    0.    0.    0.    0.    0.    0.    0.    0.    0.    0.\n",
      " 0.    0.    0.    0.    0.    0.    0.    0.    0.    0.    0.    0.\n",
      " 0.    0.    0.    0.    0.    0.    0.001 0.009 0.    0.    0.009 0.081\n",
      " 0.    0.    0.    0.    0.    0.    0.    0.    0.    0.    0.009 0.081\n",
      " 0.    0.    0.081 0.729]\n",
      "[0 1] [0.1 0.9] [0 1] [0.1 0.9] [0 1] [0.1 0.9]\n",
      "[0.    0.    0.    0.    0.    0.    0.    0.    0.    0.    0.    0.\n",
      " 0.    0.    0.    0.    0.    0.    0.    0.    0.    0.    0.    0.\n",
      " 0.    0.    0.    0.    0.    0.    0.    0.    0.    0.    0.    0.\n",
      " 0.    0.    0.    0.    0.    0.    0.001 0.009 0.    0.    0.009 0.081\n",
      " 0.    0.    0.    0.    0.    0.    0.    0.    0.    0.    0.009 0.081\n",
      " 0.    0.    0.081 0.729]\n",
      "[1 0] [0.1 0.9] [0 1] [0.9 0.1] [0 1] [0.9 0.1]\n",
      "[0.    0.    0.    0.    0.    0.    0.    0.    0.    0.    0.081 0.009\n",
      " 0.    0.    0.009 0.001 0.    0.    0.    0.    0.    0.    0.    0.\n",
      " 0.    0.    0.729 0.081 0.    0.    0.081 0.009 0.    0.    0.    0.\n",
      " 0.    0.    0.    0.    0.    0.    0.    0.    0.    0.    0.    0.\n",
      " 0.    0.    0.    0.    0.    0.    0.    0.    0.    0.    0.    0.\n",
      " 0.    0.    0.    0.   ]\n",
      "[1 0] [0.1 0.9] [0 1] [0.1 0.9] [0 1] [0.9 0.1]\n",
      "[0.    0.    0.    0.    0.    0.    0.    0.    0.    0.    0.009 0.001\n",
      " 0.    0.    0.081 0.009 0.    0.    0.    0.    0.    0.    0.    0.\n",
      " 0.    0.    0.081 0.009 0.    0.    0.729 0.081 0.    0.    0.    0.\n",
      " 0.    0.    0.    0.    0.    0.    0.    0.    0.    0.    0.    0.\n",
      " 0.    0.    0.    0.    0.    0.    0.    0.    0.    0.    0.    0.\n",
      " 0.    0.    0.    0.   ]\n",
      "[0 1] [0.1 0.9] [0 1] [0.9 0.1] [0 1] [0.9 0.1]\n",
      "[0.    0.    0.    0.    0.    0.    0.    0.    0.    0.    0.    0.\n",
      " 0.    0.    0.    0.    0.    0.    0.    0.    0.    0.    0.    0.\n",
      " 0.    0.    0.    0.    0.    0.    0.    0.    0.    0.    0.    0.\n",
      " 0.    0.    0.    0.    0.    0.    0.081 0.009 0.    0.    0.009 0.001\n",
      " 0.    0.    0.    0.    0.    0.    0.    0.    0.    0.    0.729 0.081\n",
      " 0.    0.    0.081 0.009]\n",
      "[0 1] [0.1 0.9] [0 1] [0.1 0.9] [0 1] [0.9 0.1]\n",
      "[0.    0.    0.    0.    0.    0.    0.    0.    0.    0.    0.    0.\n",
      " 0.    0.    0.    0.    0.    0.    0.    0.    0.    0.    0.    0.\n",
      " 0.    0.    0.    0.    0.    0.    0.    0.    0.    0.    0.    0.\n",
      " 0.    0.    0.    0.    0.    0.    0.009 0.001 0.    0.    0.081 0.009\n",
      " 0.    0.    0.    0.    0.    0.    0.    0.    0.    0.    0.081 0.009\n",
      " 0.    0.    0.729 0.081]\n",
      "[1 0] [0.1 0.9] [0 1] [0.9 0.1] [0 1] [0.1 0.9]\n",
      "[0.    0.    0.    0.    0.    0.    0.    0.    0.    0.    0.009 0.081\n",
      " 0.    0.    0.001 0.009 0.    0.    0.    0.    0.    0.    0.    0.\n",
      " 0.    0.    0.081 0.729 0.    0.    0.009 0.081 0.    0.    0.    0.\n",
      " 0.    0.    0.    0.    0.    0.    0.    0.    0.    0.    0.    0.\n",
      " 0.    0.    0.    0.    0.    0.    0.    0.    0.    0.    0.    0.\n",
      " 0.    0.    0.    0.   ]\n",
      "[1 0] [0.1 0.9] [0 1] [0.1 0.9] [0 1] [0.1 0.9]\n",
      "[0.    0.    0.    0.    0.    0.    0.    0.    0.    0.    0.001 0.009\n",
      " 0.    0.    0.009 0.081 0.    0.    0.    0.    0.    0.    0.    0.\n",
      " 0.    0.    0.009 0.081 0.    0.    0.081 0.729 0.    0.    0.    0.\n",
      " 0.    0.    0.    0.    0.    0.    0.    0.    0.    0.    0.    0.\n",
      " 0.    0.    0.    0.    0.    0.    0.    0.    0.    0.    0.    0.\n",
      " 0.    0.    0.    0.   ]\n",
      "[0 1] [0.1 0.9] [0 1] [0.9 0.1] [0 1] [0.1 0.9]\n",
      "[0.    0.    0.    0.    0.    0.    0.    0.    0.    0.    0.    0.\n",
      " 0.    0.    0.    0.    0.    0.    0.    0.    0.    0.    0.    0.\n",
      " 0.    0.    0.    0.    0.    0.    0.    0.    0.    0.    0.    0.\n",
      " 0.    0.    0.    0.    0.    0.    0.009 0.081 0.    0.    0.001 0.009\n",
      " 0.    0.    0.    0.    0.    0.    0.    0.    0.    0.    0.081 0.729\n",
      " 0.    0.    0.009 0.081]\n",
      "[0 1] [0.1 0.9] [0 1] [0.1 0.9] [0 1] [0.1 0.9]\n",
      "[0.    0.    0.    0.    0.    0.    0.    0.    0.    0.    0.    0.\n",
      " 0.    0.    0.    0.    0.    0.    0.    0.    0.    0.    0.    0.\n",
      " 0.    0.    0.    0.    0.    0.    0.    0.    0.    0.    0.    0.\n",
      " 0.    0.    0.    0.    0.    0.    0.001 0.009 0.    0.    0.009 0.081\n",
      " 0.    0.    0.    0.    0.    0.    0.    0.    0.    0.    0.009 0.081\n",
      " 0.    0.    0.081 0.729]\n",
      "[0 1] [0.1 0.9] [0 1] [0.9 0.1] [0 1] [0.9 0.1]\n",
      "[0.    0.    0.    0.    0.    0.    0.    0.    0.    0.    0.    0.\n",
      " 0.    0.    0.    0.    0.    0.    0.    0.    0.    0.    0.    0.\n",
      " 0.    0.    0.    0.    0.    0.    0.    0.    0.    0.    0.    0.\n",
      " 0.    0.    0.    0.    0.    0.    0.081 0.009 0.    0.    0.009 0.001\n",
      " 0.    0.    0.    0.    0.    0.    0.    0.    0.    0.    0.729 0.081\n",
      " 0.    0.    0.081 0.009]\n",
      "[0 1] [0.1 0.9] [0 1] [0.1 0.9] [0 1] [0.9 0.1]\n",
      "[0.    0.    0.    0.    0.    0.    0.    0.    0.    0.    0.    0.\n",
      " 0.    0.    0.    0.    0.    0.    0.    0.    0.    0.    0.    0.\n",
      " 0.    0.    0.    0.    0.    0.    0.    0.    0.    0.    0.    0.\n",
      " 0.    0.    0.    0.    0.    0.    0.009 0.001 0.    0.    0.081 0.009\n",
      " 0.    0.    0.    0.    0.    0.    0.    0.    0.    0.    0.081 0.009\n",
      " 0.    0.    0.729 0.081]\n",
      "[0 1] [0.1 0.9] [0 1] [0.9 0.1] [0 1] [0.9 0.1]\n",
      "[0.    0.    0.    0.    0.    0.    0.    0.    0.    0.    0.    0.\n",
      " 0.    0.    0.    0.    0.    0.    0.    0.    0.    0.    0.    0.\n",
      " 0.    0.    0.    0.    0.    0.    0.    0.    0.    0.    0.    0.\n",
      " 0.    0.    0.    0.    0.    0.    0.081 0.009 0.    0.    0.009 0.001\n",
      " 0.    0.    0.    0.    0.    0.    0.    0.    0.    0.    0.729 0.081\n",
      " 0.    0.    0.081 0.009]\n",
      "[0 1] [0.1 0.9] [0 1] [0.1 0.9] [0 1] [0.9 0.1]\n",
      "[0.    0.    0.    0.    0.    0.    0.    0.    0.    0.    0.    0.\n",
      " 0.    0.    0.    0.    0.    0.    0.    0.    0.    0.    0.    0.\n",
      " 0.    0.    0.    0.    0.    0.    0.    0.    0.    0.    0.    0.\n",
      " 0.    0.    0.    0.    0.    0.    0.009 0.001 0.    0.    0.081 0.009\n",
      " 0.    0.    0.    0.    0.    0.    0.    0.    0.    0.    0.081 0.009\n",
      " 0.    0.    0.729 0.081]\n",
      "[0 1] [0.1 0.9] [0 1] [0.9 0.1] [0 1] [0.1 0.9]\n",
      "[0.    0.    0.    0.    0.    0.    0.    0.    0.    0.    0.    0.\n",
      " 0.    0.    0.    0.    0.    0.    0.    0.    0.    0.    0.    0.\n",
      " 0.    0.    0.    0.    0.    0.    0.    0.    0.    0.    0.    0.\n",
      " 0.    0.    0.    0.    0.    0.    0.009 0.081 0.    0.    0.001 0.009\n",
      " 0.    0.    0.    0.    0.    0.    0.    0.    0.    0.    0.081 0.729\n",
      " 0.    0.    0.009 0.081]\n",
      "[0 1] [0.1 0.9] [0 1] [0.1 0.9] [0 1] [0.1 0.9]\n",
      "[0.    0.    0.    0.    0.    0.    0.    0.    0.    0.    0.    0.\n",
      " 0.    0.    0.    0.    0.    0.    0.    0.    0.    0.    0.    0.\n",
      " 0.    0.    0.    0.    0.    0.    0.    0.    0.    0.    0.    0.\n",
      " 0.    0.    0.    0.    0.    0.    0.001 0.009 0.    0.    0.009 0.081\n",
      " 0.    0.    0.    0.    0.    0.    0.    0.    0.    0.    0.009 0.081\n",
      " 0.    0.    0.081 0.729]\n",
      "[0 1] [0.1 0.9] [0 1] [0.9 0.1] [0 1] [0.1 0.9]\n",
      "[0.    0.    0.    0.    0.    0.    0.    0.    0.    0.    0.    0.\n",
      " 0.    0.    0.    0.    0.    0.    0.    0.    0.    0.    0.    0.\n",
      " 0.    0.    0.    0.    0.    0.    0.    0.    0.    0.    0.    0.\n",
      " 0.    0.    0.    0.    0.    0.    0.009 0.081 0.    0.    0.001 0.009\n",
      " 0.    0.    0.    0.    0.    0.    0.    0.    0.    0.    0.081 0.729\n",
      " 0.    0.    0.009 0.081]\n",
      "[0 1] [0.1 0.9] [0 1] [0.1 0.9] [0 1] [0.1 0.9]\n",
      "[0.    0.    0.    0.    0.    0.    0.    0.    0.    0.    0.    0.\n",
      " 0.    0.    0.    0.    0.    0.    0.    0.    0.    0.    0.    0.\n",
      " 0.    0.    0.    0.    0.    0.    0.    0.    0.    0.    0.    0.\n",
      " 0.    0.    0.    0.    0.    0.    0.001 0.009 0.    0.    0.009 0.081\n",
      " 0.    0.    0.    0.    0.    0.    0.    0.    0.    0.    0.009 0.081\n",
      " 0.    0.    0.081 0.729]\n",
      "[0 1] [0.1 0.9] [0 1] [0.1 0.9] [0 1] [0.1 0.9]\n",
      "[0.    0.    0.    0.    0.    0.    0.    0.    0.    0.    0.    0.\n",
      " 0.    0.    0.    0.    0.    0.    0.    0.    0.    0.    0.    0.\n",
      " 0.    0.    0.    0.    0.    0.    0.    0.    0.    0.    0.    0.\n",
      " 0.    0.    0.    0.    0.    0.    0.001 0.009 0.    0.    0.009 0.081\n",
      " 0.    0.    0.    0.    0.    0.    0.    0.    0.    0.    0.009 0.081\n",
      " 0.    0.    0.081 0.729]\n",
      "[0 1] [0.1 0.9] [0 1] [0.1 0.9] [0 1] [0.1 0.9]\n",
      "[0.    0.    0.    0.    0.    0.    0.    0.    0.    0.    0.    0.\n",
      " 0.    0.    0.    0.    0.    0.    0.    0.    0.    0.    0.    0.\n",
      " 0.    0.    0.    0.    0.    0.    0.    0.    0.    0.    0.    0.\n",
      " 0.    0.    0.    0.    0.    0.    0.001 0.009 0.    0.    0.009 0.081\n",
      " 0.    0.    0.    0.    0.    0.    0.    0.    0.    0.    0.009 0.081\n",
      " 0.    0.    0.081 0.729]\n",
      "[0 1] [0.1 0.9] [0 1] [0.1 0.9] [0 1] [0.1 0.9]\n",
      "[0.    0.    0.    0.    0.    0.    0.    0.    0.    0.    0.    0.\n",
      " 0.    0.    0.    0.    0.    0.    0.    0.    0.    0.    0.    0.\n",
      " 0.    0.    0.    0.    0.    0.    0.    0.    0.    0.    0.    0.\n",
      " 0.    0.    0.    0.    0.    0.    0.001 0.009 0.    0.    0.009 0.081\n",
      " 0.    0.    0.    0.    0.    0.    0.    0.    0.    0.    0.009 0.081\n",
      " 0.    0.    0.081 0.729]\n",
      "[0 1] [0.1 0.9] [0 1] [0.1 0.9] [0 1] [0.1 0.9]\n",
      "[0.    0.    0.    0.    0.    0.    0.    0.    0.    0.    0.    0.\n",
      " 0.    0.    0.    0.    0.    0.    0.    0.    0.    0.    0.    0.\n",
      " 0.    0.    0.    0.    0.    0.    0.    0.    0.    0.    0.    0.\n",
      " 0.    0.    0.    0.    0.    0.    0.001 0.009 0.    0.    0.009 0.081\n",
      " 0.    0.    0.    0.    0.    0.    0.    0.    0.    0.    0.009 0.081\n",
      " 0.    0.    0.081 0.729]\n",
      "[0 1] [0.1 0.9] [0 1] [0.1 0.9] [0 1] [0.1 0.9]\n",
      "[0.    0.    0.    0.    0.    0.    0.    0.    0.    0.    0.    0.\n",
      " 0.    0.    0.    0.    0.    0.    0.    0.    0.    0.    0.    0.\n",
      " 0.    0.    0.    0.    0.    0.    0.    0.    0.    0.    0.    0.\n",
      " 0.    0.    0.    0.    0.    0.    0.001 0.009 0.    0.    0.009 0.081\n",
      " 0.    0.    0.    0.    0.    0.    0.    0.    0.    0.    0.009 0.081\n",
      " 0.    0.    0.081 0.729]\n",
      "[0 1] [0.1 0.9] [0 1] [0.1 0.9] [0 1] [0.1 0.9]\n",
      "[0.    0.    0.    0.    0.    0.    0.    0.    0.    0.    0.    0.\n",
      " 0.    0.    0.    0.    0.    0.    0.    0.    0.    0.    0.    0.\n",
      " 0.    0.    0.    0.    0.    0.    0.    0.    0.    0.    0.    0.\n",
      " 0.    0.    0.    0.    0.    0.    0.001 0.009 0.    0.    0.009 0.081\n",
      " 0.    0.    0.    0.    0.    0.    0.    0.    0.    0.    0.009 0.081\n",
      " 0.    0.    0.081 0.729]\n",
      "[0 1] [0.1 0.9] [0 1] [0.1 0.9] [0 1] [0.1 0.9]\n",
      "[0.    0.    0.    0.    0.    0.    0.    0.    0.    0.    0.    0.\n",
      " 0.    0.    0.    0.    0.    0.    0.    0.    0.    0.    0.    0.\n",
      " 0.    0.    0.    0.    0.    0.    0.    0.    0.    0.    0.    0.\n",
      " 0.    0.    0.    0.    0.    0.    0.001 0.009 0.    0.    0.009 0.081\n",
      " 0.    0.    0.    0.    0.    0.    0.    0.    0.    0.    0.009 0.081\n",
      " 0.    0.    0.081 0.729]\n",
      "[0 1] [0.1 0.9] [0 1] [0.1 0.9] [0 1] [0.1 0.9]\n",
      "[0.    0.    0.    0.    0.    0.    0.    0.    0.    0.    0.    0.\n",
      " 0.    0.    0.    0.    0.    0.    0.    0.    0.    0.    0.    0.\n",
      " 0.    0.    0.    0.    0.    0.    0.    0.    0.    0.    0.    0.\n",
      " 0.    0.    0.    0.    0.    0.    0.001 0.009 0.    0.    0.009 0.081\n",
      " 0.    0.    0.    0.    0.    0.    0.    0.    0.    0.    0.009 0.081\n",
      " 0.    0.    0.081 0.729]\n",
      "[0 1] [0.1 0.9] [0 1] [0.1 0.9] [0 1] [0.1 0.9]\n",
      "[0.    0.    0.    0.    0.    0.    0.    0.    0.    0.    0.    0.\n",
      " 0.    0.    0.    0.    0.    0.    0.    0.    0.    0.    0.    0.\n",
      " 0.    0.    0.    0.    0.    0.    0.    0.    0.    0.    0.    0.\n",
      " 0.    0.    0.    0.    0.    0.    0.001 0.009 0.    0.    0.009 0.081\n",
      " 0.    0.    0.    0.    0.    0.    0.    0.    0.    0.    0.009 0.081\n",
      " 0.    0.    0.081 0.729]\n",
      "[0 1] [0.1 0.9] [0 1] [0.1 0.9] [0 1] [0.1 0.9]\n",
      "[0.    0.    0.    0.    0.    0.    0.    0.    0.    0.    0.    0.\n",
      " 0.    0.    0.    0.    0.    0.    0.    0.    0.    0.    0.    0.\n",
      " 0.    0.    0.    0.    0.    0.    0.    0.    0.    0.    0.    0.\n",
      " 0.    0.    0.    0.    0.    0.    0.001 0.009 0.    0.    0.009 0.081\n",
      " 0.    0.    0.    0.    0.    0.    0.    0.    0.    0.    0.009 0.081\n",
      " 0.    0.    0.081 0.729]\n",
      "[0 1] [0.1 0.9] [0 1] [0.1 0.9] [0 1] [0.1 0.9]\n",
      "[0.    0.    0.    0.    0.    0.    0.    0.    0.    0.    0.    0.\n",
      " 0.    0.    0.    0.    0.    0.    0.    0.    0.    0.    0.    0.\n",
      " 0.    0.    0.    0.    0.    0.    0.    0.    0.    0.    0.    0.\n",
      " 0.    0.    0.    0.    0.    0.    0.001 0.009 0.    0.    0.009 0.081\n",
      " 0.    0.    0.    0.    0.    0.    0.    0.    0.    0.    0.009 0.081\n",
      " 0.    0.    0.081 0.729]\n",
      "[0 1] [0.1 0.9] [0 1] [0.1 0.9] [0 1] [0.1 0.9]\n",
      "[0.    0.    0.    0.    0.    0.    0.    0.    0.    0.    0.    0.\n",
      " 0.    0.    0.    0.    0.    0.    0.    0.    0.    0.    0.    0.\n",
      " 0.    0.    0.    0.    0.    0.    0.    0.    0.    0.    0.    0.\n",
      " 0.    0.    0.    0.    0.    0.    0.001 0.009 0.    0.    0.009 0.081\n",
      " 0.    0.    0.    0.    0.    0.    0.    0.    0.    0.    0.009 0.081\n",
      " 0.    0.    0.081 0.729]\n",
      "[0 1] [0.1 0.9] [0 1] [0.1 0.9] [0 1] [0.1 0.9]\n",
      "[0.    0.    0.    0.    0.    0.    0.    0.    0.    0.    0.    0.\n",
      " 0.    0.    0.    0.    0.    0.    0.    0.    0.    0.    0.    0.\n",
      " 0.    0.    0.    0.    0.    0.    0.    0.    0.    0.    0.    0.\n",
      " 0.    0.    0.    0.    0.    0.    0.001 0.009 0.    0.    0.009 0.081\n",
      " 0.    0.    0.    0.    0.    0.    0.    0.    0.    0.    0.009 0.081\n",
      " 0.    0.    0.081 0.729]\n",
      "[0 1] [0.1 0.9] [0 1] [0.1 0.9] [0 1] [0.1 0.9]\n",
      "[0.    0.    0.    0.    0.    0.    0.    0.    0.    0.    0.    0.\n",
      " 0.    0.    0.    0.    0.    0.    0.    0.    0.    0.    0.    0.\n",
      " 0.    0.    0.    0.    0.    0.    0.    0.    0.    0.    0.    0.\n",
      " 0.    0.    0.    0.    0.    0.    0.001 0.009 0.    0.    0.009 0.081\n",
      " 0.    0.    0.    0.    0.    0.    0.    0.    0.    0.    0.009 0.081\n",
      " 0.    0.    0.081 0.729]\n",
      "[0 1] [0.1 0.9] [0 1] [0.1 0.9] [0 1] [0.1 0.9]\n",
      "[0.    0.    0.    0.    0.    0.    0.    0.    0.    0.    0.    0.\n",
      " 0.    0.    0.    0.    0.    0.    0.    0.    0.    0.    0.    0.\n",
      " 0.    0.    0.    0.    0.    0.    0.    0.    0.    0.    0.    0.\n",
      " 0.    0.    0.    0.    0.    0.    0.001 0.009 0.    0.    0.009 0.081\n",
      " 0.    0.    0.    0.    0.    0.    0.    0.    0.    0.    0.009 0.081\n",
      " 0.    0.    0.081 0.729]\n",
      "[0 1] [0.1 0.9] [0 1] [0.1 0.9] [0 1] [0.1 0.9]\n",
      "[0.    0.    0.    0.    0.    0.    0.    0.    0.    0.    0.    0.\n",
      " 0.    0.    0.    0.    0.    0.    0.    0.    0.    0.    0.    0.\n",
      " 0.    0.    0.    0.    0.    0.    0.    0.    0.    0.    0.    0.\n",
      " 0.    0.    0.    0.    0.    0.    0.001 0.009 0.    0.    0.009 0.081\n",
      " 0.    0.    0.    0.    0.    0.    0.    0.    0.    0.    0.009 0.081\n",
      " 0.    0.    0.081 0.729]\n",
      "[[0.729 0.081 0.    ... 0.    0.    0.   ]\n",
      " [0.009 0.001 0.    ... 0.    0.    0.   ]\n",
      " [0.    0.    0.    ... 0.001 0.    0.   ]\n",
      " ...\n",
      " [0.    0.    0.    ... 0.    0.081 0.729]\n",
      " [0.    0.    0.    ... 0.    0.081 0.729]\n",
      " [0.    0.    0.    ... 0.    0.081 0.729]]\n"
     ]
    }
   ],
   "source": [
    "Col = ['{:06b}'.format(i) for i in range(64)]\n",
    "ABCDEF = np.empty((64, 64))\n",
    "\n",
    "for i in range(ABCDEF.shape[0]):\n",
    "    \n",
    "    if Col[i][1] == '1' or Col[i][2] == '1' or Col[i][4] == '1':   # 对A 进行判断\n",
    "        pa = np.array([0, 1])\n",
    "    else:\n",
    "        pa = np.array([1, 0])\n",
    "        \n",
    "    if Col[i][0] == '1' or Col[i][3] == '1' or Col[i][5] == '1':   # 对B 进行判断\n",
    "        pb = np.array([0.1, 0.9])\n",
    "    else:\n",
    "        pb = np.array([0.9, 0.1])\n",
    "\n",
    "    if Col[i][0] == '1' or Col[i][4] == '1' :   # 对C 进行判断\n",
    "        pc = np.array([0, 1])\n",
    "    else:\n",
    "        pc = np.array([1, 0])\n",
    "    \n",
    "    if Col[i][1] == '1' or Col[i][5] == '1' :   # 对D 进行判断\n",
    "        pd = np.array([0.1, 0.9])\n",
    "    else:\n",
    "        pd = np.array([0.9, 0.1])\n",
    "        \n",
    "    if Col[i][0] == '1' or Col[i][2] == '1' :   # 对E 进行判断\n",
    "        pe = np.array([0, 1])\n",
    "    else:\n",
    "        pe = np.array([1, 0])\n",
    "\n",
    "    if Col[i][1] == '1' or Col[i][3] == '1' :   # 对F 进行判断\n",
    "        pf = np.array([0.1, 0.9])\n",
    "    else:\n",
    "        pf = np.array([0.9, 0.1])\n",
    "        \n",
    "    print(pa,pb,pc,pd,pe,pf)\n",
    "    pe_pf = np.kron(pe, pf)\n",
    "    pd_pe_pf = np.kron(pd, pe_pf)\n",
    "    pc_pd_pe_pf = np.kron(pc, pd_pe_pf)\n",
    "    pb_pc_pd_pe_pf = np.kron(pb, pc_pd_pe_pf)\n",
    "    pa_pb_pc_pd_pe_pf = np.kron(pa, pb_pc_pd_pe_pf)\n",
    "    \n",
    "    print(pa_pb_pc_pd_pe_pf)\n",
    "    \n",
    "    ABCDEF[i] = pa_pb_pc_pd_pe_pf\n",
    "\n",
    "print(ABCDEF)"
   ]
  },
  {
   "cell_type": "code",
   "execution_count": 5,
   "id": "2b76b7a8",
   "metadata": {},
   "outputs": [
    {
     "data": {
      "text/plain": [
       "2.9008312476221096"
      ]
     },
     "execution_count": 5,
     "metadata": {},
     "output_type": "execute_result"
    }
   ],
   "source": [
    "ABCDEF_ei = tpm_ei(ABCDEF, log_base = 2)\n",
    "ABCDEF_ei"
   ]
  },
  {
   "cell_type": "markdown",
   "id": "731cdcef",
   "metadata": {},
   "source": [
    "## ACE"
   ]
  },
  {
   "cell_type": "code",
   "execution_count": 6,
   "id": "13fdf27b",
   "metadata": {},
   "outputs": [
    {
     "name": "stdout",
     "output_type": "stream",
     "text": [
      "[[1. 0. 0. 0. 0. 0. 0. 0.]\n",
      " [0. 0. 0. 0. 0. 0. 1. 0.]\n",
      " [0. 0. 0. 0. 0. 1. 0. 0.]\n",
      " [0. 0. 0. 0. 0. 0. 0. 1.]\n",
      " [0. 0. 0. 1. 0. 0. 0. 0.]\n",
      " [0. 0. 0. 0. 0. 0. 0. 1.]\n",
      " [0. 0. 0. 0. 0. 0. 0. 1.]\n",
      " [0. 0. 0. 0. 0. 0. 0. 1.]]\n"
     ]
    }
   ],
   "source": [
    "Col = ['{:03b}'.format(i) for i in range(8)]\n",
    "ACE_B_0 = np.empty((8, 8))\n",
    "B_0 = False\n",
    "\n",
    "for i in range(ACE_B_0.shape[0]):  \n",
    "    if Col[i][1] == '1' or Col[i][2] == '1' or B_0:   # 对A 进行判断\n",
    "        pa = np.array([0, 1])\n",
    "    else:\n",
    "        pa = np.array([1, 0])\n",
    "\n",
    "    if Col[i][0] == '1' or Col[i][2] == '1' :   # 对C 进行判断\n",
    "        pc = np.array([0, 1])\n",
    "    else:\n",
    "        pc = np.array([1, 0])\n",
    "        \n",
    "    if Col[i][0] == '1' or Col[i][1] == '1' :   # 对E 进行判断\n",
    "        pe = np.array([0, 1])\n",
    "    else:\n",
    "        pe = np.array([1, 0])\n",
    "\n",
    "    pc_pe = np.kron(pc, pe)\n",
    "    pa_pc_pe = np.kron(pa, pc_pe)\n",
    "   \n",
    "    ACE_B_0[i] = pa_pc_pe\n",
    "\n",
    "print(ACE_B_0)"
   ]
  },
  {
   "cell_type": "code",
   "execution_count": 7,
   "id": "5b3039da",
   "metadata": {},
   "outputs": [
    {
     "name": "stdout",
     "output_type": "stream",
     "text": [
      "[[0. 0. 0. 0. 1. 0. 0. 0.]\n",
      " [0. 0. 0. 0. 0. 0. 1. 0.]\n",
      " [0. 0. 0. 0. 0. 1. 0. 0.]\n",
      " [0. 0. 0. 0. 0. 0. 0. 1.]\n",
      " [0. 0. 0. 0. 0. 0. 0. 1.]\n",
      " [0. 0. 0. 0. 0. 0. 0. 1.]\n",
      " [0. 0. 0. 0. 0. 0. 0. 1.]\n",
      " [0. 0. 0. 0. 0. 0. 0. 1.]]\n"
     ]
    }
   ],
   "source": [
    "Col = ['{:03b}'.format(i) for i in range(8)]\n",
    "ACE_B_1 = np.empty((8, 8))\n",
    "B_1 = True\n",
    "for i in range(ACE_B_1.shape[0]):  \n",
    "    if Col[i][1] == '1' or Col[i][2] == '1' or B_1:   # 对A 进行判断\n",
    "        pa = np.array([0, 1])\n",
    "    else:\n",
    "        pa = np.array([1, 0])\n",
    "\n",
    "    if Col[i][0] == '1' or Col[i][2] == '1' :   # 对C 进行判断\n",
    "        pc = np.array([0, 1])\n",
    "    else:\n",
    "        pc = np.array([1, 0])\n",
    "        \n",
    "    if Col[i][0] == '1' or Col[i][1] == '1' :   # 对E 进行判断\n",
    "        pe = np.array([0, 1])\n",
    "    else:\n",
    "        pe = np.array([1, 0])\n",
    "\n",
    "    pc_pe = np.kron(pc, pe)\n",
    "    pa_pc_pe = np.kron(pa, pc_pe)\n",
    "   \n",
    "    ACE_B_1[i] = pa_pc_pe\n",
    "\n",
    "print(ACE_B_1)"
   ]
  },
  {
   "cell_type": "code",
   "execution_count": 8,
   "id": "53107adb",
   "metadata": {},
   "outputs": [
    {
     "data": {
      "text/plain": [
       "2.0"
      ]
     },
     "execution_count": 8,
     "metadata": {},
     "output_type": "execute_result"
    }
   ],
   "source": [
    "ACE_B_0_ei = tpm_ei(ACE_B_0, log_base = 2)  #同质、B为0的时候ACE的ei\n",
    "ACE_B_0_ei"
   ]
  },
  {
   "cell_type": "code",
   "execution_count": 9,
   "id": "e08cb080",
   "metadata": {},
   "outputs": [
    {
     "data": {
      "text/plain": [
       "1.5487949406953987"
      ]
     },
     "execution_count": 9,
     "metadata": {},
     "output_type": "execute_result"
    }
   ],
   "source": [
    "ACE_B_1_ei = tpm_ei(ACE_B_1, log_base = 2)  #同质、B为1的时候ACE的ei\n",
    "ACE_B_1_ei"
   ]
  },
  {
   "cell_type": "code",
   "execution_count": 10,
   "id": "a4a47ef3",
   "metadata": {},
   "outputs": [
    {
     "data": {
      "text/plain": [
       "1.7743974703476995"
      ]
     },
     "execution_count": 10,
     "metadata": {},
     "output_type": "execute_result"
    }
   ],
   "source": [
    "ACE_B_ei = (ACE_B_0_ei + ACE_B_1_ei) / 2   #异质、ACE的ei\n",
    "ACE_B_ei"
   ]
  },
  {
   "cell_type": "markdown",
   "id": "1668f1c7",
   "metadata": {},
   "source": [
    "## BDF"
   ]
  },
  {
   "cell_type": "code",
   "execution_count": 11,
   "id": "e49e80a8",
   "metadata": {},
   "outputs": [
    {
     "name": "stdout",
     "output_type": "stream",
     "text": [
      "[[0.729 0.081 0.081 0.009 0.081 0.009 0.009 0.001]\n",
      " [0.009 0.001 0.081 0.009 0.081 0.009 0.729 0.081]\n",
      " [0.009 0.081 0.001 0.009 0.081 0.729 0.009 0.081]\n",
      " [0.001 0.009 0.009 0.081 0.009 0.081 0.081 0.729]\n",
      " [0.009 0.081 0.081 0.729 0.001 0.009 0.009 0.081]\n",
      " [0.001 0.009 0.009 0.081 0.009 0.081 0.081 0.729]\n",
      " [0.001 0.009 0.009 0.081 0.009 0.081 0.081 0.729]\n",
      " [0.001 0.009 0.009 0.081 0.009 0.081 0.081 0.729]]\n"
     ]
    }
   ],
   "source": [
    "Col = ['{:03b}'.format(i) for i in range(8)]\n",
    "BDF_A_0 = np.empty((8, 8))\n",
    "A_0 = False\n",
    "\n",
    "for i in range(BDF_A_0.shape[0]):  \n",
    "    if Col[i][1] == '1' or Col[i][2] == '1' or A_0:   # 对B 进行判断\n",
    "        pb = np.array([0.1, 0.9])\n",
    "    else:\n",
    "        pb = np.array([0.9, 0.1])\n",
    "\n",
    "    if Col[i][0] == '1' or Col[i][2] == '1' :   # 对D 进行判断\n",
    "        pd = np.array([0.1, 0.9])\n",
    "    else:\n",
    "        pd = np.array([0.9, 0.1])\n",
    "        \n",
    "    if Col[i][0] == '1' or Col[i][1] == '1' :   # 对F 进行判断\n",
    "        pf = np.array([0.1, 0.9])\n",
    "    else:\n",
    "        pf = np.array([0.9, 0.1])\n",
    "\n",
    "    pd_pf = np.kron(pd, pf)\n",
    "    pb_pd_pf = np.kron(pb, pd_pf)\n",
    "   \n",
    "    BDF_A_0[i] = pb_pd_pf\n",
    "\n",
    "print(BDF_A_0)"
   ]
  },
  {
   "cell_type": "code",
   "execution_count": 12,
   "id": "b5daea84",
   "metadata": {},
   "outputs": [
    {
     "name": "stdout",
     "output_type": "stream",
     "text": [
      "[[0.081 0.009 0.009 0.001 0.729 0.081 0.081 0.009]\n",
      " [0.009 0.001 0.081 0.009 0.081 0.009 0.729 0.081]\n",
      " [0.009 0.081 0.001 0.009 0.081 0.729 0.009 0.081]\n",
      " [0.001 0.009 0.009 0.081 0.009 0.081 0.081 0.729]\n",
      " [0.001 0.009 0.009 0.081 0.009 0.081 0.081 0.729]\n",
      " [0.001 0.009 0.009 0.081 0.009 0.081 0.081 0.729]\n",
      " [0.001 0.009 0.009 0.081 0.009 0.081 0.081 0.729]\n",
      " [0.001 0.009 0.009 0.081 0.009 0.081 0.081 0.729]]\n"
     ]
    }
   ],
   "source": [
    "Col = ['{:03b}'.format(i) for i in range(8)]\n",
    "BDF_A_1 = np.empty((8, 8))\n",
    "A_1 = True\n",
    "\n",
    "for i in range(BDF_A_1.shape[0]):  \n",
    "    if Col[i][1] == '1' or Col[i][2] == '1' or A_1:   # 对B 进行判断\n",
    "        pb = np.array([0.1, 0.9])\n",
    "    else:\n",
    "        pb = np.array([0.9, 0.1])\n",
    "\n",
    "    if Col[i][0] == '1' or Col[i][2] == '1' :   # 对D 进行判断\n",
    "        pd = np.array([0.1, 0.9])\n",
    "    else:\n",
    "        pd = np.array([0.9, 0.1])\n",
    "        \n",
    "    if Col[i][0] == '1' or Col[i][1] == '1' :   # 对F 进行判断\n",
    "        pf = np.array([0.1, 0.9])\n",
    "    else:\n",
    "        pf = np.array([0.9, 0.1])\n",
    "\n",
    "    pd_pf = np.kron(pd, pf)\n",
    "    pb_pd_pf = np.kron(pb, pd_pf)\n",
    "   \n",
    "    BDF_A_1[i] = pb_pd_pf\n",
    "\n",
    "print(BDF_A_1)"
   ]
  },
  {
   "cell_type": "code",
   "execution_count": 13,
   "id": "70c7c632",
   "metadata": {},
   "outputs": [
    {
     "data": {
      "text/plain": [
       "1.1228211945075317"
      ]
     },
     "execution_count": 13,
     "metadata": {},
     "output_type": "execute_result"
    }
   ],
   "source": [
    "BDF_A_0_ei = tpm_ei(BDF_A_0, log_base = 2)  #同质、A为0的时候BDF的ei\n",
    "BDF_A_0_ei"
   ]
  },
  {
   "cell_type": "code",
   "execution_count": 14,
   "id": "355d02d2",
   "metadata": {},
   "outputs": [
    {
     "data": {
      "text/plain": [
       "0.7992726322942094"
      ]
     },
     "execution_count": 14,
     "metadata": {},
     "output_type": "execute_result"
    }
   ],
   "source": [
    "BDF_A_1_ei = tpm_ei(BDF_A_1, log_base = 2)  #同质、A为0的时候BDF的ei\n",
    "BDF_A_1_ei"
   ]
  },
  {
   "cell_type": "code",
   "execution_count": 15,
   "id": "c49bd51e",
   "metadata": {},
   "outputs": [
    {
     "data": {
      "text/plain": [
       "0.9610469134008706"
      ]
     },
     "execution_count": 15,
     "metadata": {},
     "output_type": "execute_result"
    }
   ],
   "source": [
    "BDF_A_ei =(BDF_A_0_ei + BDF_A_1_ei) / 2         #异质、BDF的ei\n",
    "BDF_A_ei"
   ]
  },
  {
   "cell_type": "code",
   "execution_count": null,
   "id": "12ec8f34",
   "metadata": {},
   "outputs": [],
   "source": []
  },
  {
   "cell_type": "markdown",
   "id": "5b4c7eb7",
   "metadata": {},
   "source": [
    "```python\n",
    "\n",
    "均采用   或   运算、ACE无噪音、BDF的噪音为0.1\n",
    "\n",
    "          局部节点     邻居节点        ei值\n",
    "- - - - - - - - - - - - - - - - - - - - - - - - - - - - - - \n",
    "  ABCDEF      -         -            2.9008312476221096\n",
    "- - - - - - - - - - - - - - - - - - - - - - - - - - - - - -\n",
    "ACE_B_0_ei    ACE       B(B=0)         2.0\n",
    "ACE_B_1_ei    ACE       B(B=1)          1.5487949406953987\n",
    " ACE_B_ei     ACE       B(异质)         1.7743974703476995\n",
    "- - - - - - - - - - - - - - - - - - - - - - - - - - - - - - \n",
    "BDF_A_0_ei    BDF       A(A=0)          1.1228211945075315\n",
    "BDF_A_1_ei    BDF       A(A=1)          0.7992726322942094\n",
    " BDF_A_ei     BDF       A(异质)          0.9610469134008705\n",
    "\n",
    "```"
   ]
  },
  {
   "cell_type": "code",
   "execution_count": null,
   "id": "bf620e8c",
   "metadata": {},
   "outputs": [],
   "source": []
  },
  {
   "cell_type": "markdown",
   "id": "cb87cb18",
   "metadata": {},
   "source": [
    "# ACE与——BDF与"
   ]
  },
  {
   "cell_type": "markdown",
   "id": "9757fd2b",
   "metadata": {},
   "source": [
    "## 整体"
   ]
  },
  {
   "cell_type": "code",
   "execution_count": 16,
   "id": "92f2d99d",
   "metadata": {},
   "outputs": [],
   "source": [
    "Col = ['{:06b}'.format(i) for i in range(64)]\n",
    "ABCDEF = np.empty((64, 64))\n",
    "for i in range(ABCDEF.shape[0]):\n",
    "    if Col[i][1] == '1' and Col[i][2] == '1' and Col[i][4] == '1':   # 对A 进行判断\n",
    "        pa = np.array([0, 1])\n",
    "    else:\n",
    "        pa = np.array([1, 0]) \n",
    "    if Col[i][0] == '1' and Col[i][3] == '1' and Col[i][5] == '1':   # 对B 进行判断\n",
    "        pb = np.array([0.1, 0.9])\n",
    "    else:\n",
    "        pb = np.array([0.9, 0.1])\n",
    "    if Col[i][0] == '1' and Col[i][4] == '1' :   # 对C 进行判断\n",
    "        pc = np.array([0, 1])\n",
    "    else:\n",
    "        pc = np.array([1, 0])\n",
    "    if Col[i][1] == '1' and Col[i][5] == '1' :   # 对D 进行判断\n",
    "        pd = np.array([0.1, 0.9])\n",
    "    else:\n",
    "        pd = np.array([0.9, 0.1])\n",
    "    if Col[i][0] == '1' and Col[i][2] == '1' :   # 对E 进行判断\n",
    "        pe = np.array([0, 1])\n",
    "    else:\n",
    "        pe = np.array([1, 0])\n",
    "    if Col[i][1] == '1' and Col[i][3] == '1' :   # 对F 进行判断\n",
    "        pf = np.array([0.1, 0.9])\n",
    "    else:\n",
    "        pf = np.array([0.9, 0.1])\n",
    "    pa_pb_pc_pd_pe_pf = np.kron(pa, np.kron(pb, np.kron(pc, np.kron(pd, np.kron(pe, pf)))))\n",
    "    ABCDEF[i] = pa_pb_pc_pd_pe_pf\n"
   ]
  },
  {
   "cell_type": "code",
   "execution_count": 17,
   "id": "6083b481",
   "metadata": {},
   "outputs": [
    {
     "name": "stdout",
     "output_type": "stream",
     "text": [
      "2.9008312476221096\n"
     ]
    }
   ],
   "source": [
    "print(tpm_ei(ABCDEF, log_base = 2))"
   ]
  },
  {
   "cell_type": "markdown",
   "id": "3bebd717",
   "metadata": {},
   "source": [
    "## ACE"
   ]
  },
  {
   "cell_type": "code",
   "execution_count": 18,
   "id": "6285d07e",
   "metadata": {},
   "outputs": [],
   "source": [
    "#ACE\n",
    "Col = ['{:03b}'.format(i) for i in range(8)]\n",
    "ACE_B_0 = np.empty((8, 8))\n",
    "B_0 = False\n",
    "\n",
    "for i in range(ACE_B_0.shape[0]):  \n",
    "    if Col[i][1] == '1' and Col[i][2] == '1' and B_0:   # 对A 进行判断\n",
    "        pa = np.array([0, 1])\n",
    "    else:\n",
    "        pa = np.array([1, 0])\n",
    "    if Col[i][0] == '1' and Col[i][2] == '1' :   # 对C 进行判断\n",
    "        pc = np.array([0, 1])\n",
    "    else:\n",
    "        pc = np.array([1, 0])\n",
    "    if Col[i][0] == '1' and Col[i][1] == '1' :   # 对E 进行判断\n",
    "        pe = np.array([0, 1])\n",
    "    else:\n",
    "        pe = np.array([1, 0])\n",
    "    pa_pc_pe = np.kron(pa, np.kron(pc, pe))\n",
    "    ACE_B_0[i] = pa_pc_pe\n",
    "\n",
    "    \n",
    "ACE_B_1 = np.empty((8, 8))\n",
    "B_1 = True\n",
    "for i in range(ACE_B_1.shape[0]):  \n",
    "    if Col[i][1] == '1' and Col[i][2] == '1' and B_1:   # 对A 进行判断\n",
    "        pa = np.array([0, 1])\n",
    "    else:\n",
    "        pa = np.array([1, 0])\n",
    "    if Col[i][0] == '1' and Col[i][2] == '1' :   # 对C 进行判断\n",
    "        pc = np.array([0, 1])\n",
    "    else:\n",
    "        pc = np.array([1, 0])\n",
    "    if Col[i][0] == '1' and Col[i][1] == '1' :   # 对E 进行判断\n",
    "        pe = np.array([0, 1])\n",
    "    else:\n",
    "        pe = np.array([1, 0])\n",
    "    pa_pc_pe = np.kron(pa, np.kron(pc, pe))\n",
    "    ACE_B_1[i] = pa_pc_pe\n"
   ]
  },
  {
   "cell_type": "code",
   "execution_count": 19,
   "id": "c8c026aa",
   "metadata": {},
   "outputs": [
    {
     "name": "stdout",
     "output_type": "stream",
     "text": [
      "1.5487949406953987\n",
      "2.0\n",
      "1.7743974703476995\n"
     ]
    }
   ],
   "source": [
    "print(tpm_ei(ACE_B_0, log_base = 2))  #同质、B为0的时候ACE的ei\n",
    "print(tpm_ei(ACE_B_1, log_base = 2))  #同质、B为1的时候ACE的ei\n",
    "print((tpm_ei(ACE_B_0, log_base = 2) + tpm_ei(ACE_B_1, log_base = 2)) / 2)   #异质、ACE的ei"
   ]
  },
  {
   "cell_type": "markdown",
   "id": "61767bdf",
   "metadata": {},
   "source": [
    "## BDF"
   ]
  },
  {
   "cell_type": "code",
   "execution_count": 20,
   "id": "57955dfa",
   "metadata": {},
   "outputs": [],
   "source": [
    "Col = ['{:03b}'.format(i) for i in range(8)]\n",
    "BDF_A_0 = np.empty((8, 8))\n",
    "A_0 = False\n",
    "for i in range(BDF_A_0.shape[0]):  \n",
    "    if Col[i][1] == '1' and Col[i][2] == '1' and A_0:   # 对B 进行判断\n",
    "        pb = np.array([0.1, 0.9])\n",
    "    else:\n",
    "        pb = np.array([0.9, 0.1])\n",
    "    if Col[i][0] == '1' and Col[i][2] == '1' :   # 对D 进行判断\n",
    "        pd = np.array([0.1, 0.9])\n",
    "    else:\n",
    "        pd = np.array([0.9, 0.1]) \n",
    "    if Col[i][0] == '1' and Col[i][1] == '1' :   # 对F 进行判断\n",
    "        pf = np.array([0.1, 0.9])\n",
    "    else:\n",
    "        pf = np.array([0.9, 0.1])\n",
    "    pb_pd_pf = np.kron(pb, np.kron(pd, pf))\n",
    "    BDF_A_0[i] = pb_pd_pf\n",
    "\n",
    "    \n",
    "BDF_A_1 = np.empty((8, 8))\n",
    "A_1 = True\n",
    "for i in range(BDF_A_1.shape[0]):  \n",
    "    if Col[i][1] == '1' and Col[i][2] == '1' and A_1:   # 对B 进行判断\n",
    "        pb = np.array([0.1, 0.9])\n",
    "    else:\n",
    "        pb = np.array([0.9, 0.1])\n",
    "    if Col[i][0] == '1' and Col[i][2] == '1' :   # 对D 进行判断\n",
    "        pd = np.array([0.1, 0.9])\n",
    "    else:\n",
    "        pd = np.array([0.9, 0.1])\n",
    "    if Col[i][0] == '1' and Col[i][1] == '1' :   # 对F 进行判断\n",
    "        pf = np.array([0.1, 0.9])\n",
    "    else:\n",
    "        pf = np.array([0.9, 0.1])\n",
    "    pb_pd_pf = np.kron(pb, np.kron(pd, pf))\n",
    "    BDF_A_1[i] = pb_pd_pf\n"
   ]
  },
  {
   "cell_type": "code",
   "execution_count": 21,
   "id": "3a3361b4",
   "metadata": {},
   "outputs": [
    {
     "name": "stdout",
     "output_type": "stream",
     "text": [
      "0.7992726322942094\n",
      "1.1228211945075317\n",
      "0.9610469134008706\n"
     ]
    }
   ],
   "source": [
    "print(tpm_ei(BDF_A_0, log_base = 2))  #同质、A为0的时候BDF的ei\n",
    "print(tpm_ei(BDF_A_1, log_base = 2))  #同质、A为0的时候BDF的ei\n",
    "print((tpm_ei(BDF_A_0, log_base = 2) + tpm_ei(BDF_A_1, log_base = 2)) / 2)  #异质、BDF的ei"
   ]
  },
  {
   "cell_type": "markdown",
   "id": "703f09aa",
   "metadata": {},
   "source": [
    "```python\n",
    "\n",
    "均采用   与   运算、ACE无噪音、BDF的噪音为0.1\n",
    "\n",
    "          局部节点     邻居节点        ei值\n",
    "- - - - - - - - - - - - - - - - - - - - - - - - - - - - - - \n",
    "  ABCDEF      -         -           2.9008312476221096\n",
    "- - - - - - - - - - - - - - - - - - - - - - - - - - - - - -\n",
    "ACE_B_0_ei    ACE       B(B=0)          1.5487949406953987\n",
    "ACE_B_1_ei    ACE       B(B=1)          2.0\n",
    " ACE_B_ei     ACE       B(异质)         1.7743974703476995\n",
    "- - - - - - - - - - - - - - - - - - - - - - - - - - - - - - \n",
    "BDF_A_0_ei    BDF       A(A=0)          0.7992726322942094\n",
    "BDF_A_1_ei    BDF       A(A=1)          1.1228211945075317\n",
    " BDF_A_ei     BDF       A(异质)          0.9610469134008706\n",
    "\n",
    "```"
   ]
  },
  {
   "cell_type": "markdown",
   "id": "35ed8d35",
   "metadata": {},
   "source": [
    "# ACE异或——BDF异或"
   ]
  },
  {
   "cell_type": "markdown",
   "id": "ba0138fc",
   "metadata": {},
   "source": [
    "## 整体"
   ]
  },
  {
   "cell_type": "code",
   "execution_count": 22,
   "id": "03962ee4",
   "metadata": {},
   "outputs": [],
   "source": [
    "Col = ['{:06b}'.format(i) for i in range(64)]\n",
    "ABCDEF = np.empty((64, 64))\n",
    "for i in range(ABCDEF.shape[0]):\n",
    "    if (Col[i][1] == '1') ^ (Col[i][2] == '1') ^ (Col[i][4] == '1'):   # 对A 进行判断\n",
    "        pa = np.array([0, 1])\n",
    "    else:\n",
    "        pa = np.array([1, 0]) \n",
    "    if (Col[i][0] == '1') ^ (Col[i][3] == '1') ^ (Col[i][5] == '1'):   # 对B 进行判断\n",
    "        pb = np.array([0.1, 0.9])\n",
    "    else:\n",
    "        pb = np.array([0.9, 0.1])\n",
    "    if (Col[i][0] == '1') ^ (Col[i][4] == '1') :   # 对C 进行判断\n",
    "        pc = np.array([0, 1])\n",
    "    else:\n",
    "        pc = np.array([1, 0])\n",
    "    if (Col[i][1] == '1') ^ (Col[i][5] == '1') :   # 对D 进行判断\n",
    "        pd = np.array([0.1, 0.9])\n",
    "    else:\n",
    "        pd = np.array([0.9, 0.1])\n",
    "    if (Col[i][0] == '1') ^ (Col[i][2] == '1') :   # 对E 进行判断\n",
    "        pe = np.array([0, 1])\n",
    "    else:\n",
    "        pe = np.array([1, 0])\n",
    "    if (Col[i][1] == '1') ^ (Col[i][3] == '1') :   # 对F 进行判断\n",
    "        pf = np.array([0.1, 0.9])\n",
    "    else:\n",
    "        pf = np.array([0.9, 0.1])\n",
    "    pa_pb_pc_pd_pe_pf = np.kron(pa, np.kron(pb, np.kron(pc, np.kron(pd, np.kron(pe, pf)))))\n",
    "    ABCDEF[i] = pa_pb_pc_pd_pe_pf\n"
   ]
  },
  {
   "cell_type": "code",
   "execution_count": 23,
   "id": "fee33360",
   "metadata": {},
   "outputs": [
    {
     "name": "stdout",
     "output_type": "stream",
     "text": [
      "4.593013219232156\n"
     ]
    }
   ],
   "source": [
    "print(tpm_ei(ABCDEF, log_base = 2))"
   ]
  },
  {
   "cell_type": "markdown",
   "id": "a85a2d21",
   "metadata": {},
   "source": [
    "## ACE"
   ]
  },
  {
   "cell_type": "code",
   "execution_count": 24,
   "id": "b65404cd",
   "metadata": {},
   "outputs": [],
   "source": [
    "#ACE\n",
    "Col = ['{:03b}'.format(i) for i in range(8)]\n",
    "ACE_B_0 = np.empty((8, 8))\n",
    "B_0 = False\n",
    "\n",
    "for i in range(ACE_B_0.shape[0]):  \n",
    "    if (Col[i][1] == '1') ^ (Col[i][2] == '1') ^ B_0:   # 对A 进行判断\n",
    "        pa = np.array([0, 1])\n",
    "    else:\n",
    "        pa = np.array([1, 0])\n",
    "    if (Col[i][0] == '1') ^ (Col[i][2] == '1') :   # 对C 进行判断\n",
    "        pc = np.array([0, 1])\n",
    "    else:\n",
    "        pc = np.array([1, 0])\n",
    "    if (Col[i][0] == '1') ^ (Col[i][1] == '1') :   # 对E 进行判断\n",
    "        pe = np.array([0, 1])\n",
    "    else:\n",
    "        pe = np.array([1, 0])\n",
    "    pa_pc_pe = np.kron(pa, np.kron(pc, pe))\n",
    "    ACE_B_0[i] = pa_pc_pe\n",
    "\n",
    "    \n",
    "ACE_B_1 = np.empty((8, 8))\n",
    "B_1 = True\n",
    "for i in range(ACE_B_1.shape[0]):  \n",
    "    if (Col[i][1] == '1') ^ (Col[i][2] == '1') ^ B_1:   # 对A 进行判断\n",
    "        pa = np.array([0, 1])\n",
    "    else:\n",
    "        pa = np.array([1, 0])\n",
    "    if (Col[i][0] == '1') ^ (Col[i][2] == '1') :   # 对C 进行判断\n",
    "        pc = np.array([0, 1])\n",
    "    else:\n",
    "        pc = np.array([1, 0])\n",
    "    if (Col[i][0] == '1') ^ (Col[i][1] == '1') :   # 对E 进行判断\n",
    "        pe = np.array([0, 1])\n",
    "    else:\n",
    "        pe = np.array([1, 0])\n",
    "    pa_pc_pe = np.kron(pa, np.kron(pc, pe))\n",
    "    ACE_B_1[i] = pa_pc_pe\n"
   ]
  },
  {
   "cell_type": "code",
   "execution_count": 25,
   "id": "928c3724",
   "metadata": {},
   "outputs": [
    {
     "name": "stdout",
     "output_type": "stream",
     "text": [
      "2.0\n",
      "2.0\n",
      "2.0\n"
     ]
    }
   ],
   "source": [
    "print(tpm_ei(ACE_B_0, log_base = 2))  #同质、B为0的时候ACE的ei\n",
    "print(tpm_ei(ACE_B_1, log_base = 2))  #同质、B为1的时候ACE的ei\n",
    "print((tpm_ei(ACE_B_0, log_base = 2) + tpm_ei(ACE_B_1, log_base = 2)) / 2)   #异质、ACE的ei"
   ]
  },
  {
   "cell_type": "markdown",
   "id": "40fe48bf",
   "metadata": {},
   "source": [
    "## BDF"
   ]
  },
  {
   "cell_type": "code",
   "execution_count": 26,
   "id": "c2363d34",
   "metadata": {},
   "outputs": [],
   "source": [
    "Col = ['{:03b}'.format(i) for i in range(8)]\n",
    "BDF_A_0 = np.empty((8, 8))\n",
    "A_0 = False\n",
    "for i in range(BDF_A_0.shape[0]):  \n",
    "    if (Col[i][1] == '1') ^ (Col[i][2] == '1') ^ A_0:   # 对B 进行判断\n",
    "        pb = np.array([0.1, 0.9])\n",
    "    else:\n",
    "        pb = np.array([0.9, 0.1])\n",
    "    if (Col[i][0] == '1') ^ (Col[i][2] == '1') :   # 对D 进行判断\n",
    "        pd = np.array([0.1, 0.9])\n",
    "    else:\n",
    "        pd = np.array([0.9, 0.1]) \n",
    "    if (Col[i][0] == '1') ^ (Col[i][1] == '1') :   # 对F 进行判断\n",
    "        pf = np.array([0.1, 0.9])\n",
    "    else:\n",
    "        pf = np.array([0.9, 0.1])\n",
    "    pb_pd_pf = np.kron(pb, np.kron(pd, pf))\n",
    "    BDF_A_0[i] = pb_pd_pf\n",
    "\n",
    "    \n",
    "BDF_A_1 = np.empty((8, 8))\n",
    "A_1 = True\n",
    "for i in range(BDF_A_1.shape[0]):  \n",
    "    if (Col[i][1] == '1') ^ (Col[i][2] == '1') ^ A_1:   # 对B 进行判断\n",
    "        pb = np.array([0.1, 0.9])\n",
    "    else:\n",
    "        pb = np.array([0.9, 0.1])\n",
    "    if (Col[i][0] == '1') ^ (Col[i][2] == '1') :   # 对D 进行判断\n",
    "        pd = np.array([0.1, 0.9])\n",
    "    else:\n",
    "        pd = np.array([0.9, 0.1])\n",
    "    if (Col[i][0] == '1') ^ (Col[i][1] == '1') :   # 对F 进行判断\n",
    "        pf = np.array([0.1, 0.9])\n",
    "    else:\n",
    "        pf = np.array([0.9, 0.1])\n",
    "    pb_pd_pf = np.kron(pb, np.kron(pd, pf))\n",
    "    BDF_A_1[i] = pb_pd_pf\n"
   ]
  },
  {
   "cell_type": "code",
   "execution_count": 27,
   "id": "38201e57",
   "metadata": {},
   "outputs": [
    {
     "name": "stdout",
     "output_type": "stream",
     "text": [
      "1.3946423208177685\n",
      "1.3946423208177685\n",
      "1.3946423208177685\n"
     ]
    }
   ],
   "source": [
    "print(tpm_ei(BDF_A_0, log_base = 2))  #同质、A为0的时候BDF的ei\n",
    "print(tpm_ei(BDF_A_1, log_base = 2))  #同质、A为0的时候BDF的ei\n",
    "print((tpm_ei(BDF_A_0, log_base = 2) + tpm_ei(BDF_A_1, log_base = 2)) / 2)  #异质、BDF的ei"
   ]
  },
  {
   "cell_type": "markdown",
   "id": "947d4010",
   "metadata": {},
   "source": [
    "```python\n",
    "\n",
    "均采用   异或   运算、ACE无噪音、BDF的噪音为0.1\n",
    "\n",
    "          局部节点     邻居节点        ei值\n",
    "- - - - - - - - - - - - - - - - - - - - - - - - - - - - - - \n",
    "  ABCDEF      -         -           4.593013219232156\n",
    "- - - - - - - - - - - - - - - - - - - - - - - - - - - - - -\n",
    "ACE_B_0_ei    ACE       B(B=0)          2.0\n",
    "ACE_B_1_ei    ACE       B(B=1)          2.0\n",
    " ACE_B_ei     ACE       B(异质)         2.0\n",
    "- - - - - - - - - - - - - - - - - - - - - - - - - - - - - - \n",
    "BDF_A_0_ei    BDF       A(A=0)         1.3946423208177685\n",
    "BDF_A_1_ei    BDF       A(A=1)         1.3946423208177685\n",
    " BDF_A_ei     BDF       A(异质)         1.3946423208177685\n",
    "\n",
    "```"
   ]
  },
  {
   "cell_type": "markdown",
   "id": "7b81d8f7",
   "metadata": {},
   "source": [
    "# ACE同或——BDF同或"
   ]
  },
  {
   "cell_type": "markdown",
   "id": "3a940892",
   "metadata": {},
   "source": [
    "## 整体"
   ]
  },
  {
   "cell_type": "code",
   "execution_count": 28,
   "id": "5d7930e3",
   "metadata": {},
   "outputs": [],
   "source": [
    "Col = ['{:06b}'.format(i) for i in range(64)]\n",
    "ABCDEF = np.empty((64, 64))\n",
    "for i in range(ABCDEF.shape[0]):\n",
    "    if (Col[i][1] == '1') ^ (Col[i][2] == '1') ^ (Col[i][4] == '1'):   # 对A 进行判断    同或异或一样\n",
    "        pa = np.array([0, 1])\n",
    "    else:\n",
    "        pa = np.array([1, 0]) \n",
    "    if (Col[i][0] == '1') ^ (Col[i][3] == '1') ^ (Col[i][5] == '1'):   # 对B 进行判断\n",
    "        pb = np.array([0.1, 0.9])\n",
    "    else:\n",
    "        pb = np.array([0.9, 0.1])\n",
    "        \n",
    "    if (Col[i][0] == '1') ^ (Col[i][4] == '1') :   # 对C 进行判断     概率相反\n",
    "        pc = np.array([1, 0])\n",
    "    else:\n",
    "        pc = np.array([0, 1])\n",
    "    if (Col[i][1] == '1') ^ (Col[i][5] == '1') :   # 对D 进行判断\n",
    "        pd = np.array([0.9, 0.1])\n",
    "    else:\n",
    "        pd = np.array([0.1, 0.9])\n",
    "    if (Col[i][0] == '1') ^ (Col[i][2] == '1') :   # 对E 进行判断\n",
    "        pe = np.array([1, 0])\n",
    "    else:\n",
    "        pe = np.array([0, 1])\n",
    "    if (Col[i][1] == '1') ^ (Col[i][3] == '1') :   # 对F 进行判断\n",
    "        pf = np.array([0.9, 0.1])\n",
    "    else:\n",
    "        pf = np.array([0.1, 0.9])\n",
    "    pa_pb_pc_pd_pe_pf = np.kron(pa, np.kron(pb, np.kron(pc, np.kron(pd, np.kron(pe, pf)))))\n",
    "    ABCDEF[i] = pa_pb_pc_pd_pe_pf\n"
   ]
  },
  {
   "cell_type": "code",
   "execution_count": 29,
   "id": "fb7dbdbf",
   "metadata": {},
   "outputs": [
    {
     "name": "stdout",
     "output_type": "stream",
     "text": [
      "4.593013219232156\n"
     ]
    }
   ],
   "source": [
    "print(tpm_ei(ABCDEF, log_base = 2))"
   ]
  },
  {
   "cell_type": "markdown",
   "id": "8604fd15",
   "metadata": {},
   "source": [
    "## ACE"
   ]
  },
  {
   "cell_type": "code",
   "execution_count": 30,
   "id": "01e3990f",
   "metadata": {},
   "outputs": [],
   "source": [
    "#ACE\n",
    "Col = ['{:03b}'.format(i) for i in range(8)]\n",
    "ACE_B_0 = np.empty((8, 8))\n",
    "B_0 = False\n",
    "\n",
    "for i in range(ACE_B_0.shape[0]):  \n",
    "    if (Col[i][1] == '1') ^ (Col[i][2] == '1') ^ B_0:   # 对A 进行判断\n",
    "        pa = np.array([0, 1])\n",
    "    else:\n",
    "        pa = np.array([1, 0])\n",
    "    if (Col[i][0] == '1') ^ (Col[i][2] == '1') :   # 对C 进行判断\n",
    "        pc = np.array([1, 0])\n",
    "    else:\n",
    "        pc = np.array([0, 1])\n",
    "    if (Col[i][0] == '1') ^ (Col[i][1] == '1') :   # 对E 进行判断\n",
    "        pe = np.array([1, 0])\n",
    "    else:\n",
    "        pe = np.array([0, 1])\n",
    "    pa_pc_pe = np.kron(pa, np.kron(pc, pe))\n",
    "    ACE_B_0[i] = pa_pc_pe\n",
    "\n",
    "    \n",
    "ACE_B_1 = np.empty((8, 8))\n",
    "B_1 = True\n",
    "for i in range(ACE_B_1.shape[0]):  \n",
    "    if (Col[i][1] == '1') ^ (Col[i][2] == '1') ^ B_1:   # 对A 进行判断\n",
    "        pa = np.array([0, 1])\n",
    "    else:\n",
    "        pa = np.array([1, 0])\n",
    "    if (Col[i][0] == '1') ^ (Col[i][2] == '1') :   # 对C 进行判断\n",
    "        pc = np.array([1, 0])\n",
    "    else:\n",
    "        pc = np.array([0, 1])\n",
    "    if (Col[i][0] == '1') ^ (Col[i][1] == '1') :   # 对E 进行判断\n",
    "        pe = np.array([1, 0])\n",
    "    else:\n",
    "        pe = np.array([0, 1])\n",
    "    pa_pc_pe = np.kron(pa, np.kron(pc, pe))\n",
    "    ACE_B_1[i] = pa_pc_pe\n"
   ]
  },
  {
   "cell_type": "code",
   "execution_count": 31,
   "id": "a54353d1",
   "metadata": {},
   "outputs": [
    {
     "name": "stdout",
     "output_type": "stream",
     "text": [
      "2.0\n",
      "2.0\n",
      "2.0\n"
     ]
    }
   ],
   "source": [
    "print(tpm_ei(ACE_B_0, log_base = 2))  #同质、B为0的时候ACE的ei\n",
    "print(tpm_ei(ACE_B_1, log_base = 2))  #同质、B为1的时候ACE的ei\n",
    "print((tpm_ei(ACE_B_0, log_base = 2) + tpm_ei(ACE_B_1, log_base = 2)) / 2)   #异质、ACE的ei"
   ]
  },
  {
   "cell_type": "markdown",
   "id": "c883723a",
   "metadata": {},
   "source": [
    "## BDF"
   ]
  },
  {
   "cell_type": "code",
   "execution_count": 32,
   "id": "6cd4ffa9",
   "metadata": {},
   "outputs": [],
   "source": [
    "Col = ['{:03b}'.format(i) for i in range(8)]\n",
    "BDF_A_0 = np.empty((8, 8))\n",
    "A_0 = False\n",
    "for i in range(BDF_A_0.shape[0]):  \n",
    "    if (Col[i][1] == '1') ^ (Col[i][2] == '1') ^ A_0:   # 对B 进行判断\n",
    "        pb = np.array([0.1, 0.9])\n",
    "    else:\n",
    "        pb = np.array([0.9, 0.1])\n",
    "    if (Col[i][0] == '1') ^ (Col[i][2] == '1') :   # 对D 进行判断\n",
    "        pd = np.array([0.9, 0.1])\n",
    "    else:\n",
    "        pd = np.array([0.1, 0.9]) \n",
    "    if (Col[i][0] == '1') ^ (Col[i][1] == '1') :   # 对F 进行判断\n",
    "        pf = np.array([0.9, 0.1])\n",
    "    else:\n",
    "        pf = np.array([0.1, 0.9])\n",
    "    pb_pd_pf = np.kron(pb, np.kron(pd, pf))\n",
    "    BDF_A_0[i] = pb_pd_pf\n",
    "\n",
    "    \n",
    "BDF_A_1 = np.empty((8, 8))\n",
    "A_1 = True\n",
    "for i in range(BDF_A_1.shape[0]):  \n",
    "    if (Col[i][1] == '1') ^ (Col[i][2] == '1') ^ A_1:   # 对B 进行判断\n",
    "        pb = np.array([0.1, 0.9])\n",
    "    else:\n",
    "        pb = np.array([0.9, 0.1])\n",
    "    if (Col[i][0] == '1') ^ (Col[i][2] == '1') :   # 对D 进行判断\n",
    "        pd = np.array([0.9, 0.1])\n",
    "    else:\n",
    "        pd = np.array([0.1, 0.9])\n",
    "    if (Col[i][0] == '1') ^ (Col[i][1] == '1') :   # 对F 进行判断\n",
    "        pf = np.array([0.9, 0.1])\n",
    "    else:\n",
    "        pf = np.array([0.1, 0.9])\n",
    "    pb_pd_pf = np.kron(pb, np.kron(pd, pf))\n",
    "    BDF_A_1[i] = pb_pd_pf\n"
   ]
  },
  {
   "cell_type": "code",
   "execution_count": 33,
   "id": "a927f5ed",
   "metadata": {},
   "outputs": [
    {
     "name": "stdout",
     "output_type": "stream",
     "text": [
      "1.3946423208177685\n",
      "1.3946423208177685\n",
      "1.3946423208177685\n"
     ]
    }
   ],
   "source": [
    "print(tpm_ei(BDF_A_0, log_base = 2))  #同质、A为0的时候BDF的ei\n",
    "print(tpm_ei(BDF_A_1, log_base = 2))  #同质、A为0的时候BDF的ei\n",
    "print((tpm_ei(BDF_A_0, log_base = 2) + tpm_ei(BDF_A_1, log_base = 2)) / 2)  #异质、BDF的ei"
   ]
  },
  {
   "cell_type": "markdown",
   "id": "d7c88bff",
   "metadata": {},
   "source": [
    "```python\n",
    "\n",
    "均采用   同或  运算、ACE无噪音、BDF的噪音为0.1\n",
    "\n",
    "          局部节点     邻居节点        ei值\n",
    "- - - - - - - - - - - - - - - - - - - - - - - - - - - - - - \n",
    "  ABCDEF      -         -           4.593013219232156\n",
    "- - - - - - - - - - - - - - - - - - - - - - - - - - - - - -\n",
    "ACE_B_0_ei    ACE       B(B=0)          2.0\n",
    "ACE_B_1_ei    ACE       B(B=1)          2.0\n",
    " ACE_B_ei     ACE       B(异质)         2.0\n",
    "- - - - - - - - - - - - - - - - - - - - - - - - - - - - - - \n",
    "BDF_A_0_ei    BDF       A(A=0)          1.3946423208177685\n",
    "BDF_A_1_ei    BDF       A(A=1)         1.3946423208177685\n",
    " BDF_A_ei     BDF       A(异质)         1.3946423208177685\n",
    "\n",
    "```"
   ]
  },
  {
   "cell_type": "code",
   "execution_count": null,
   "id": "f057af02",
   "metadata": {},
   "outputs": [],
   "source": []
  }
 ],
 "metadata": {
  "kernelspec": {
   "display_name": "Python 3 (ipykernel)",
   "language": "python",
   "name": "python3"
  },
  "language_info": {
   "codemirror_mode": {
    "name": "ipython",
    "version": 3
   },
   "file_extension": ".py",
   "mimetype": "text/x-python",
   "name": "python",
   "nbconvert_exporter": "python",
   "pygments_lexer": "ipython3",
   "version": "3.10.14"
  }
 },
 "nbformat": 4,
 "nbformat_minor": 5
}
