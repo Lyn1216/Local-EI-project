{
 "cells": [
  {
   "cell_type": "code",
   "execution_count": 1,
   "id": "e3d38517",
   "metadata": {},
   "outputs": [
    {
     "name": "stdout",
     "output_type": "stream",
     "text": [
      "Copied 'Cortical Area Development_20862356.txt' to '1.txt'\n",
      "Copied 'Cortical Area Development_20862356.txt' to '2.txt'\n",
      "Copied 'Cortical Area Development_20862356.txt' to '3.txt'\n",
      "Copied 'Cortical Area Development_20862356.txt' to '4.txt'\n",
      "Copied 'Cortical Area Development_20862356.txt' to '5.txt'\n",
      "Copied 'Cortical Area Development_20862356.txt' to '6.txt'\n",
      "Copied 'Cortical Area Development_20862356.txt' to '7.txt'\n",
      "Copied 'Cortical Area Development_20862356.txt' to '8.txt'\n",
      "Copied 'Cortical Area Development_20862356.txt' to '9.txt'\n",
      "Copied 'Cortical Area Development_20862356.txt' to '10.txt'\n"
     ]
    }
   ],
   "source": [
    "import shutil\n",
    "import os\n",
    "\n",
    "# 原始文件路径\n",
    "original_file_path = 'Cortical Area Development_20862356.txt'\n",
    "\n",
    "# 获取原始文件的目录\n",
    "directory = os.path.dirname(original_file_path)\n",
    "\n",
    "# 原始文件名（不包含扩展名）\n",
    "#original_filename = os.path.splitext(os.path.basename(original_file_path))[0]\n",
    "\n",
    "# 复制文件10次\n",
    "for i in range(1, 11):\n",
    "    # 新文件名\n",
    "    new_filename = f\"{i}.txt\"\n",
    "    # 新文件完整路径\n",
    "    new_file_path = os.path.join(directory, new_filename)\n",
    "    # 复制文件\n",
    "    shutil.copy(original_file_path, new_file_path)\n",
    "    print(f\"Copied '{original_file_path}' to '{new_file_path}'\")"
   ]
  },
  {
   "cell_type": "code",
   "execution_count": 1,
   "id": "d4e7a7db",
   "metadata": {},
   "outputs": [],
   "source": [
    "import sys\n",
    "sys.path.append(\"..\")\n",
    "import load_database13 as db\n",
    "import numpy as np\n",
    "import networkx as nx\n",
    "import matplotlib.pyplot as plt\n",
    "from grn.grn_tpm import text_bn_graph\n",
    "from pathlib import Path"
   ]
  },
  {
   "cell_type": "code",
   "execution_count": 2,
   "id": "fb67fa84",
   "metadata": {},
   "outputs": [],
   "source": [
    "un_result = {}\n",
    "syn_result = {}\n",
    "ei_result = {}"
   ]
  },
  {
   "cell_type": "code",
   "execution_count": 7,
   "id": "006d1487",
   "metadata": {},
   "outputs": [],
   "source": [
    "directory = Path('Cortical_20862356/txtfiles')\n",
    "candi_sys = [0, 1, 2, 3, 4]\n",
    "for file_path in directory.rglob('*'):\n",
    "    print(file_path)\n",
    "    if file_path.is_file():\n",
    "        print(file_path)\n",
    "        print(1)\n",
    "        _,un_result[str(file_path)[8:-8]],syn_result[str(file_path)[8:-8]],ei_result[str(file_path)[8:-8]],_,_,_,_ =\\\n",
    "        text_bn_graph(textfile=str(file_path), candidate_sys=candi_sys, fill_onenode=True, noise=0.1, save_onenote=False)"
   ]
  },
  {
   "cell_type": "code",
   "execution_count": 4,
   "id": "2583c162",
   "metadata": {},
   "outputs": [
    {
     "data": {
      "text/plain": [
       "{}"
      ]
     },
     "execution_count": 4,
     "metadata": {},
     "output_type": "execute_result"
    }
   ],
   "source": [
    "un_result"
   ]
  },
  {
   "cell_type": "code",
   "execution_count": null,
   "id": "8035250a",
   "metadata": {},
   "outputs": [],
   "source": []
  }
 ],
 "metadata": {
  "kernelspec": {
   "display_name": "Python 3",
   "language": "python",
   "name": "python3"
  },
  "language_info": {
   "codemirror_mode": {
    "name": "ipython",
    "version": 3
   },
   "file_extension": ".py",
   "mimetype": "text/x-python",
   "name": "python",
   "nbconvert_exporter": "python",
   "pygments_lexer": "ipython3",
   "version": "3.8.8"
  }
 },
 "nbformat": 4,
 "nbformat_minor": 5
}
