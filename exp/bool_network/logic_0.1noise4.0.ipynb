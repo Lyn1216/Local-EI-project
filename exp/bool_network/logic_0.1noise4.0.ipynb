{
 "cells": [
  {
   "cell_type": "markdown",
   "id": "dd502e0e-2606-4768-9afe-72bbe93e6b45",
   "metadata": {
    "jp-MarkdownHeadingCollapsed": true
   },
   "source": [
    "## preparation"
   ]
  },
  {
   "cell_type": "code",
   "execution_count": 1,
   "id": "405a1dec",
   "metadata": {},
   "outputs": [],
   "source": [
    "import numpy as np\n",
    "import networkx as nx\n",
    "from scipy.stats import entropy\n",
    "import matplotlib.pyplot as plt\n",
    "import random\n",
    "\n",
    "%matplotlib inline\n",
    "import torch\n",
    "import torch.nn as nn\n",
    "import torch.optim as optim\n"
   ]
  },
  {
   "cell_type": "code",
   "execution_count": null,
   "id": "526eba06",
   "metadata": {},
   "outputs": [],
   "source": [
    "from func.EI_calculation import tpm_ei\n",
    "from func.p_calculation import calculate_or_p\n",
    "from func.p_calculation import calculate_xor_p\n",
    "from func.p_calculation import noise_modify_p"
   ]
  },
  {
   "cell_type": "code",
   "execution_count": 2,
   "id": "05c9d21a",
   "metadata": {},
   "outputs": [],
   "source": [
    "%run EI_calculation.ipynb"
   ]
  },
  {
   "cell_type": "code",
   "execution_count": 3,
   "id": "8fdada32",
   "metadata": {},
   "outputs": [],
   "source": [
    "%run p_calculation.ipynb"
   ]
  },
  {
   "cell_type": "code",
   "execution_count": 4,
   "id": "7606357a",
   "metadata": {},
   "outputs": [
    {
     "data": {
      "image/png": "[encoded data removed]",
      "text/plain": [
       "<Figure size 640x480 with 1 Axes>"
      ]
     },
     "metadata": {},
     "output_type": "display_data"
    }
   ],
   "source": [
    "G = nx.DiGraph()\n",
    "G.add_nodes_from(['A', 'B', 'C', 'D', 'E', 'F'])\n",
    "G.add_edges_from([('A', 'B'), ('B', 'A'), ('A', 'C'), ('C', 'A'), ('A', 'E'), ('C', 'E'), ('E', 'C'), ('B', 'D'), \n",
    "                  ('D', 'B'), ('D', 'F'), ('F', 'D'), ('B', 'F'), ('E', 'A'), ('F', 'B')])\n",
    "pos = {'A': (1, 2), 'B': (2, 2), 'C': (1, 0), 'D': (2, 0), 'E': (0, 1), 'F': (3, 1)}\n",
    "nx.draw_networkx(G, pos=pos, with_labels=True, node_color='lightblue', font_weight='bold', arrows=True, \n",
    "                 labels={node: node for node in G.nodes()}, node_size=1000, width=2, arrowstyle='->', arrowsize=20)\n",
    "plt.show()"
   ]
  },
  {
   "cell_type": "markdown",
   "id": "729ae934",
   "metadata": {},
   "source": [
    "# ACE或——BDF异或___________0.1噪音"
   ]
  },
  {
   "cell_type": "code",
   "execution_count": 5,
   "id": "74596f30-0a8c-4cf3-b29e-2daced48e1af",
   "metadata": {},
   "outputs": [],
   "source": [
    "logic_1noise_result = {}"
   ]
  },
  {
   "cell_type": "markdown",
   "id": "d87df1bf",
   "metadata": {
    "jp-MarkdownHeadingCollapsed": true
   },
   "source": [
    "## 整体"
   ]
  },
  {
   "cell_type": "code",
   "execution_count": 6,
   "id": "e8e54647-4a2f-44d2-ac21-d7bd1c25cfe6",
   "metadata": {},
   "outputs": [],
   "source": [
    "Col = ['{:06b}'.format(i) for i in range(64)]\n",
    "ALL = np.empty((64, 64))\n",
    "\n",
    "for i in range(ALL.shape[0]):\n",
    "    pa = calculate_or_p(i, 0,1,2,4) \n",
    "    pa = noise_modify_p(pa, 0.1)\n",
    "    pb = calculate_xor_p(i, 1,0,3,5)\n",
    "    pb = noise_modify_p(pb, 0.1)\n",
    "    pc = calculate_or_p(i, 2,0,4)\n",
    "    pc = noise_modify_p(pc, 0.1)\n",
    "    pd = calculate_xor_p(i, 3,1,5)\n",
    "    pd = noise_modify_p(pd, 0.1)\n",
    "    pe = calculate_or_p(i, 4,0,2)\n",
    "    pe = noise_modify_p(pe, 0.1)\n",
    "    pf = calculate_xor_p(i, 5,1,3)\n",
    "    pf = noise_modify_p(pf, 0.1)\n",
    "\n",
    "    ALL[i] = np.kron(pa, np.kron(pb, np.kron(pc, np.kron(pd, np.kron(pe, pf)))))"
   ]
  },
  {
   "cell_type": "code",
   "execution_count": 7,
   "id": "21a71679-7f91-4432-8a66-9038a1c1b838",
   "metadata": {},
   "outputs": [
    {
     "data": {
      "text/plain": [
       "np.float64(1.70351918935062)"
      ]
     },
     "execution_count": 7,
     "metadata": {},
     "output_type": "execute_result"
    }
   ],
   "source": [
    "ALL_ei = tpm_ei(ALL, log_base = 2)\n",
    "ALL_ei"
   ]
  },
  {
   "cell_type": "code",
   "execution_count": 8,
   "id": "527fce38-6f8f-47fc-be68-b2f7940410b1",
   "metadata": {},
   "outputs": [
    {
     "data": {
      "text/plain": [
       "{'ALL_ei': np.float64(1.70351918935062)}"
      ]
     },
     "execution_count": 8,
     "metadata": {},
     "output_type": "execute_result"
    }
   ],
   "source": [
    "logic_1noise_result['ALL_ei'] = ALL_ei\n",
    "logic_1noise_result"
   ]
  },
  {
   "cell_type": "markdown",
   "id": "731cdcef",
   "metadata": {
    "jp-MarkdownHeadingCollapsed": true
   },
   "source": [
    "## ACE"
   ]
  },
  {
   "cell_type": "code",
   "execution_count": 9,
   "id": "4209e739",
   "metadata": {},
   "outputs": [],
   "source": [
    "# B=0\n",
    "Col = ['{:03b}0'.format(i) for i in range(8)]  \n",
    "ACE_B_0 = np.empty((8, 8))\n",
    "\n",
    "for i in range(ACE_B_0.shape[0]):  \n",
    "    pa = calculate_or_p(i, 0,1,2,3) \n",
    "    pa = noise_modify_p(pa, 0.1)\n",
    "    pc = calculate_or_p(i, 1,0,2)\n",
    "    pc = noise_modify_p(pc, 0.1)\n",
    "    pe = calculate_or_p(i, 2,0,1)\n",
    "    pe = noise_modify_p(pe, 0.1)\n",
    "\n",
    "    ACE_B_0[i] = np.kron(pa, np.kron(pc, pe)) "
   ]
  },
  {
   "cell_type": "code",
   "execution_count": 10,
   "id": "5b3039da",
   "metadata": {},
   "outputs": [],
   "source": [
    "# B=1\n",
    "Col = ['{:03b}1'.format(i) for i in range(8)]\n",
    "ACE_B_1 = np.empty((8, 8))\n",
    "\n",
    "for i in range(ACE_B_1.shape[0]):  \n",
    "    pa = calculate_or_p(i, 0,1,2,3) \n",
    "    pa = noise_modify_p(pa, 0.1)\n",
    "    pc = calculate_or_p(i, 1,0,2)\n",
    "    pc = noise_modify_p(pc, 0.1)\n",
    "    pe = calculate_or_p(i, 2,0,1)\n",
    "    pe = noise_modify_p(pe, 0.1)\n",
    "   \n",
    "    ACE_B_1[i] = np.kron(pa, np.kron(pc, pe))"
   ]
  },
  {
   "cell_type": "code",
   "execution_count": 11,
   "id": "5c3731c6-07e1-4731-98cf-88be61285993",
   "metadata": {},
   "outputs": [],
   "source": [
    "ACE_B_0_ei = tpm_ei(ACE_B_0, log_base = 2)\n",
    "ACE_B_1_ei = tpm_ei(ACE_B_1, log_base = 2)\n",
    "ACE_B_ei = (ACE_B_0_ei + ACE_B_1_ei) / 2"
   ]
  },
  {
   "cell_type": "code",
   "execution_count": 12,
   "id": "45baf177-0181-492e-919a-4d19f1811857",
   "metadata": {},
   "outputs": [],
   "source": [
    "logic_1noise_result['ACE_B_0_ei'] = ACE_B_0_ei\n",
    "logic_1noise_result['ACE_B_1_ei'] = ACE_B_1_ei\n",
    "logic_1noise_result['ACE_B_ei'] = ACE_B_ei"
   ]
  },
  {
   "cell_type": "code",
   "execution_count": 13,
   "id": "08bf3633-884a-46c3-b42e-7da793d7df96",
   "metadata": {},
   "outputs": [
    {
     "data": {
      "text/plain": [
       "array([[0.405, 0.045, 0.045, 0.005, 0.405, 0.045, 0.045, 0.005],\n",
       "       [0.001, 0.009, 0.009, 0.081, 0.009, 0.081, 0.081, 0.729],\n",
       "       [0.001, 0.009, 0.009, 0.081, 0.009, 0.081, 0.081, 0.729],\n",
       "       [0.001, 0.009, 0.009, 0.081, 0.009, 0.081, 0.081, 0.729],\n",
       "       [0.001, 0.009, 0.009, 0.081, 0.009, 0.081, 0.081, 0.729],\n",
       "       [0.001, 0.009, 0.009, 0.081, 0.009, 0.081, 0.081, 0.729],\n",
       "       [0.001, 0.009, 0.009, 0.081, 0.009, 0.081, 0.081, 0.729],\n",
       "       [0.001, 0.009, 0.009, 0.081, 0.009, 0.081, 0.081, 0.729]])"
      ]
     },
     "execution_count": 13,
     "metadata": {},
     "output_type": "execute_result"
    }
   ],
   "source": [
    "ACE = np.mean([ACE_B_0, ACE_B_1], axis=0)\n",
    "ACE"
   ]
  },
  {
   "cell_type": "code",
   "execution_count": 14,
   "id": "ea3b4936-37af-4423-8c35-66f1f98aabb8",
   "metadata": {},
   "outputs": [],
   "source": [
    "ACE_ei = tpm_ei(ACE, log_base = 2)"
   ]
  },
  {
   "cell_type": "code",
   "execution_count": 15,
   "id": "96c6d6de-64aa-4dd7-a211-b57c6c9d7b90",
   "metadata": {},
   "outputs": [
    {
     "data": {
      "text/plain": [
       "{'ALL_ei': np.float64(1.70351918935062),\n",
       " 'ACE_B_0_ei': np.float64(0.4562408059655874),\n",
       " 'ACE_B_1_ei': np.float64(0.3884205694381191),\n",
       " 'ACE_B_ei': np.float64(0.4223306877018532),\n",
       " 'ACE_ei': np.float64(0.40706815278210534)}"
      ]
     },
     "execution_count": 15,
     "metadata": {},
     "output_type": "execute_result"
    }
   ],
   "source": [
    "logic_1noise_result['ACE_ei'] = ACE_ei\n",
    "logic_1noise_result"
   ]
  },
  {
   "cell_type": "markdown",
   "id": "1668f1c7",
   "metadata": {
    "jp-MarkdownHeadingCollapsed": true
   },
   "source": [
    "## BDF"
   ]
  },
  {
   "cell_type": "code",
   "execution_count": 16,
   "id": "86e416d2",
   "metadata": {},
   "outputs": [],
   "source": [
    "Col = ['{:03b}0'.format(i) for i in range(8)]\n",
    "BDF_A_0 = np.empty((8, 8))\n",
    "\n",
    "for i in range(BDF_A_0.shape[0]):  \n",
    "    pb = calculate_xor_p(i, 0,1,2,3)  \n",
    "    pb = noise_modify_p(pb, 0.1)\n",
    "    pd = calculate_xor_p(i, 1,0,2)\n",
    "    pd = noise_modify_p(pd, 0.1)\n",
    "    pf = calculate_xor_p(i, 2,0,1)\n",
    "    pf = noise_modify_p(pf, 0.1)\n",
    "\n",
    "    BDF_A_0[i] = np.kron(pb, np.kron(pd, pf))"
   ]
  },
  {
   "cell_type": "code",
   "execution_count": 17,
   "id": "b5daea84",
   "metadata": {},
   "outputs": [],
   "source": [
    "Col = ['{:03b}1'.format(i) for i in range(8)]\n",
    "BDF_A_1 = np.empty((8, 8))\n",
    "\n",
    "for i in range(BDF_A_1.shape[0]):  \n",
    "    pb = calculate_xor_p(i, 0,1,2,3)  \n",
    "    pb = noise_modify_p(pb, 0.1)\n",
    "    pd = calculate_xor_p(i, 1,0,2)\n",
    "    pd = noise_modify_p(pd, 0.1)\n",
    "    pf = calculate_xor_p(i, 2,0,1)\n",
    "    pf = noise_modify_p(pf, 0.1)\n",
    "    \n",
    "    BDF_A_1[i] = np.kron(pb, np.kron(pd, pf))"
   ]
  },
  {
   "cell_type": "code",
   "execution_count": 18,
   "id": "78e2fc55-c6c8-4977-bf7d-9ae0c5b2ea6b",
   "metadata": {},
   "outputs": [],
   "source": [
    "BDF_A_0_ei = tpm_ei(BDF_A_0, log_base = 2)\n",
    "BDF_A_1_ei = tpm_ei(BDF_A_1, log_base = 2)\n",
    "BDF_A_ei = (BDF_A_0_ei + BDF_A_1_ei) / 2\n"
   ]
  },
  {
   "cell_type": "code",
   "execution_count": 19,
   "id": "b3ff5312-3ad2-4ce1-8c23-d4c1e51ad5a5",
   "metadata": {},
   "outputs": [],
   "source": [
    "logic_1noise_result['BDF_A_0_ei'] = BDF_A_0_ei\n",
    "logic_1noise_result['BDF_A_1_ei'] = BDF_A_1_ei\n",
    "logic_1noise_result['BDF_A_ei'] = BDF_A_ei"
   ]
  },
  {
   "cell_type": "code",
   "execution_count": 20,
   "id": "cc10d9ac-dfee-43b4-b768-45dcd80aeae2",
   "metadata": {},
   "outputs": [
    {
     "data": {
      "text/plain": [
       "array([[0.405, 0.045, 0.045, 0.005, 0.405, 0.045, 0.045, 0.005],\n",
       "       [0.005, 0.045, 0.045, 0.405, 0.005, 0.045, 0.045, 0.405],\n",
       "       [0.005, 0.045, 0.045, 0.405, 0.005, 0.045, 0.045, 0.405],\n",
       "       [0.405, 0.045, 0.045, 0.005, 0.405, 0.045, 0.045, 0.005],\n",
       "       [0.005, 0.045, 0.045, 0.405, 0.005, 0.045, 0.045, 0.405],\n",
       "       [0.405, 0.045, 0.045, 0.005, 0.405, 0.045, 0.045, 0.005],\n",
       "       [0.405, 0.045, 0.045, 0.005, 0.405, 0.045, 0.045, 0.005],\n",
       "       [0.005, 0.045, 0.045, 0.405, 0.005, 0.045, 0.045, 0.405]])"
      ]
     },
     "execution_count": 20,
     "metadata": {},
     "output_type": "execute_result"
    }
   ],
   "source": [
    "BDF = np.mean([BDF_A_0, BDF_A_1], axis=0)\n",
    "BDF"
   ]
  },
  {
   "cell_type": "code",
   "execution_count": 21,
   "id": "5ecae155-4538-445e-855d-f43365ef3999",
   "metadata": {},
   "outputs": [],
   "source": [
    "BDF_ei = tpm_ei(BDF, log_base = 2)"
   ]
  },
  {
   "cell_type": "code",
   "execution_count": 22,
   "id": "595d4353-deca-4dcb-a3bb-0b2bd2296df7",
   "metadata": {},
   "outputs": [
    {
     "data": {
      "text/plain": [
       "{'ALL_ei': np.float64(1.70351918935062),\n",
       " 'ACE_B_0_ei': np.float64(0.4562408059655874),\n",
       " 'ACE_B_1_ei': np.float64(0.3884205694381191),\n",
       " 'ACE_B_ei': np.float64(0.4223306877018532),\n",
       " 'ACE_ei': np.float64(0.40706815278210534),\n",
       " 'BDF_A_0_ei': np.float64(0.8624177306350442),\n",
       " 'BDF_A_1_ei': np.float64(0.8624177306350442),\n",
       " 'BDF_A_ei': np.float64(0.8624177306350442),\n",
       " 'BDF_ei': np.float64(0.7420858585497175)}"
      ]
     },
     "execution_count": 22,
     "metadata": {},
     "output_type": "execute_result"
    }
   ],
   "source": [
    "logic_1noise_result['BDF_ei'] = BDF_ei\n",
    "logic_1noise_result"
   ]
  },
  {
   "cell_type": "markdown",
   "id": "c6095a86-3879-4303-9982-4ec6e2d4e14d",
   "metadata": {
    "jp-MarkdownHeadingCollapsed": true
   },
   "source": [
    "## A"
   ]
  },
  {
   "cell_type": "code",
   "execution_count": 23,
   "id": "97d2a9df-ed32-4082-8e92-7bd0fa82c39b",
   "metadata": {},
   "outputs": [],
   "source": [
    "Col = ['0000', '1000']\n",
    "A_BCE_000 = np.empty((2, 2))\n",
    "\n",
    "for i in range(A_BCE_000.shape[0]):  \n",
    "    pa = calculate_or_p(i, 0,1,2,3)\n",
    "    A_BCE_000[i] = noise_modify_p(pa, 0.1)"
   ]
  },
  {
   "cell_type": "code",
   "execution_count": 24,
   "id": "b03e2b1c",
   "metadata": {},
   "outputs": [],
   "source": [
    "Col = ['0001', '1001']\n",
    "A_BCE_001 = np.empty((2, 2))\n",
    "\n",
    "for i in range(A_BCE_001.shape[0]):  \n",
    "    pa = calculate_or_p(i, 0,1,2,3)\n",
    "    A_BCE_001[i] = noise_modify_p(pa, 0.1)"
   ]
  },
  {
   "cell_type": "code",
   "execution_count": 25,
   "id": "c8f328d7",
   "metadata": {},
   "outputs": [],
   "source": [
    "Col = ['0010', '1010']\n",
    "A_BCE_010 = np.empty((2, 2))\n",
    "\n",
    "for i in range(A_BCE_010.shape[0]):  \n",
    "    pa = calculate_or_p(i, 0,1,2,3)\n",
    "    A_BCE_010[i] = noise_modify_p(pa, 0.1)"
   ]
  },
  {
   "cell_type": "code",
   "execution_count": 26,
   "id": "112cd0f0",
   "metadata": {},
   "outputs": [],
   "source": [
    "Col = ['0011', '1011']\n",
    "A_BCE_011 = np.empty((2, 2))\n",
    "\n",
    "for i in range(A_BCE_011.shape[0]):  \n",
    "    pa = calculate_or_p(i, 0,1,2,3)\n",
    "    A_BCE_011[i] = noise_modify_p(pa, 0.1)"
   ]
  },
  {
   "cell_type": "code",
   "execution_count": 27,
   "id": "d629c6f4",
   "metadata": {},
   "outputs": [],
   "source": [
    "Col = ['0100', '1100']\n",
    "A_BCE_100 = np.empty((2, 2))\n",
    "\n",
    "for i in range(A_BCE_100.shape[0]):  \n",
    "    pa = calculate_or_p(i, 0,1,2,3)\n",
    "    A_BCE_100[i] = noise_modify_p(pa, 0.1)"
   ]
  },
  {
   "cell_type": "code",
   "execution_count": 28,
   "id": "b5d60565",
   "metadata": {},
   "outputs": [],
   "source": [
    "Col = ['0101', '1101']\n",
    "A_BCE_101 = np.empty((2, 2))\n",
    "\n",
    "for i in range(A_BCE_101.shape[0]):  \n",
    "    pa = calculate_or_p(i, 0,1,2,3)\n",
    "    A_BCE_101[i] = noise_modify_p(pa, 0.1)"
   ]
  },
  {
   "cell_type": "code",
   "execution_count": 29,
   "id": "cc808380",
   "metadata": {},
   "outputs": [],
   "source": [
    "Col = ['0110', '1110']\n",
    "A_BCE_110 = np.empty((2, 2))\n",
    "\n",
    "for i in range(A_BCE_110.shape[0]):  \n",
    "    pa = calculate_or_p(i, 0,1,2,3)\n",
    "    A_BCE_110[i] = noise_modify_p(pa, 0.1)"
   ]
  },
  {
   "cell_type": "code",
   "execution_count": 30,
   "id": "d79d6368",
   "metadata": {},
   "outputs": [],
   "source": [
    "Col = ['0111', '1111']\n",
    "A_BCE_111 = np.empty((2, 2))\n",
    "\n",
    "for i in range(A_BCE_111.shape[0]):  \n",
    "    pa = calculate_or_p(i, 0,1,2,3)\n",
    "    A_BCE_111[i] = noise_modify_p(pa, 0.1)"
   ]
  },
  {
   "cell_type": "code",
   "execution_count": 31,
   "id": "4e9dcc45-fd1e-4512-897b-3f82d89b06c8",
   "metadata": {},
   "outputs": [],
   "source": [
    "A_BCE_000_ei = tpm_ei(A_BCE_000, log_base = 2)\n",
    "A_BCE_001_ei = tpm_ei(A_BCE_001, log_base = 2)\n",
    "A_BCE_010_ei = tpm_ei(A_BCE_010, log_base = 2)\n",
    "A_BCE_011_ei = tpm_ei(A_BCE_011, log_base = 2)\n",
    "A_BCE_100_ei = tpm_ei(A_BCE_100, log_base = 2)\n",
    "A_BCE_101_ei = tpm_ei(A_BCE_101, log_base = 2)\n",
    "A_BCE_110_ei = tpm_ei(A_BCE_110, log_base = 2)\n",
    "A_BCE_111_ei = tpm_ei(A_BCE_111, log_base = 2)\n",
    "A_BCE_ei = (A_BCE_000_ei + A_BCE_001_ei + A_BCE_010_ei + A_BCE_011_ei + A_BCE_100_ei + A_BCE_101_ei + A_BCE_110_ei + A_BCE_111_ei) / 8"
   ]
  },
  {
   "cell_type": "code",
   "execution_count": 32,
   "id": "a2802bb6-f907-4e43-aa31-d931c9ad3fd2",
   "metadata": {},
   "outputs": [],
   "source": [
    "logic_1noise_result['A_BCE_000_ei'] = A_BCE_000_ei\n",
    "logic_1noise_result['A_BCE_001_ei'] = A_BCE_001_ei\n",
    "logic_1noise_result['A_BCE_010_ei'] = A_BCE_010_ei\n",
    "logic_1noise_result['A_BCE_011_ei'] = A_BCE_011_ei\n",
    "logic_1noise_result['A_BCE_100_ei'] = A_BCE_100_ei\n",
    "logic_1noise_result['A_BCE_101_ei'] = A_BCE_101_ei\n",
    "logic_1noise_result['A_BCE_110_ei'] = A_BCE_110_ei\n",
    "logic_1noise_result['A_BCE_111_ei'] = A_BCE_111_ei\n",
    "\n",
    "logic_1noise_result['A_BCE_ei'] = A_BCE_ei"
   ]
  },
  {
   "cell_type": "code",
   "execution_count": 33,
   "id": "febd9d0e-816c-4f2e-8b14-543fc0e87f81",
   "metadata": {},
   "outputs": [
    {
     "data": {
      "text/plain": [
       "array([[0.2, 0.8],\n",
       "       [0.1, 0.9]])"
      ]
     },
     "execution_count": 33,
     "metadata": {},
     "output_type": "execute_result"
    }
   ],
   "source": [
    "A = np.mean([A_BCE_000, A_BCE_001, A_BCE_010, A_BCE_011, A_BCE_100, A_BCE_101, A_BCE_110, A_BCE_111], axis=0)\n",
    "A"
   ]
  },
  {
   "cell_type": "code",
   "execution_count": 34,
   "id": "94429451-e90a-42d2-92d3-d6a7c9cd4948",
   "metadata": {},
   "outputs": [],
   "source": [
    "A_ei = tpm_ei(A, log_base = 2)"
   ]
  },
  {
   "cell_type": "code",
   "execution_count": 35,
   "id": "e188213e-def5-4230-a792-aa1774846852",
   "metadata": {},
   "outputs": [
    {
     "data": {
      "text/plain": [
       "{'ALL_ei': np.float64(1.70351918935062),\n",
       " 'ACE_B_0_ei': np.float64(0.4562408059655874),\n",
       " 'ACE_B_1_ei': np.float64(0.3884205694381191),\n",
       " 'ACE_B_ei': np.float64(0.4223306877018532),\n",
       " 'ACE_ei': np.float64(0.40706815278210534),\n",
       " 'BDF_A_0_ei': np.float64(0.8624177306350442),\n",
       " 'BDF_A_1_ei': np.float64(0.8624177306350442),\n",
       " 'BDF_A_ei': np.float64(0.8624177306350442),\n",
       " 'BDF_ei': np.float64(0.7420858585497175),\n",
       " 'A_BCE_000_ei': np.float64(0.5310044064107188),\n",
       " 'A_BCE_001_ei': np.float64(0.0),\n",
       " 'A_BCE_010_ei': np.float64(0.0),\n",
       " 'A_BCE_011_ei': np.float64(0.0),\n",
       " 'A_BCE_100_ei': np.float64(0.0),\n",
       " 'A_BCE_101_ei': np.float64(0.0),\n",
       " 'A_BCE_110_ei': np.float64(0.0),\n",
       " 'A_BCE_111_ei': np.float64(0.0),\n",
       " 'A_BCE_ei': np.float64(0.06637555080133985),\n",
       " 'A_ei': np.float64(0.014378460478078663)}"
      ]
     },
     "execution_count": 35,
     "metadata": {},
     "output_type": "execute_result"
    }
   ],
   "source": [
    "logic_1noise_result['A_ei'] = A_ei\n",
    "logic_1noise_result"
   ]
  },
  {
   "cell_type": "code",
   "execution_count": null,
   "id": "e5ef13ef-db7b-4332-ab15-e462a9134062",
   "metadata": {},
   "outputs": [],
   "source": []
  },
  {
   "cell_type": "markdown",
   "id": "70582e16-e94a-43e3-9c95-c23221a530ae",
   "metadata": {
    "jp-MarkdownHeadingCollapsed": true
   },
   "source": [
    "## B"
   ]
  },
  {
   "cell_type": "code",
   "execution_count": 36,
   "id": "3e017e70-fbae-458d-b8d7-e72819d76ce4",
   "metadata": {},
   "outputs": [],
   "source": [
    "Col = ['0000', '1000']\n",
    "B_ADF_000 = np.empty((2, 2))\n",
    "\n",
    "for i in range(B_ADF_000.shape[0]):  \n",
    "    pb = calculate_xor_p(i, 0,1,2,3)\n",
    "    B_ADF_000[i] = noise_modify_p(pb, 0.1)"
   ]
  },
  {
   "cell_type": "code",
   "execution_count": 37,
   "id": "504cdea8",
   "metadata": {},
   "outputs": [],
   "source": [
    "Col = ['0001', '1001']\n",
    "B_ADF_001 = np.empty((2, 2))\n",
    "\n",
    "for i in range(B_ADF_001.shape[0]):  \n",
    "    pb = calculate_xor_p(i, 0,1,2,3)\n",
    "    B_ADF_001[i] = noise_modify_p(pb, 0.1)"
   ]
  },
  {
   "cell_type": "code",
   "execution_count": 38,
   "id": "58a57432",
   "metadata": {},
   "outputs": [],
   "source": [
    "Col = ['0010', '1010']\n",
    "B_ADF_010 = np.empty((2, 2))\n",
    "\n",
    "for i in range(B_ADF_010.shape[0]):  \n",
    "    pb = calculate_xor_p(i, 0,1,2,3)\n",
    "    B_ADF_010[i] = noise_modify_p(pb, 0.1)"
   ]
  },
  {
   "cell_type": "code",
   "execution_count": 39,
   "id": "6a8366ab",
   "metadata": {},
   "outputs": [],
   "source": [
    "Col = ['0011', '1011']\n",
    "B_ADF_011 = np.empty((2, 2))\n",
    "\n",
    "for i in range(B_ADF_011.shape[0]):  \n",
    "    pb = calculate_xor_p(i, 0,1,2,3)\n",
    "    B_ADF_011[i] = noise_modify_p(pb, 0.1)"
   ]
  },
  {
   "cell_type": "code",
   "execution_count": 40,
   "id": "94ad345f-b0c6-443e-860e-0e42c45edc3b",
   "metadata": {},
   "outputs": [],
   "source": [
    "Col = ['0100', '1100']\n",
    "B_ADF_100 = np.empty((2, 2))\n",
    "\n",
    "for i in range(B_ADF_100.shape[0]):  \n",
    "    pb = calculate_xor_p(i, 0,1,2,3)\n",
    "    B_ADF_100[i] = noise_modify_p(pb, 0.1)"
   ]
  },
  {
   "cell_type": "code",
   "execution_count": 41,
   "id": "7a179252",
   "metadata": {},
   "outputs": [],
   "source": [
    "Col = ['0101', '1101']\n",
    "B_ADF_101 = np.empty((2, 2))\n",
    "\n",
    "for i in range(B_ADF_101.shape[0]):  \n",
    "    pb = calculate_xor_p(i, 0,1,2,3)\n",
    "    B_ADF_101[i] = noise_modify_p(pb, 0.1)"
   ]
  },
  {
   "cell_type": "code",
   "execution_count": 42,
   "id": "bd6004a7",
   "metadata": {},
   "outputs": [],
   "source": [
    "Col = ['0110', '1110']\n",
    "B_ADF_110 = np.empty((2, 2))\n",
    "\n",
    "for i in range(B_ADF_110.shape[0]):  \n",
    "    pb = calculate_xor_p(i, 0,1,2,3)\n",
    "    B_ADF_110[i] = noise_modify_p(pb, 0.1)"
   ]
  },
  {
   "cell_type": "code",
   "execution_count": 43,
   "id": "3b6d59cc",
   "metadata": {},
   "outputs": [],
   "source": [
    "Col = ['0111', '1111']\n",
    "B_ADF_111 = np.empty((2, 2))\n",
    "\n",
    "for i in range(B_ADF_111.shape[0]):  \n",
    "    pb = calculate_xor_p(i, 0,1,2,3)\n",
    "    B_ADF_111[i] = noise_modify_p(pb, 0.1)"
   ]
  },
  {
   "cell_type": "code",
   "execution_count": 44,
   "id": "77613455-cc85-41a7-a678-e488e53ba80d",
   "metadata": {},
   "outputs": [],
   "source": [
    "B_ADF_000_ei = tpm_ei(B_ADF_000, log_base = 2)\n",
    "B_ADF_001_ei = tpm_ei(B_ADF_001, log_base = 2)\n",
    "B_ADF_010_ei = tpm_ei(B_ADF_010, log_base = 2)\n",
    "B_ADF_011_ei = tpm_ei(B_ADF_011, log_base = 2)\n",
    "B_ADF_100_ei = tpm_ei(B_ADF_100, log_base = 2)\n",
    "B_ADF_101_ei = tpm_ei(B_ADF_101, log_base = 2)\n",
    "B_ADF_110_ei = tpm_ei(B_ADF_110, log_base = 2)\n",
    "B_ADF_111_ei = tpm_ei(B_ADF_111, log_base = 2)\n",
    "B_ADF_ei = (B_ADF_000_ei + B_ADF_001_ei + B_ADF_010_ei + B_ADF_011_ei + B_ADF_100_ei + B_ADF_101_ei + B_ADF_110_ei + B_ADF_111_ei) / 8"
   ]
  },
  {
   "cell_type": "code",
   "execution_count": 45,
   "id": "6b898e6c-41df-40ba-99ba-e892fdcf121a",
   "metadata": {},
   "outputs": [],
   "source": [
    "logic_1noise_result['B_ADF_000_ei'] = B_ADF_000_ei\n",
    "logic_1noise_result['B_ADF_001_ei'] = B_ADF_001_ei\n",
    "logic_1noise_result['B_ADF_010_ei'] = B_ADF_010_ei\n",
    "logic_1noise_result['B_ADF_011_ei'] = B_ADF_011_ei\n",
    "logic_1noise_result['B_ADF_100_ei'] = B_ADF_100_ei\n",
    "logic_1noise_result['B_ADF_101_ei'] = B_ADF_101_ei\n",
    "logic_1noise_result['B_ADF_110_ei'] = B_ADF_110_ei\n",
    "logic_1noise_result['B_ADF_111_ei'] = B_ADF_111_ei\n",
    "\n",
    "logic_1noise_result['B_ADF_ei'] = B_ADF_ei"
   ]
  },
  {
   "cell_type": "code",
   "execution_count": 46,
   "id": "005333fa-957a-49d2-9d20-d956843ce616",
   "metadata": {},
   "outputs": [
    {
     "data": {
      "text/plain": [
       "array([[0.5, 0.5],\n",
       "       [0.5, 0.5]])"
      ]
     },
     "execution_count": 46,
     "metadata": {},
     "output_type": "execute_result"
    }
   ],
   "source": [
    "B = np.mean([B_ADF_000, B_ADF_001, B_ADF_010, B_ADF_011, B_ADF_100, B_ADF_101, B_ADF_110, B_ADF_111], axis=0)\n",
    "B"
   ]
  },
  {
   "cell_type": "code",
   "execution_count": 47,
   "id": "8a32f11b-3b0a-4beb-bf26-0c119b7e9181",
   "metadata": {},
   "outputs": [],
   "source": [
    "B_ei = tpm_ei(B, log_base = 2)"
   ]
  },
  {
   "cell_type": "code",
   "execution_count": 48,
   "id": "028b42ee-be0f-432b-a231-ab7a5f5e1e3e",
   "metadata": {},
   "outputs": [
    {
     "data": {
      "text/plain": [
       "{'ALL_ei': np.float64(1.70351918935062),\n",
       " 'ACE_B_0_ei': np.float64(0.4562408059655874),\n",
       " 'ACE_B_1_ei': np.float64(0.3884205694381191),\n",
       " 'ACE_B_ei': np.float64(0.4223306877018532),\n",
       " 'ACE_ei': np.float64(0.40706815278210534),\n",
       " 'BDF_A_0_ei': np.float64(0.8624177306350442),\n",
       " 'BDF_A_1_ei': np.float64(0.8624177306350442),\n",
       " 'BDF_A_ei': np.float64(0.8624177306350442),\n",
       " 'BDF_ei': np.float64(0.7420858585497175),\n",
       " 'A_BCE_000_ei': np.float64(0.5310044064107188),\n",
       " 'A_BCE_001_ei': np.float64(0.0),\n",
       " 'A_BCE_010_ei': np.float64(0.0),\n",
       " 'A_BCE_011_ei': np.float64(0.0),\n",
       " 'A_BCE_100_ei': np.float64(0.0),\n",
       " 'A_BCE_101_ei': np.float64(0.0),\n",
       " 'A_BCE_110_ei': np.float64(0.0),\n",
       " 'A_BCE_111_ei': np.float64(0.0),\n",
       " 'A_BCE_ei': np.float64(0.06637555080133985),\n",
       " 'A_ei': np.float64(0.014378460478078663),\n",
       " 'B_ADF_000_ei': np.float64(0.5310044064107188),\n",
       " 'B_ADF_001_ei': np.float64(0.5310044064107188),\n",
       " 'B_ADF_010_ei': np.float64(0.5310044064107188),\n",
       " 'B_ADF_011_ei': np.float64(0.5310044064107188),\n",
       " 'B_ADF_100_ei': np.float64(0.5310044064107188),\n",
       " 'B_ADF_101_ei': np.float64(0.5310044064107188),\n",
       " 'B_ADF_110_ei': np.float64(0.5310044064107188),\n",
       " 'B_ADF_111_ei': np.float64(0.5310044064107188),\n",
       " 'B_ADF_ei': np.float64(0.5310044064107188),\n",
       " 'B_ei': np.float64(0.0)}"
      ]
     },
     "execution_count": 48,
     "metadata": {},
     "output_type": "execute_result"
    }
   ],
   "source": [
    "logic_1noise_result['B_ei'] = B_ei\n",
    "logic_1noise_result"
   ]
  },
  {
   "cell_type": "code",
   "execution_count": null,
   "id": "fb8b89fa-efcc-4482-be3f-bedbd7aaca95",
   "metadata": {},
   "outputs": [],
   "source": []
  },
  {
   "cell_type": "markdown",
   "id": "dd8d0d3a-7c0c-4168-82c6-fecfa9a71ebc",
   "metadata": {
    "jp-MarkdownHeadingCollapsed": true
   },
   "source": [
    "## C"
   ]
  },
  {
   "cell_type": "code",
   "execution_count": 49,
   "id": "b95bda21-8208-461c-92b1-88c3103c8271",
   "metadata": {},
   "outputs": [],
   "source": [
    "Col = ['000', '100']\n",
    "C_AE_00 = np.empty((2, 2))\n",
    "\n",
    "for i in range(C_AE_00.shape[0]):  \n",
    "    pc = calculate_or_p(i, 0,1,2)\n",
    "    C_AE_00[i] = noise_modify_p(pc, 0.1)"
   ]
  },
  {
   "cell_type": "code",
   "execution_count": 50,
   "id": "f329e04d-54d6-4dd9-9c89-734843301b8d",
   "metadata": {},
   "outputs": [],
   "source": [
    "Col = ['001', '101']\n",
    "C_AE_01 = np.empty((2, 2))\n",
    "\n",
    "for i in range(C_AE_01.shape[0]):  \n",
    "    pc = calculate_or_p(i, 0,1,2)\n",
    "    C_AE_01[i] = noise_modify_p(pc, 0.1)"
   ]
  },
  {
   "cell_type": "code",
   "execution_count": 51,
   "id": "21aee786-a175-4cdd-9fc3-bdd5fe83f839",
   "metadata": {},
   "outputs": [],
   "source": [
    "Col = ['010', '110']\n",
    "C_AE_10 = np.empty((2, 2))\n",
    "\n",
    "for i in range(C_AE_10.shape[0]):  \n",
    "    pc = calculate_or_p(i, 0,1,2)\n",
    "    C_AE_10[i] = noise_modify_p(pc, 0.1)"
   ]
  },
  {
   "cell_type": "code",
   "execution_count": 52,
   "id": "0d969188",
   "metadata": {},
   "outputs": [],
   "source": [
    "Col = ['011', '111']\n",
    "C_AE_11 = np.empty((2, 2))\n",
    "\n",
    "for i in range(C_AE_11.shape[0]):  \n",
    "    pc = calculate_or_p(i, 0,1,2)\n",
    "    C_AE_11[i] = noise_modify_p(pc, 0.1)"
   ]
  },
  {
   "cell_type": "code",
   "execution_count": 53,
   "id": "41172df8-c8f6-4268-8fc6-7743f20c5b02",
   "metadata": {},
   "outputs": [],
   "source": [
    "C_AE_00_ei = tpm_ei(C_AE_00, log_base = 2)\n",
    "C_AE_01_ei = tpm_ei(C_AE_01, log_base = 2)\n",
    "C_AE_10_ei = tpm_ei(C_AE_10, log_base = 2)\n",
    "C_AE_11_ei = tpm_ei(C_AE_11, log_base = 2)\n",
    "\n",
    "C_AE_ei = (C_AE_00_ei + C_AE_01_ei + C_AE_10_ei + C_AE_11_ei ) / 4"
   ]
  },
  {
   "cell_type": "code",
   "execution_count": 54,
   "id": "b6500cb6-42b9-422b-a050-81f1e9557da2",
   "metadata": {
    "scrolled": true
   },
   "outputs": [],
   "source": [
    "logic_1noise_result['C_AE_00_ei'] = C_AE_00_ei\n",
    "logic_1noise_result['C_AE_01_ei'] = C_AE_01_ei\n",
    "logic_1noise_result['C_AE_10_ei'] = C_AE_10_ei\n",
    "logic_1noise_result['C_AE_11_ei'] = C_AE_11_ei\n",
    "\n",
    "logic_1noise_result['C_AE_ei'] = C_AE_ei"
   ]
  },
  {
   "cell_type": "code",
   "execution_count": 55,
   "id": "8bd00ceb-873a-404a-9a65-72b6065651aa",
   "metadata": {},
   "outputs": [
    {
     "data": {
      "text/plain": [
       "array([[0.3, 0.7],\n",
       "       [0.1, 0.9]])"
      ]
     },
     "execution_count": 55,
     "metadata": {},
     "output_type": "execute_result"
    }
   ],
   "source": [
    "C = np.mean([C_AE_00, C_AE_01, C_AE_10, C_AE_11], axis=0)\n",
    "C"
   ]
  },
  {
   "cell_type": "code",
   "execution_count": 56,
   "id": "8fb8ef09-92a9-4d18-a6f9-b26e0db6cbc9",
   "metadata": {},
   "outputs": [],
   "source": [
    "C_ei = tpm_ei(C, log_base = 2)"
   ]
  },
  {
   "cell_type": "code",
   "execution_count": 57,
   "id": "b8b12ed4-3cb0-4fec-a72a-00741325463d",
   "metadata": {},
   "outputs": [
    {
     "data": {
      "text/plain": [
       "{'ALL_ei': np.float64(1.70351918935062),\n",
       " 'ACE_B_0_ei': np.float64(0.4562408059655874),\n",
       " 'ACE_B_1_ei': np.float64(0.3884205694381191),\n",
       " 'ACE_B_ei': np.float64(0.4223306877018532),\n",
       " 'ACE_ei': np.float64(0.40706815278210534),\n",
       " 'BDF_A_0_ei': np.float64(0.8624177306350442),\n",
       " 'BDF_A_1_ei': np.float64(0.8624177306350442),\n",
       " 'BDF_A_ei': np.float64(0.8624177306350442),\n",
       " 'BDF_ei': np.float64(0.7420858585497175),\n",
       " 'A_BCE_000_ei': np.float64(0.5310044064107188),\n",
       " 'A_BCE_001_ei': np.float64(0.0),\n",
       " 'A_BCE_010_ei': np.float64(0.0),\n",
       " 'A_BCE_011_ei': np.float64(0.0),\n",
       " 'A_BCE_100_ei': np.float64(0.0),\n",
       " 'A_BCE_101_ei': np.float64(0.0),\n",
       " 'A_BCE_110_ei': np.float64(0.0),\n",
       " 'A_BCE_111_ei': np.float64(0.0),\n",
       " 'A_BCE_ei': np.float64(0.06637555080133985),\n",
       " 'A_ei': np.float64(0.014378460478078663),\n",
       " 'B_ADF_000_ei': np.float64(0.5310044064107188),\n",
       " 'B_ADF_001_ei': np.float64(0.5310044064107188),\n",
       " 'B_ADF_010_ei': np.float64(0.5310044064107188),\n",
       " 'B_ADF_011_ei': np.float64(0.5310044064107188),\n",
       " 'B_ADF_100_ei': np.float64(0.5310044064107188),\n",
       " 'B_ADF_101_ei': np.float64(0.5310044064107188),\n",
       " 'B_ADF_110_ei': np.float64(0.5310044064107188),\n",
       " 'B_ADF_111_ei': np.float64(0.5310044064107188),\n",
       " 'B_ADF_ei': np.float64(0.5310044064107188),\n",
       " 'B_ei': np.float64(0.0),\n",
       " 'C_AE_00_ei': np.float64(0.5310044064107188),\n",
       " 'C_AE_01_ei': np.float64(0.0),\n",
       " 'C_AE_10_ei': np.float64(0.0),\n",
       " 'C_AE_11_ei': np.float64(0.0),\n",
       " 'C_AE_ei': np.float64(0.1327511016026797),\n",
       " 'C_ei': np.float64(0.04678484847737541)}"
      ]
     },
     "execution_count": 57,
     "metadata": {},
     "output_type": "execute_result"
    }
   ],
   "source": [
    "logic_1noise_result['C_ei'] = C_ei\n",
    "logic_1noise_result"
   ]
  },
  {
   "cell_type": "code",
   "execution_count": null,
   "id": "1a262f6a-d57a-46bd-b3c7-7a3cc243180c",
   "metadata": {},
   "outputs": [],
   "source": []
  },
  {
   "cell_type": "markdown",
   "id": "48d60e71-8eee-4a96-9a18-c23a4a47f242",
   "metadata": {
    "jp-MarkdownHeadingCollapsed": true
   },
   "source": [
    "## D"
   ]
  },
  {
   "cell_type": "code",
   "execution_count": 58,
   "id": "03b2b3d6-3365-4f74-a950-b29e3cc59011",
   "metadata": {},
   "outputs": [],
   "source": [
    "Col = ['000', '100']\n",
    "D_BF_00 = np.empty((2, 2))\n",
    "\n",
    "for i in range(D_BF_00.shape[0]):  \n",
    "    pd = calculate_xor_p(i, 0,1,2)\n",
    "    D_BF_00[i] = noise_modify_p(pd, 0.1)"
   ]
  },
  {
   "cell_type": "code",
   "execution_count": 59,
   "id": "60df56da",
   "metadata": {},
   "outputs": [],
   "source": [
    "Col = ['001', '101']\n",
    "D_BF_01 = np.empty((2, 2))\n",
    "\n",
    "for i in range(D_BF_01.shape[0]):  \n",
    "    pd = calculate_xor_p(i, 0,1,2)\n",
    "    D_BF_01[i] = noise_modify_p(pd, 0.1)"
   ]
  },
  {
   "cell_type": "code",
   "execution_count": 60,
   "id": "b090f4ca",
   "metadata": {},
   "outputs": [],
   "source": [
    "Col = ['010', '110']\n",
    "D_BF_10 = np.empty((2, 2))\n",
    "\n",
    "for i in range(D_BF_10.shape[0]):  \n",
    "    pd = calculate_xor_p(i, 0,1,2)\n",
    "    D_BF_10[i] = noise_modify_p(pd, 0.1)"
   ]
  },
  {
   "cell_type": "code",
   "execution_count": 61,
   "id": "bcdbb340",
   "metadata": {},
   "outputs": [],
   "source": [
    "Col = ['011', '111']\n",
    "D_BF_11 = np.empty((2, 2))\n",
    "\n",
    "for i in range(D_BF_11.shape[0]):  \n",
    "    pd = calculate_xor_p(i, 0,1,2)\n",
    "    D_BF_11[i] = noise_modify_p(pd, 0.1)"
   ]
  },
  {
   "cell_type": "code",
   "execution_count": 62,
   "id": "c37ca39f-cdec-4af2-b92f-44c0824a3811",
   "metadata": {},
   "outputs": [],
   "source": [
    "D_BF_00_ei = tpm_ei(D_BF_00, log_base = 2)\n",
    "D_BF_01_ei = tpm_ei(D_BF_01, log_base = 2)\n",
    "D_BF_10_ei = tpm_ei(D_BF_10, log_base = 2)\n",
    "D_BF_11_ei = tpm_ei(D_BF_11, log_base = 2)\n",
    "\n",
    "D_BF_ei = (D_BF_00_ei + D_BF_01_ei + D_BF_10_ei + D_BF_11_ei) / 4"
   ]
  },
  {
   "cell_type": "code",
   "execution_count": 63,
   "id": "dc4013ee-46f2-4dc4-9009-0ef7abaffe9f",
   "metadata": {},
   "outputs": [],
   "source": [
    "logic_1noise_result['D_BF_00_ei'] = D_BF_00_ei\n",
    "logic_1noise_result['D_BF_01_ei'] = D_BF_01_ei\n",
    "logic_1noise_result['D_BF_10_ei'] = D_BF_10_ei\n",
    "logic_1noise_result['D_BF_11_ei'] = D_BF_11_ei\n",
    "\n",
    "logic_1noise_result['D_BF_ei'] = D_BF_ei"
   ]
  },
  {
   "cell_type": "code",
   "execution_count": 64,
   "id": "9f6c02e0-412b-46d6-9dda-69b0b150b5fa",
   "metadata": {},
   "outputs": [
    {
     "data": {
      "text/plain": [
       "array([[0.5, 0.5],\n",
       "       [0.5, 0.5]])"
      ]
     },
     "execution_count": 64,
     "metadata": {},
     "output_type": "execute_result"
    }
   ],
   "source": [
    "D = np.mean([D_BF_00, D_BF_01, D_BF_10, D_BF_11], axis=0)\n",
    "D"
   ]
  },
  {
   "cell_type": "code",
   "execution_count": 65,
   "id": "48a3af3a-4865-4081-8345-4ba516a6311f",
   "metadata": {},
   "outputs": [],
   "source": [
    "D_ei = tpm_ei(D, log_base = 2)"
   ]
  },
  {
   "cell_type": "code",
   "execution_count": 66,
   "id": "e5002bfe-2965-46b4-8e9c-53a9fbf27961",
   "metadata": {},
   "outputs": [
    {
     "data": {
      "text/plain": [
       "{'ALL_ei': np.float64(1.70351918935062),\n",
       " 'ACE_B_0_ei': np.float64(0.4562408059655874),\n",
       " 'ACE_B_1_ei': np.float64(0.3884205694381191),\n",
       " 'ACE_B_ei': np.float64(0.4223306877018532),\n",
       " 'ACE_ei': np.float64(0.40706815278210534),\n",
       " 'BDF_A_0_ei': np.float64(0.8624177306350442),\n",
       " 'BDF_A_1_ei': np.float64(0.8624177306350442),\n",
       " 'BDF_A_ei': np.float64(0.8624177306350442),\n",
       " 'BDF_ei': np.float64(0.7420858585497175),\n",
       " 'A_BCE_000_ei': np.float64(0.5310044064107188),\n",
       " 'A_BCE_001_ei': np.float64(0.0),\n",
       " 'A_BCE_010_ei': np.float64(0.0),\n",
       " 'A_BCE_011_ei': np.float64(0.0),\n",
       " 'A_BCE_100_ei': np.float64(0.0),\n",
       " 'A_BCE_101_ei': np.float64(0.0),\n",
       " 'A_BCE_110_ei': np.float64(0.0),\n",
       " 'A_BCE_111_ei': np.float64(0.0),\n",
       " 'A_BCE_ei': np.float64(0.06637555080133985),\n",
       " 'A_ei': np.float64(0.014378460478078663),\n",
       " 'B_ADF_000_ei': np.float64(0.5310044064107188),\n",
       " 'B_ADF_001_ei': np.float64(0.5310044064107188),\n",
       " 'B_ADF_010_ei': np.float64(0.5310044064107188),\n",
       " 'B_ADF_011_ei': np.float64(0.5310044064107188),\n",
       " 'B_ADF_100_ei': np.float64(0.5310044064107188),\n",
       " 'B_ADF_101_ei': np.float64(0.5310044064107188),\n",
       " 'B_ADF_110_ei': np.float64(0.5310044064107188),\n",
       " 'B_ADF_111_ei': np.float64(0.5310044064107188),\n",
       " 'B_ADF_ei': np.float64(0.5310044064107188),\n",
       " 'B_ei': np.float64(0.0),\n",
       " 'C_AE_00_ei': np.float64(0.5310044064107188),\n",
       " 'C_AE_01_ei': np.float64(0.0),\n",
       " 'C_AE_10_ei': np.float64(0.0),\n",
       " 'C_AE_11_ei': np.float64(0.0),\n",
       " 'C_AE_ei': np.float64(0.1327511016026797),\n",
       " 'C_ei': np.float64(0.04678484847737541),\n",
       " 'D_BF_00_ei': np.float64(0.5310044064107188),\n",
       " 'D_BF_01_ei': np.float64(0.5310044064107188),\n",
       " 'D_BF_10_ei': np.float64(0.5310044064107188),\n",
       " 'D_BF_11_ei': np.float64(0.5310044064107188),\n",
       " 'D_BF_ei': np.float64(0.5310044064107188),\n",
       " 'D_ei': np.float64(0.0)}"
      ]
     },
     "execution_count": 66,
     "metadata": {},
     "output_type": "execute_result"
    }
   ],
   "source": [
    "logic_1noise_result['D_ei'] = D_ei\n",
    "logic_1noise_result"
   ]
  },
  {
   "cell_type": "code",
   "execution_count": null,
   "id": "e7f2e861-40de-4f17-9997-05839de28081",
   "metadata": {},
   "outputs": [],
   "source": []
  },
  {
   "cell_type": "markdown",
   "id": "8b6776de-949b-44af-b5cf-5611788e0981",
   "metadata": {
    "jp-MarkdownHeadingCollapsed": true
   },
   "source": [
    "## RESULT"
   ]
  },
  {
   "cell_type": "code",
   "execution_count": 67,
   "id": "6c4a6848-8ebd-4704-9f7f-b7c8f3de9fca",
   "metadata": {},
   "outputs": [],
   "source": [
    "syn_ACE = logic_1noise_result['ACE_B_ei'] - logic_1noise_result['ACE_ei']\n",
    "logic_1noise_result['syn_ACE'] = syn_ACE"
   ]
  },
  {
   "cell_type": "code",
   "execution_count": 68,
   "id": "87c2a523-6d16-4784-ba33-41b006ddb6cb",
   "metadata": {},
   "outputs": [],
   "source": [
    "syn_BDF = logic_1noise_result['BDF_A_ei'] - logic_1noise_result['BDF_ei']\n",
    "logic_1noise_result['syn_BDF'] = syn_BDF"
   ]
  },
  {
   "cell_type": "code",
   "execution_count": 69,
   "id": "01a79108-a65b-4c9a-85a5-8a7b3c84fb8c",
   "metadata": {},
   "outputs": [],
   "source": [
    "syn_A = logic_1noise_result['A_BCE_ei'] - logic_1noise_result['A_ei']\n",
    "logic_1noise_result['syn_A'] = syn_A"
   ]
  },
  {
   "cell_type": "code",
   "execution_count": 70,
   "id": "ab9bf1f0-27c7-4a5c-831d-ca25318ab934",
   "metadata": {},
   "outputs": [],
   "source": [
    "syn_B = logic_1noise_result['B_ADF_ei'] - logic_1noise_result['B_ei']\n",
    "logic_1noise_result['syn_B'] = syn_B"
   ]
  },
  {
   "cell_type": "code",
   "execution_count": 71,
   "id": "57d55f04-179f-43ed-98ef-537592abde25",
   "metadata": {},
   "outputs": [],
   "source": [
    "syn_C = logic_1noise_result['C_AE_ei'] - logic_1noise_result['C_ei']\n",
    "logic_1noise_result['syn_C'] = syn_C"
   ]
  },
  {
   "cell_type": "code",
   "execution_count": 72,
   "id": "50aeecc7-198d-4867-b077-35b558ec8b54",
   "metadata": {},
   "outputs": [],
   "source": [
    "syn_D = logic_1noise_result['D_BF_ei'] - logic_1noise_result['D_ei']\n",
    "logic_1noise_result['syn_D'] = syn_D"
   ]
  },
  {
   "cell_type": "code",
   "execution_count": 73,
   "id": "8f5f69f2-e439-413b-b343-911b974db8ad",
   "metadata": {},
   "outputs": [
    {
     "data": {
      "text/plain": [
       "{'ALL_ei': np.float64(1.70351918935062),\n",
       " 'ACE_B_0_ei': np.float64(0.4562408059655874),\n",
       " 'ACE_B_1_ei': np.float64(0.3884205694381191),\n",
       " 'ACE_B_ei': np.float64(0.4223306877018532),\n",
       " 'ACE_ei': np.float64(0.40706815278210534),\n",
       " 'BDF_A_0_ei': np.float64(0.8624177306350442),\n",
       " 'BDF_A_1_ei': np.float64(0.8624177306350442),\n",
       " 'BDF_A_ei': np.float64(0.8624177306350442),\n",
       " 'BDF_ei': np.float64(0.7420858585497175),\n",
       " 'A_BCE_000_ei': np.float64(0.5310044064107188),\n",
       " 'A_BCE_001_ei': np.float64(0.0),\n",
       " 'A_BCE_010_ei': np.float64(0.0),\n",
       " 'A_BCE_011_ei': np.float64(0.0),\n",
       " 'A_BCE_100_ei': np.float64(0.0),\n",
       " 'A_BCE_101_ei': np.float64(0.0),\n",
       " 'A_BCE_110_ei': np.float64(0.0),\n",
       " 'A_BCE_111_ei': np.float64(0.0),\n",
       " 'A_BCE_ei': np.float64(0.06637555080133985),\n",
       " 'A_ei': np.float64(0.014378460478078663),\n",
       " 'B_ADF_000_ei': np.float64(0.5310044064107188),\n",
       " 'B_ADF_001_ei': np.float64(0.5310044064107188),\n",
       " 'B_ADF_010_ei': np.float64(0.5310044064107188),\n",
       " 'B_ADF_011_ei': np.float64(0.5310044064107188),\n",
       " 'B_ADF_100_ei': np.float64(0.5310044064107188),\n",
       " 'B_ADF_101_ei': np.float64(0.5310044064107188),\n",
       " 'B_ADF_110_ei': np.float64(0.5310044064107188),\n",
       " 'B_ADF_111_ei': np.float64(0.5310044064107188),\n",
       " 'B_ADF_ei': np.float64(0.5310044064107188),\n",
       " 'B_ei': np.float64(0.0),\n",
       " 'C_AE_00_ei': np.float64(0.5310044064107188),\n",
       " 'C_AE_01_ei': np.float64(0.0),\n",
       " 'C_AE_10_ei': np.float64(0.0),\n",
       " 'C_AE_11_ei': np.float64(0.0),\n",
       " 'C_AE_ei': np.float64(0.1327511016026797),\n",
       " 'C_ei': np.float64(0.04678484847737541),\n",
       " 'D_BF_00_ei': np.float64(0.5310044064107188),\n",
       " 'D_BF_01_ei': np.float64(0.5310044064107188),\n",
       " 'D_BF_10_ei': np.float64(0.5310044064107188),\n",
       " 'D_BF_11_ei': np.float64(0.5310044064107188),\n",
       " 'D_BF_ei': np.float64(0.5310044064107188),\n",
       " 'D_ei': np.float64(0.0),\n",
       " 'syn_ACE': np.float64(0.015262534919747883),\n",
       " 'syn_BDF': np.float64(0.1203318720853267),\n",
       " 'syn_A': np.float64(0.051997090323261184),\n",
       " 'syn_B': np.float64(0.5310044064107188),\n",
       " 'syn_C': np.float64(0.08596625312530429),\n",
       " 'syn_D': np.float64(0.5310044064107188)}"
      ]
     },
     "execution_count": 73,
     "metadata": {},
     "output_type": "execute_result"
    }
   ],
   "source": [
    "logic_1noise_result"
   ]
  },
  {
   "cell_type": "code",
   "execution_count": 75,
   "id": "88ec6703-4d3c-4678-a7ee-7282ff1970c4",
   "metadata": {},
   "outputs": [],
   "source": [
    "for key in logic_1noise_result:\n",
    "    if isinstance(logic_1noise_result[key], float):\n",
    "        logic_1noise_result[key] = round(logic_1noise_result[key], 2)"
   ]
  },
  {
   "cell_type": "code",
   "execution_count": 76,
   "id": "3ceed8ba-3eb1-4128-a0ca-cab4b707e5dc",
   "metadata": {},
   "outputs": [
    {
     "data": {
      "text/plain": [
       "{'ALL_ei': np.float64(1.7),\n",
       " 'ACE_B_0_ei': np.float64(0.46),\n",
       " 'ACE_B_1_ei': np.float64(0.39),\n",
       " 'ACE_B_ei': np.float64(0.42),\n",
       " 'ACE_ei': np.float64(0.41),\n",
       " 'BDF_A_0_ei': np.float64(0.86),\n",
       " 'BDF_A_1_ei': np.float64(0.86),\n",
       " 'BDF_A_ei': np.float64(0.86),\n",
       " 'BDF_ei': np.float64(0.74),\n",
       " 'A_BCE_000_ei': np.float64(0.53),\n",
       " 'A_BCE_001_ei': np.float64(0.0),\n",
       " 'A_BCE_010_ei': np.float64(0.0),\n",
       " 'A_BCE_011_ei': np.float64(0.0),\n",
       " 'A_BCE_100_ei': np.float64(0.0),\n",
       " 'A_BCE_101_ei': np.float64(0.0),\n",
       " 'A_BCE_110_ei': np.float64(0.0),\n",
       " 'A_BCE_111_ei': np.float64(0.0),\n",
       " 'A_BCE_ei': np.float64(0.07),\n",
       " 'A_ei': np.float64(0.01),\n",
       " 'B_ADF_000_ei': np.float64(0.53),\n",
       " 'B_ADF_001_ei': np.float64(0.53),\n",
       " 'B_ADF_010_ei': np.float64(0.53),\n",
       " 'B_ADF_011_ei': np.float64(0.53),\n",
       " 'B_ADF_100_ei': np.float64(0.53),\n",
       " 'B_ADF_101_ei': np.float64(0.53),\n",
       " 'B_ADF_110_ei': np.float64(0.53),\n",
       " 'B_ADF_111_ei': np.float64(0.53),\n",
       " 'B_ADF_ei': np.float64(0.53),\n",
       " 'B_ei': np.float64(0.0),\n",
       " 'C_AE_00_ei': np.float64(0.53),\n",
       " 'C_AE_01_ei': np.float64(0.0),\n",
       " 'C_AE_10_ei': np.float64(0.0),\n",
       " 'C_AE_11_ei': np.float64(0.0),\n",
       " 'C_AE_ei': np.float64(0.13),\n",
       " 'C_ei': np.float64(0.05),\n",
       " 'D_BF_00_ei': np.float64(0.53),\n",
       " 'D_BF_01_ei': np.float64(0.53),\n",
       " 'D_BF_10_ei': np.float64(0.53),\n",
       " 'D_BF_11_ei': np.float64(0.53),\n",
       " 'D_BF_ei': np.float64(0.53),\n",
       " 'D_ei': np.float64(0.0),\n",
       " 'syn_ACE': np.float64(0.02),\n",
       " 'syn_BDF': np.float64(0.12),\n",
       " 'syn_A': np.float64(0.05),\n",
       " 'syn_B': np.float64(0.53),\n",
       " 'syn_C': np.float64(0.09),\n",
       " 'syn_D': np.float64(0.53)}"
      ]
     },
     "execution_count": 76,
     "metadata": {},
     "output_type": "execute_result"
    }
   ],
   "source": [
    "logic_1noise_result"
   ]
  },
  {
   "cell_type": "code",
   "execution_count": null,
   "id": "73618adc-36ef-481d-ae82-9c4c8cf93596",
   "metadata": {},
   "outputs": [],
   "source": []
  }
 ],
 "metadata": {
  "kernelspec": {
   "display_name": "Python 3 (ipykernel)",
   "language": "python",
   "name": "python3"
  },
  "language_info": {
   "codemirror_mode": {
    "name": "ipython",
    "version": 3
   },
   "file_extension": ".py",
   "mimetype": "text/x-python",
   "name": "python",
   "nbconvert_exporter": "python",
   "pygments_lexer": "ipython3",
   "version": "3.11.9"
  }
 },
 "nbformat": 4,
 "nbformat_minor": 5
}
