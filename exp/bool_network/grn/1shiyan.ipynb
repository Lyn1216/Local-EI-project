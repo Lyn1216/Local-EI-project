{
 "cells": [
  {
   "cell_type": "code",
   "execution_count": 36,
   "id": "0ecf9ebb",
   "metadata": {},
   "outputs": [],
   "source": [
    "import networkx as nx\n",
    "import matplotlib.pyplot as plt\n",
    "import itertools"
   ]
  },
  {
   "cell_type": "code",
   "execution_count": 37,
   "id": "9ff85643",
   "metadata": {},
   "outputs": [
    {
     "data": {
      "image/png": "[encoded data removed]",
      "text/plain": [
       "<Figure size 432x288 with 1 Axes>"
      ]
     },
     "metadata": {},
     "output_type": "display_data"
    }
   ],
   "source": [
    "G = nx.DiGraph()\n",
    "\n",
    "nodes_with_positions = {\n",
    "    '1-1': (2, 0), '1-2': (10, 0), '1-3': (18, 0), '1-4': (26, 0),\n",
    "    '2-1': (0, -1), '2-2': (4, -1), '2-3': (8, -1), '2-4': (12, -1),  \n",
    "    '2-5': (16, -1), '2-6': (20, -1), '2-7': (24, -1),  '2-8': (28, -1), \n",
    "    '3-1': (2, -2), '3-2': (10, -2), '3-3': (18, -2), '3-4': (26, -2), \n",
    "    '4-1': (0, -3), '4-2': (4, -3), '4-3': (8, -3), '4-4': (12, -3), \n",
    "    '4-5': (16, -3), '4-6': (20, -3), '4-7': (24, -3), '4-8': (28, -3), \n",
    "    '5-1': (2, -4), '5-2': (10, -4), '5-3': (18, -4), '5-4': (26, -4),\n",
    "    '6-1': (0, -5), '6-2': (4, -5), '6-3': (8, -5), '6-4': (12, -5), \n",
    "    '6-5': (16, -5), '6-6': (20, -5), '6-7': (24, -5), '6-8': (28, -5), \n",
    "    '7-1': (2, -6),\n",
    "    '8-1': (0, -7), '8-2': (4, -7) \n",
    "}\n",
    "\n",
    "G.add_nodes_from(nodes_with_positions.keys())\n",
    "\n",
    "edges = [\n",
    "    ('1-1', '2-1'), ('1-1', '2-2'), \n",
    "    ('2-3', '1-2'), ('2-4', '1-2'),\n",
    "    ('1-3', '2-5'), ('2-6', '1-3'), \n",
    "    ('2-7', '1-4'), ('2-7', '2-8'), ('2-8', '2-7'),\n",
    "    ('3-1', '4-1'), ('4-1', '4-2'), ('4-2', '4-1'),\n",
    "    ('3-2', '4-3'), ('3-2', '4-4'), ('4-3', '3-2'), ('4-4', '3-2'),\n",
    "    ('3-3', '4-5'), ('3-3', '4-6'), ('4-5', '4-6'), \n",
    "    ('3-4', '4-7'), ('4-7', '4-8'), ('4-8', '3-4'),\n",
    "    ('6-1', '5-1'), ('6-2', '5-1'), ('6-1', '6-2'), ('6-2', '6-1'), \n",
    "    ('5-2', '6-3'), ('5-2', '6-4'), ('6-3', '6-4'), ('6-4', '6-3'),\n",
    "    ('5-3', '6-5'), ('6-6', '6-5'), ('6-5', '6-6'), ('6-6', '5-3'), \n",
    "    ('5-4', '6-7'), ('5-4', '6-8'), ('6-7', '6-8'), ('6-7', '5-4'), ('6-8', '5-4'),\n",
    "    ('7-1', '8-1'), ('7-1', '8-2'), ('8-1', '7-1'), ('8-1', '8-2'), ('8-2', '8-1'), ('8-2', '7-1')\n",
    "]\n",
    "G.add_edges_from(edges)\n",
    "\n",
    "pos = nodes_with_positions\n",
    "nx.draw(G, pos, with_labels=True, node_color='skyblue', node_size=300, edge_color='k', arrows=True)\n",
    "plt.show()"
   ]
  },
  {
   "cell_type": "code",
   "execution_count": 38,
   "id": "3e545a68",
   "metadata": {},
   "outputs": [],
   "source": [
    "def he(G, u, v):\n",
    "    return G.has_edge(u, v)"
   ]
  },
  {
   "cell_type": "code",
   "execution_count": 39,
   "id": "ba2d73c4",
   "metadata": {},
   "outputs": [],
   "source": [
    "def nhe(G, u, v):\n",
    "    return not G.has_edge(u, v)"
   ]
  },
  {
   "cell_type": "code",
   "execution_count": 40,
   "id": "929f3b25",
   "metadata": {},
   "outputs": [],
   "source": [
    "def fanout(G, k=3):\n",
    "    node_permutations = list(itertools.permutations(G.nodes(), k))\n",
    "    subgraphs = []\n",
    "    for nodes in node_permutations:\n",
    "        if he(G, nodes[0], nodes[1]) and he(G, nodes[0], nodes[2]) and nhe(G, nodes[1], nodes[0]) and \\\n",
    "        nhe(G, nodes[2], nodes[0]) and nhe(G, nodes[2], nodes[1]) and nhe(G, nodes[1], nodes[2]):\n",
    "            subgraphs.append(nodes)\n",
    "    subgraphs = list(set(tuple(sorted(t)) for t in subgraphs))\n",
    "    name_subgraphs = [f\"fanout{i+1}\" for i in range(len(subgraphs))]\n",
    "    return subgraphs, name_subgraphs"
   ]
  },
  {
   "cell_type": "code",
   "execution_count": 41,
   "id": "79e4985a",
   "metadata": {},
   "outputs": [],
   "source": [
    "def fanin(G, k=3):\n",
    "    node_permutations = list(itertools.permutations(G.nodes(), k))\n",
    "    subgraphs = []\n",
    "    for nodes in node_permutations:\n",
    "        if he(G, nodes[1], nodes[0]) and he(G, nodes[2], nodes[0]) and nhe(G, nodes[0], nodes[1]) and \\\n",
    "        nhe(G, nodes[0], nodes[2]) and nhe(G, nodes[2], nodes[1]) and nhe(G, nodes[1], nodes[2]):\n",
    "            subgraphs.append(nodes)\n",
    "    subgraphs = list(set(tuple(sorted(t)) for t in subgraphs))\n",
    "    name_subgraphs = [f\"fanin{i+1}\" for i in range(len(subgraphs))]\n",
    "    return subgraphs, name_subgraphs"
   ]
  },
  {
   "cell_type": "code",
   "execution_count": 42,
   "id": "0643e225",
   "metadata": {},
   "outputs": [],
   "source": [
    "def cascade(G, k=3):\n",
    "    node_permutations = list(itertools.permutations(G.nodes(), k))\n",
    "    subgraphs = []\n",
    "    for nodes in node_permutations:\n",
    "        if he(G, nodes[0], nodes[1]) and he(G, nodes[2], nodes[0]) and nhe(G, nodes[1], nodes[0]) and \\\n",
    "        nhe(G, nodes[0], nodes[2]) and nhe(G, nodes[2], nodes[1]) and nhe(G, nodes[1], nodes[2]):\n",
    "            subgraphs.append(nodes)\n",
    "    subgraphs = list(set(tuple(sorted(t)) for t in subgraphs))\n",
    "    name_subgraphs = [f\"cascade{i+1}\" for i in range(len(subgraphs))]\n",
    "    return subgraphs, name_subgraphs"
   ]
  },
  {
   "cell_type": "code",
   "execution_count": 43,
   "id": "48855b94",
   "metadata": {},
   "outputs": [],
   "source": [
    "def mutualout(G, k=3):\n",
    "    node_permutations = list(itertools.permutations(G.nodes(), k))\n",
    "    subgraphs = []\n",
    "    for nodes in node_permutations:\n",
    "        if he(G, nodes[0], nodes[1]) and he(G, nodes[2], nodes[0]) and he(G, nodes[0], nodes[2]) and \\\n",
    "        nhe(G, nodes[1], nodes[0]) and nhe(G, nodes[2], nodes[1]) and nhe(G, nodes[1], nodes[2]):\n",
    "            subgraphs.append(nodes)\n",
    "    subgraphs = list(set(tuple(sorted(t)) for t in subgraphs))\n",
    "    name_subgraphs = [f\"mutualout{i+1}\" for i in range(len(subgraphs))]\n",
    "    return subgraphs, name_subgraphs"
   ]
  },
  {
   "cell_type": "code",
   "execution_count": 44,
   "id": "052135fe",
   "metadata": {},
   "outputs": [],
   "source": [
    "def mutualin(G, k=3):\n",
    "    node_permutations = list(itertools.permutations(G.nodes(), k))\n",
    "    subgraphs = []\n",
    "    for nodes in node_permutations:\n",
    "        if he(G, nodes[0], nodes[1]) and nhe(G, nodes[0], nodes[2]) and he(G, nodes[1], nodes[2]) and \\\n",
    "        nhe(G, nodes[1], nodes[0]) and nhe(G, nodes[2], nodes[0]) and he(G, nodes[2], nodes[1]):\n",
    "            subgraphs.append(nodes)\n",
    "    subgraphs = list(set(tuple(sorted(t)) for t in subgraphs))\n",
    "    name_subgraphs = [f\"mutualin{i+1}\" for i in range(len(subgraphs))]\n",
    "    return subgraphs, name_subgraphs"
   ]
  },
  {
   "cell_type": "code",
   "execution_count": 45,
   "id": "1b3a195c",
   "metadata": {},
   "outputs": [],
   "source": [
    "def bimutual(G, k=3):\n",
    "    node_permutations = list(itertools.permutations(G.nodes(), k))\n",
    "    subgraphs = []\n",
    "    for nodes in node_permutations:\n",
    "        if he(G, nodes[0], nodes[1]) and he(G, nodes[0], nodes[2]) and nhe(G, nodes[1], nodes[2]) and \\\n",
    "        he(G, nodes[1], nodes[0]) and he(G, nodes[2], nodes[0]) and nhe(G, nodes[2], nodes[1]):\n",
    "            subgraphs.append(nodes)\n",
    "    subgraphs = list(set(tuple(sorted(t)) for t in subgraphs))\n",
    "    name_subgraphs = [f\"bimutual{i+1}\" for i in range(len(subgraphs))]\n",
    "    return subgraphs, name_subgraphs"
   ]
  },
  {
   "cell_type": "code",
   "execution_count": 46,
   "id": "402bc3d4",
   "metadata": {},
   "outputs": [],
   "source": [
    "def FFL(G, k=3):\n",
    "    node_permutations = list(itertools.permutations(G.nodes(), k))\n",
    "    subgraphs = []\n",
    "    for nodes in node_permutations:\n",
    "        if he(G, nodes[0], nodes[1]) and he(G, nodes[0], nodes[2]) and he(G, nodes[1], nodes[2]) and \\\n",
    "        nhe(G, nodes[1], nodes[0]) and nhe(G, nodes[2], nodes[0]) and nhe(G, nodes[2], nodes[1]):\n",
    "            subgraphs.append(nodes)\n",
    "    subgraphs = list(set(tuple(sorted(t)) for t in subgraphs))\n",
    "    name_subgraphs = [f\"FFL{i+1}\" for i in range(len(subgraphs))]\n",
    "    return subgraphs, name_subgraphs"
   ]
  },
  {
   "cell_type": "code",
   "execution_count": 47,
   "id": "1b0204b3",
   "metadata": {},
   "outputs": [],
   "source": [
    "def FBL(G, k=3):\n",
    "    node_permutations = list(itertools.permutations(G.nodes(), k))\n",
    "    subgraphs = []\n",
    "    for nodes in node_permutations:\n",
    "        if he(G, nodes[0], nodes[1]) and nhe(G, nodes[0], nodes[2]) and he(G, nodes[1], nodes[2]) and \\\n",
    "        nhe(G, nodes[1], nodes[0]) and he(G, nodes[2], nodes[0]) and nhe(G, nodes[2], nodes[1]):\n",
    "            subgraphs.append(nodes)\n",
    "    subgraphs = list(set(tuple(sorted(t)) for t in subgraphs))\n",
    "    name_subgraphs = [f\"FBL{i+1}\" for i in range(len(subgraphs))]\n",
    "    return subgraphs, name_subgraphs"
   ]
  },
  {
   "cell_type": "code",
   "execution_count": 48,
   "id": "1b073e75",
   "metadata": {},
   "outputs": [],
   "source": [
    "def regulatingmutual(G, k=3):\n",
    "    node_permutations = list(itertools.permutations(G.nodes(), k))\n",
    "    subgraphs = []\n",
    "    for nodes in node_permutations:\n",
    "        if nhe(G, nodes[0], nodes[1]) and nhe(G, nodes[0], nodes[2]) and he(G, nodes[1], nodes[2]) and \\\n",
    "        he(G, nodes[1], nodes[0]) and he(G, nodes[2], nodes[0]) and he(G, nodes[2], nodes[1]):\n",
    "            subgraphs.append(nodes)\n",
    "    subgraphs = list(set(tuple(sorted(t)) for t in subgraphs))\n",
    "    name_subgraphs = [f\"regulatingmutual{i+1}\" for i in range(len(subgraphs))]\n",
    "    return subgraphs, name_subgraphs"
   ]
  },
  {
   "cell_type": "code",
   "execution_count": 49,
   "id": "6dfc1c24",
   "metadata": {},
   "outputs": [],
   "source": [
    "def regulatedmutual(G, k=3):\n",
    "    node_permutations = list(itertools.permutations(G.nodes(), k))\n",
    "    subgraphs = []\n",
    "    for nodes in node_permutations:\n",
    "        if he(G, nodes[0], nodes[1]) and he(G, nodes[0], nodes[2]) and he(G, nodes[1], nodes[2]) and \\\n",
    "        nhe(G, nodes[1], nodes[0]) and nhe(G, nodes[2], nodes[0]) and he(G, nodes[2], nodes[1]):\n",
    "            subgraphs.append(nodes)\n",
    "    subgraphs = list(set(tuple(sorted(t)) for t in subgraphs))\n",
    "    name_subgraphs = [f\"regulatedmutual{i+1}\" for i in range(len(subgraphs))]\n",
    "    return subgraphs, name_subgraphs"
   ]
  },
  {
   "cell_type": "code",
   "execution_count": 50,
   "id": "0e936863",
   "metadata": {},
   "outputs": [],
   "source": [
    "def mutualcascade(G, k=3):\n",
    "    node_permutations = list(itertools.permutations(G.nodes(), k))\n",
    "    subgraphs = []\n",
    "    for nodes in node_permutations:\n",
    "        if he(G, nodes[0], nodes[1]) and nhe(G, nodes[0], nodes[2]) and he(G, nodes[1], nodes[2]) and \\\n",
    "        nhe(G, nodes[1], nodes[0]) and he(G, nodes[2], nodes[0]) and he(G, nodes[2], nodes[1]):\n",
    "            subgraphs.append(nodes)\n",
    "    subgraphs = list(set(tuple(sorted(t)) for t in subgraphs))\n",
    "    name_subgraphs = [f\"mutualcascade{i+1}\" for i in range(len(subgraphs))]\n",
    "    return subgraphs, name_subgraphs"
   ]
  },
  {
   "cell_type": "code",
   "execution_count": 51,
   "id": "fc86a0f4",
   "metadata": {},
   "outputs": [],
   "source": [
    "def semiclique(G, k=3):\n",
    "    node_permutations = list(itertools.permutations(G.nodes(), k))\n",
    "    subgraphs = []\n",
    "    for nodes in node_permutations:\n",
    "        if he(G, nodes[0], nodes[1]) and he(G, nodes[0], nodes[2]) and he(G, nodes[1], nodes[2]) and \\\n",
    "        he(G, nodes[1], nodes[0]) and he(G, nodes[2], nodes[0]) and nhe(G, nodes[2], nodes[1]):\n",
    "            subgraphs.append(nodes)\n",
    "    subgraphs = list(set(tuple(sorted(t)) for t in subgraphs))\n",
    "    name_subgraphs = [f\"semiclique{i+1}\" for i in range(len(subgraphs))]\n",
    "    return subgraphs, name_subgraphs"
   ]
  },
  {
   "cell_type": "code",
   "execution_count": 52,
   "id": "dac63769",
   "metadata": {},
   "outputs": [],
   "source": [
    "def clique(G, k=3):\n",
    "    node_permutations = list(itertools.permutations(G.nodes(), k))\n",
    "    subgraphs = []\n",
    "    for nodes in node_permutations:\n",
    "        if he(G, nodes[0], nodes[1]) and he(G, nodes[0], nodes[2]) and he(G, nodes[1], nodes[2]) and \\\n",
    "        he(G, nodes[1], nodes[0]) and he(G, nodes[2], nodes[0]) and he(G, nodes[2], nodes[1]):\n",
    "            subgraphs.append(nodes)\n",
    "    subgraphs = list(set(tuple(sorted(t)) for t in subgraphs))\n",
    "    name_subgraphs = [f\"clique{i+1}\" for i in range(len(subgraphs))]\n",
    "    return subgraphs, name_subgraphs"
   ]
  },
  {
   "cell_type": "code",
   "execution_count": 53,
   "id": "ad6dddc4",
   "metadata": {},
   "outputs": [
    {
     "name": "stdout",
     "output_type": "stream",
     "text": [
      "[('1-1', '2-1', '2-2')]\n"
     ]
    }
   ],
   "source": [
    "one_subgraphs = fanout(G, k=3)\n",
    "print(one_subgraphs)"
   ]
  },
  {
   "cell_type": "code",
   "execution_count": 54,
   "id": "7a99fa34",
   "metadata": {},
   "outputs": [
    {
     "name": "stdout",
     "output_type": "stream",
     "text": [
      "[('1-2', '2-3', '2-4')]\n"
     ]
    }
   ],
   "source": [
    "one_subgraphs = fanin(G, k=3)\n",
    "print(one_subgraphs)"
   ]
  },
  {
   "cell_type": "code",
   "execution_count": 55,
   "id": "146a31d5",
   "metadata": {},
   "outputs": [
    {
     "name": "stdout",
     "output_type": "stream",
     "text": [
      "[('1-3', '2-5', '2-6')]\n"
     ]
    }
   ],
   "source": [
    "subgraphs = cascade(G, k=3)\n",
    "print(subgraphs)"
   ]
  },
  {
   "cell_type": "code",
   "execution_count": 56,
   "id": "e1c75f75",
   "metadata": {},
   "outputs": [
    {
     "name": "stdout",
     "output_type": "stream",
     "text": [
      "[('1-4', '2-7', '2-8')]\n"
     ]
    }
   ],
   "source": [
    "subgraphs = mutualout(G, k=3)\n",
    "print(subgraphs)"
   ]
  },
  {
   "cell_type": "code",
   "execution_count": 57,
   "id": "b7a56f1e",
   "metadata": {},
   "outputs": [
    {
     "name": "stdout",
     "output_type": "stream",
     "text": [
      "[('3-1', '4-1', '4-2')]\n"
     ]
    }
   ],
   "source": [
    "subgraphs = mutualin(G, k=3)\n",
    "print(subgraphs)"
   ]
  },
  {
   "cell_type": "code",
   "execution_count": 58,
   "id": "e3b8f168",
   "metadata": {},
   "outputs": [
    {
     "name": "stdout",
     "output_type": "stream",
     "text": [
      "[('3-2', '4-3', '4-4')]\n"
     ]
    }
   ],
   "source": [
    "subgraphs = bimutual(G, k=3)\n",
    "print(subgraphs)"
   ]
  },
  {
   "cell_type": "code",
   "execution_count": 59,
   "id": "0b95b0f2",
   "metadata": {},
   "outputs": [
    {
     "name": "stdout",
     "output_type": "stream",
     "text": [
      "[('3-3', '4-5', '4-6')]\n"
     ]
    }
   ],
   "source": [
    "subgraphs = FFL(G, k=3)\n",
    "print(subgraphs)"
   ]
  },
  {
   "cell_type": "code",
   "execution_count": 60,
   "id": "1c951238",
   "metadata": {},
   "outputs": [
    {
     "name": "stdout",
     "output_type": "stream",
     "text": [
      "[('3-4', '4-7', '4-8')]\n"
     ]
    }
   ],
   "source": [
    "subgraphs = FBL(G, k=3)\n",
    "print(subgraphs)"
   ]
  },
  {
   "cell_type": "code",
   "execution_count": 61,
   "id": "69460fad",
   "metadata": {},
   "outputs": [
    {
     "name": "stdout",
     "output_type": "stream",
     "text": [
      "[('5-1', '6-1', '6-2')]\n"
     ]
    }
   ],
   "source": [
    "subgraphs = regulatingmutual(G, k=3)\n",
    "print(subgraphs)"
   ]
  },
  {
   "cell_type": "code",
   "execution_count": 62,
   "id": "b428dc39",
   "metadata": {},
   "outputs": [
    {
     "name": "stdout",
     "output_type": "stream",
     "text": [
      "[('5-2', '6-3', '6-4')]\n"
     ]
    }
   ],
   "source": [
    "subgraphs = regulatedmutual(G, k=3)\n",
    "print(subgraphs)"
   ]
  },
  {
   "cell_type": "code",
   "execution_count": 63,
   "id": "64f39a14",
   "metadata": {},
   "outputs": [
    {
     "name": "stdout",
     "output_type": "stream",
     "text": [
      "[('5-3', '6-5', '6-6')]\n"
     ]
    }
   ],
   "source": [
    "subgraphs = mutualcascade(G, k=3)\n",
    "print(subgraphs)"
   ]
  },
  {
   "cell_type": "code",
   "execution_count": 64,
   "id": "1506e09f",
   "metadata": {},
   "outputs": [
    {
     "name": "stdout",
     "output_type": "stream",
     "text": [
      "[('5-4', '6-7', '6-8')]\n"
     ]
    }
   ],
   "source": [
    "subgraphs = semiclique(G, k=3)\n",
    "print(subgraphs)"
   ]
  },
  {
   "cell_type": "code",
   "execution_count": 65,
   "id": "8ca716e1",
   "metadata": {},
   "outputs": [
    {
     "name": "stdout",
     "output_type": "stream",
     "text": [
      "[('7-1', '8-1', '8-2')]\n"
     ]
    }
   ],
   "source": [
    "subgraphs = clique(G, k=3)\n",
    "print(subgraphs)"
   ]
  },
  {
   "cell_type": "code",
   "execution_count": null,
   "id": "f8e4706c",
   "metadata": {},
   "outputs": [],
   "source": []
  },
  {
   "cell_type": "code",
   "execution_count": null,
   "id": "7e03b11f",
   "metadata": {},
   "outputs": [],
   "source": []
  }
 ],
 "metadata": {
  "kernelspec": {
   "display_name": "Python 3",
   "language": "python",
   "name": "python3"
  },
  "language_info": {
   "codemirror_mode": {
    "name": "ipython",
    "version": 3
   },
   "file_extension": ".py",
   "mimetype": "text/x-python",
   "name": "python",
   "nbconvert_exporter": "python",
   "pygments_lexer": "ipython3",
   "version": "3.8.8"
  }
 },
 "nbformat": 4,
 "nbformat_minor": 5
}
