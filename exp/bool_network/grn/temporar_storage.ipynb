{
 "cells": [
  {
   "cell_type": "code",
   "execution_count": null,
   "id": "93ed7b2c",
   "metadata": {},
   "outputs": [],
   "source": [
    "# 只看图\n",
    "F, I, degree, variables, constants = db.text_to_BN(folder=\"\",textfile=str(file_path))\n",
    "G = nx.DiGraph()\n",
    "all_nodes = variables + constants\n",
    "G.add_nodes_from(all_nodes)\n",
    "    \n",
    "for i in range(len(variables)):\n",
    "    for j in I[i]:\n",
    "        G.add_edges_from([(all_nodes[j], variables[i])])\n",
    "    \n",
    "pos = nx.spring_layout(G)  \n",
    "plt.figure(figsize=(12, 12)) \n",
    "nx.draw(G, pos, with_labels=True, node_color='skyblue', node_size=500, edge_color='k', linewidths=1, font_size=10)\n",
    "plt.show()"
   ]
  }
 ],
 "metadata": {
  "kernelspec": {
   "display_name": "Python 3",
   "language": "python",
   "name": "python3"
  },
  "language_info": {
   "codemirror_mode": {
    "name": "ipython",
    "version": 3
   },
   "file_extension": ".py",
   "mimetype": "text/x-python",
   "name": "python",
   "nbconvert_exporter": "python",
   "pygments_lexer": "ipython3",
   "version": "3.8.8"
  }
 },
 "nbformat": 4,
 "nbformat_minor": 5
}
