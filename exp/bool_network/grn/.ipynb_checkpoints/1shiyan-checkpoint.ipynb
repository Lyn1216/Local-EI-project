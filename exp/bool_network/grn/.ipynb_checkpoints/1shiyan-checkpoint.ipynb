{
 "cells": [
  {
   "cell_type": "code",
   "execution_count": 1,
   "metadata": {},
   "outputs": [],
   "source": [
    "import networkx as nx\n",
    "import matplotlib.pyplot as plt\n",
    "import itertools\n",
    "import numpy as np"
   ]
  },
  {
   "cell_type": "code",
   "execution_count": 12,
   "metadata": {},
   "outputs": [
    {
     "data": {
      "text/plain": [
       "{0: 'cellcollective\\\\Apoptosis Network_19422837.txt',\n",
       " 1: 'cellcollective\\\\Arabidopsis thaliana Cell Cycle_26340681.txt',\n",
       " 2: 'cellcollective\\\\Aurora Kinase A in Neuroblastoma_26616283.txt',\n",
       " 3: 'cellcollective\\\\B bronchiseptica and T retortaeformis coinfection_22253585.txt',\n",
       " 4: 'cellcollective\\\\B cell differentiation_26751566.txt',\n",
       " 5: 'cellcollective\\\\Body Segmentation in Drosophila 2013_23520449.txt',\n",
       " 6: 'cellcollective\\\\Bordetella bronchiseptica_22253585.txt',\n",
       " 7: 'cellcollective\\\\Bortezomib Responses in U266 Human Myeloma Cells_26163548.txt',\n",
       " 8: 'cellcollective\\\\BT474 Breast Cell Line Long-term ErbB Network_24970389.txt',\n",
       " 9: 'cellcollective\\\\BT474 Breast Cell Line Short-term ErbB Network_24970389.txt',\n",
       " 10: 'cellcollective\\\\Budding Yeast Cell Cycle 2009_19185585.txt',\n",
       " 11: 'cellcollective\\\\Budding Yeast Cell Cycle_23049686.txt',\n",
       " 12: 'cellcollective\\\\Cardiac development_23056457.txt',\n",
       " 13: 'cellcollective\\\\CD4 T cell signaling_25538703.txt',\n",
       " 14: 'cellcollective\\\\CD4+ T Cell Differentiation and Plasticity_26090929.txt',\n",
       " 15: 'cellcollective\\\\CD4+ T cell Differentiation_22871178.txt',\n",
       " 16: 'cellcollective\\\\Cell Cycle Transcription by Coupled CDK and Network Oscillators_18463633.txt',\n",
       " 17: 'cellcollective\\\\Cholesterol Regulatory Pathway_19025648.txt',\n",
       " 18: 'cellcollective\\\\Colitis-associated colon cancer_26446703.txt',\n",
       " 19: 'cellcollective\\\\Cortical Area Development_20862356.txt',\n",
       " 20: 'cellcollective\\\\Death Receptor Signaling_20221256.txt',\n",
       " 21: 'cellcollective\\\\Differentiation of T lymphocytes_23743337.txt',\n",
       " 22: 'cellcollective\\\\EGFR & ErbB Signaling_19662154.txt',\n",
       " 23: 'cellcollective\\\\ErbB (1-4) Receptor Signaling_23637902.txt',\n",
       " 24: 'cellcollective\\\\exam1.txt',\n",
       " 25: 'cellcollective\\\\exam_loop.txt',\n",
       " 26: 'cellcollective\\\\exam_loop0.txt',\n",
       " 27: 'cellcollective\\\\exam_loop1.txt',\n",
       " 28: 'cellcollective\\\\exam_loop2.txt',\n",
       " 29: 'cellcollective\\\\FA BRCA pathway_22267503.txt',\n",
       " 30: 'cellcollective\\\\Fanconi anemia and checkpoint recovery_26385365.txt',\n",
       " 31: 'cellcollective\\\\FGF pathway of Drosophila Signaling Pathways_23868318.txt',\n",
       " 32: 'cellcollective\\\\fMRI - Regulation of the Lac Operon_25790483.txt',\n",
       " 33: 'cellcollective\\\\Glucose Repression Signaling 2009_19144179.txt',\n",
       " 34: 'cellcollective\\\\Guard Cell Abscisic Acid Signaling_16968132.txt',\n",
       " 35: 'cellcollective\\\\HCC1954 Breast Cell Line Long-term ErbB Network_24970389.txt',\n",
       " 36: 'cellcollective\\\\HCC1954 Breast Cell Line Short-term ErbB Network_24970389.txt',\n",
       " 37: 'cellcollective\\\\HGF Signaling in Keratinocytes_22962472.txt',\n",
       " 38: 'cellcollective\\\\HH Pathway of Drosophila Signaling Pathways_23868318.txt',\n",
       " 39: 'cellcollective\\\\HIV-1 interactions with T-Cell Signaling Pathway_25431332.txt',\n",
       " 40: 'cellcollective\\\\Human Gonadal Sex Determination_26573569.txt',\n",
       " 41: 'cellcollective\\\\IGVH mutations in chronic lymphocytic leukemia_26088082.txt',\n",
       " 42: 'cellcollective\\\\IL-1 Signaling_21968890.txt',\n",
       " 43: 'cellcollective\\\\IL-6 Signaling_21968890.txt',\n",
       " 44: 'cellcollective\\\\Inflammatory Bowel Disease (IBD) Model_29513758.txt',\n",
       " 45: 'cellcollective\\\\Influenza A Virus Replication Cycle_23081726.txt',\n",
       " 46: 'cellcollective\\\\Iron acquisition and oxidative stress response in aspergillus fumigatus_25908096.txt',\n",
       " 47: 'cellcollective\\\\Lac Operon_21563979.txt',\n",
       " 48: 'cellcollective\\\\loop.txt',\n",
       " 49: 'cellcollective\\\\loop1.txt',\n",
       " 50: 'cellcollective\\\\loop2.txt',\n",
       " 51: 'cellcollective\\\\loop3.txt',\n",
       " 52: 'cellcollective\\\\loop_var4.txt',\n",
       " 53: 'cellcollective\\\\loop_var4_0.txt',\n",
       " 54: 'cellcollective\\\\loop_var4_1.txt',\n",
       " 55: 'cellcollective\\\\loop_var4_2.txt',\n",
       " 56: 'cellcollective\\\\loop_var4_top.txt',\n",
       " 57: 'cellcollective\\\\Lymphoid and myeloid cell specification and transdifferentiation_28584084.txt',\n",
       " 58: 'cellcollective\\\\Lymphopoiesis Regulatory Network_26408858.txt',\n",
       " 59: 'cellcollective\\\\Mammalian Cell Cycle 2006_16873462.txt',\n",
       " 60: 'cellcollective\\\\Mammalian Cell Cycle_19118495.txt',\n",
       " 61: 'cellcollective\\\\manual_mod_Treatment of Castration-Resistant Prostate Cancer_28361666.txt',\n",
       " 62: 'cellcollective\\\\MAPK Cancer Cell Fate Network_24250280.txt',\n",
       " 63: 'cellcollective\\\\Metabolic Interactions in the Gut Microbiome_26102287.txt',\n",
       " 64: 'cellcollective\\\\Neurotransmitter Signaling Pathway_17010384.txt',\n",
       " 65: 'cellcollective\\\\Oxidative Stress Pathway_23134720.txt',\n",
       " 66: 'cellcollective\\\\PC12 Cell Differentiation_27148350.txt',\n",
       " 67: 'cellcollective\\\\Predicting Variabilities in Cardiac Gene_26207376.txt',\n",
       " 68: 'cellcollective\\\\Pro-inflammatory Tumor Microenvironment in Acute Lymphoblastic Leukemia_27594840.txt',\n",
       " 69: 'cellcollective\\\\Processing of Spz Network from the Drosophila Signaling Pathway_23868318.txt',\n",
       " 70: 'cellcollective\\\\Regulation of the L-arabinose operon of Escherichia coli_28639170.txt',\n",
       " 71: 'cellcollective\\\\Senescence Associated Secretory Phenotype_29206223.txt',\n",
       " 72: 'cellcollective\\\\Septation Initiation Network_26244885.txt',\n",
       " 73: 'cellcollective\\\\Signal Transduction in Fibroblasts_18250321.txt',\n",
       " 74: 'cellcollective\\\\Signaling in Macrophage Activation_18433497.txt',\n",
       " 75: 'cellcollective\\\\SKBR3 Breast Cell Line Long-term ErbB Network_24970389.txt',\n",
       " 76: 'cellcollective\\\\SKBR3 Breast Cell Line Short-term ErbB Network_24970389.txt',\n",
       " 77: 'cellcollective\\\\Stomatal Opening Model_27542373.txt',\n",
       " 78: 'cellcollective\\\\T cell differentiation_16542429.txt',\n",
       " 79: 'cellcollective\\\\T Cell Receptor Signaling_17722974.txt',\n",
       " 80: 'cellcollective\\\\T-Cell Signaling 2006_16464248.txt',\n",
       " 81: 'cellcollective\\\\T-LGL Survival Network 2008_18852469.txt',\n",
       " 82: 'cellcollective\\\\T-LGL Survival Network 2011 Reduced Network_22102804.txt',\n",
       " 83: 'cellcollective\\\\T-LGL Survival Network 2011_22102804.txt',\n",
       " 84: 'cellcollective\\\\TOL Regulatory Network_23171249.txt',\n",
       " 85: 'cellcollective\\\\Toll Pathway of Drosophila Signaling Pathway_23868318.txt',\n",
       " 86: 'cellcollective\\\\Trichostrongylus retortaeformis_22253585.txt',\n",
       " 87: 'cellcollective\\\\Tumour Cell Invasion and Migration_26528548.txt',\n",
       " 88: 'cellcollective\\\\VEGF Pathway of Drosophila Signaling Pathway_23868318.txt',\n",
       " 89: 'cellcollective\\\\Wg Pathway of Drosophila Signalling Pathways_23868318.txt',\n",
       " 90: 'cellcollective\\\\Yeast Apoptosis_23233838.txt',\n",
       " 91: 'cellcollective\\\\.ipynb_checkpoints\\\\Apoptosis Network_19422837-checkpoint.txt',\n",
       " 92: 'cellcollective\\\\.ipynb_checkpoints\\\\Arabidopsis thaliana Cell Cycle_26340681-checkpoint.txt',\n",
       " 93: 'cellcollective\\\\.ipynb_checkpoints\\\\Aurora Kinase A in Neuroblastoma_26616283-checkpoint.txt',\n",
       " 94: 'cellcollective\\\\.ipynb_checkpoints\\\\B bronchiseptica and T retortaeformis coinfection_22253585-checkpoint.txt',\n",
       " 95: 'cellcollective\\\\.ipynb_checkpoints\\\\B cell differentiation_26751566-checkpoint.txt',\n",
       " 96: 'cellcollective\\\\.ipynb_checkpoints\\\\Body Segmentation in Drosophila 2013_23520449-checkpoint.txt',\n",
       " 97: 'cellcollective\\\\.ipynb_checkpoints\\\\Bortezomib Responses in U266 Human Myeloma Cells_26163548-checkpoint.txt',\n",
       " 98: 'cellcollective\\\\.ipynb_checkpoints\\\\BT474 Breast Cell Line Short-term ErbB Network_24970389-checkpoint.txt',\n",
       " 99: 'cellcollective\\\\.ipynb_checkpoints\\\\Budding Yeast Cell Cycle_23049686-checkpoint.txt',\n",
       " 100: 'cellcollective\\\\.ipynb_checkpoints\\\\Cardiac development_23056457-checkpoint.txt',\n",
       " 101: 'cellcollective\\\\.ipynb_checkpoints\\\\Cell Cycle Transcription by Coupled CDK and Network Oscillators_18463633-checkpoint.txt',\n",
       " 102: 'cellcollective\\\\.ipynb_checkpoints\\\\Cholesterol Regulatory Pathway_19025648-checkpoint.txt',\n",
       " 103: 'cellcollective\\\\.ipynb_checkpoints\\\\Colitis-associated colon cancer_26446703-checkpoint.txt',\n",
       " 104: 'cellcollective\\\\.ipynb_checkpoints\\\\Cortical Area Development_20862356-checkpoint.txt',\n",
       " 105: 'cellcollective\\\\.ipynb_checkpoints\\\\Death Receptor Signaling_20221256-checkpoint.txt',\n",
       " 106: 'cellcollective\\\\.ipynb_checkpoints\\\\ErbB (1-4) Receptor Signaling_23637902-checkpoint.txt',\n",
       " 107: 'cellcollective\\\\.ipynb_checkpoints\\\\exam_loop-checkpoint.txt',\n",
       " 108: 'cellcollective\\\\.ipynb_checkpoints\\\\exam_loop0-checkpoint.txt',\n",
       " 109: 'cellcollective\\\\.ipynb_checkpoints\\\\exam_loop1-checkpoint.txt',\n",
       " 110: 'cellcollective\\\\.ipynb_checkpoints\\\\exam_loop2-checkpoint.txt',\n",
       " 111: 'cellcollective\\\\.ipynb_checkpoints\\\\Human Gonadal Sex Determination_26573569-checkpoint.txt',\n",
       " 112: 'cellcollective\\\\.ipynb_checkpoints\\\\loop-checkpoint.txt',\n",
       " 113: 'cellcollective\\\\.ipynb_checkpoints\\\\loop1-checkpoint.txt',\n",
       " 114: 'cellcollective\\\\.ipynb_checkpoints\\\\loop2-checkpoint.txt',\n",
       " 115: 'cellcollective\\\\.ipynb_checkpoints\\\\loop3-checkpoint.txt',\n",
       " 116: 'cellcollective\\\\.ipynb_checkpoints\\\\loop_var4-checkpoint.txt',\n",
       " 117: 'cellcollective\\\\.ipynb_checkpoints\\\\loop_var4_0-checkpoint.txt',\n",
       " 118: 'cellcollective\\\\.ipynb_checkpoints\\\\loop_var4_1-checkpoint.txt',\n",
       " 119: 'cellcollective\\\\.ipynb_checkpoints\\\\loop_var4_2-checkpoint.txt',\n",
       " 120: 'cellcollective\\\\.ipynb_checkpoints\\\\loop_var4_top-checkpoint.txt',\n",
       " 121: 'cellcollective\\\\.ipynb_checkpoints\\\\PC12 Cell Differentiation_27148350-checkpoint.txt',\n",
       " 122: 'cellcollective\\\\.ipynb_checkpoints\\\\SKBR3 Breast Cell Line Short-term ErbB Network_24970389-checkpoint.txt'}"
      ]
     },
     "execution_count": 12,
     "metadata": {},
     "output_type": "execute_result"
    }
   ],
   "source": [
    "import sys\n",
    "sys.path.append(\"../..\")\n",
    "from pathlib import Path\n",
    "file_dict = {}\n",
    "directory = Path('cellcollective')\n",
    "counter = 0\n",
    "for file_path in directory.rglob('*'):\n",
    "    if file_path.is_file():\n",
    "        file_dict[counter] = str(file_path)\n",
    "        counter += 1\n",
    "file_dict"
   ]
  },
  {
   "cell_type": "code",
   "execution_count": 37,
   "metadata": {},
   "outputs": [
    {
     "data": {
      "image/png": "[encoded data removed]",
      "text/plain": [
       "<Figure size 432x288 with 1 Axes>"
      ]
     },
     "metadata": {},
     "output_type": "display_data"
    }
   ],
   "source": [
    "G = nx.DiGraph()\n",
    "\n",
    "nodes_with_positions = {\n",
    "    '1-1': (2, 0), '1-2': (10, 0), '1-3': (18, 0), '1-4': (26, 0),\n",
    "    '2-1': (0, -1), '2-2': (4, -1), '2-3': (8, -1), '2-4': (12, -1),  \n",
    "    '2-5': (16, -1), '2-6': (20, -1), '2-7': (24, -1),  '2-8': (28, -1), \n",
    "    '3-1': (2, -2), '3-2': (10, -2), '3-3': (18, -2), '3-4': (26, -2), \n",
    "    '4-1': (0, -3), '4-2': (4, -3), '4-3': (8, -3), '4-4': (12, -3), \n",
    "    '4-5': (16, -3), '4-6': (20, -3), '4-7': (24, -3), '4-8': (28, -3), \n",
    "    '5-1': (2, -4), '5-2': (10, -4), '5-3': (18, -4), '5-4': (26, -4),\n",
    "    '6-1': (0, -5), '6-2': (4, -5), '6-3': (8, -5), '6-4': (12, -5), \n",
    "    '6-5': (16, -5), '6-6': (20, -5), '6-7': (24, -5), '6-8': (28, -5), \n",
    "    '7-1': (2, -6),\n",
    "    '8-1': (0, -7), '8-2': (4, -7) \n",
    "}\n",
    "\n",
    "G.add_nodes_from(nodes_with_positions.keys())\n",
    "\n",
    "edges = [\n",
    "    ('1-1', '2-1'), ('1-1', '2-2'), \n",
    "    ('2-3', '1-2'), ('2-4', '1-2'),\n",
    "    ('1-3', '2-5'), ('2-6', '1-3'), \n",
    "    ('2-7', '1-4'), ('2-7', '2-8'), ('2-8', '2-7'),\n",
    "    ('3-1', '4-1'), ('4-1', '4-2'), ('4-2', '4-1'),\n",
    "    ('3-2', '4-3'), ('3-2', '4-4'), ('4-3', '3-2'), ('4-4', '3-2'),\n",
    "    ('3-3', '4-5'), ('3-3', '4-6'), ('4-5', '4-6'), \n",
    "    ('3-4', '4-7'), ('4-7', '4-8'), ('4-8', '3-4'),\n",
    "    ('6-1', '5-1'), ('6-2', '5-1'), ('6-1', '6-2'), ('6-2', '6-1'), \n",
    "    ('5-2', '6-3'), ('5-2', '6-4'), ('6-3', '6-4'), ('6-4', '6-3'),\n",
    "    ('5-3', '6-5'), ('6-6', '6-5'), ('6-5', '6-6'), ('6-6', '5-3'), \n",
    "    ('5-4', '6-7'), ('5-4', '6-8'), ('6-7', '6-8'), ('6-7', '5-4'), ('6-8', '5-4'),\n",
    "    ('7-1', '8-1'), ('7-1', '8-2'), ('8-1', '7-1'), ('8-1', '8-2'), ('8-2', '8-1'), ('8-2', '7-1')\n",
    "]\n",
    "G.add_edges_from(edges)\n",
    "\n",
    "pos = nodes_with_positions\n",
    "nx.draw(G, pos, with_labels=True, node_color='skyblue', node_size=300, edge_color='k', arrows=True)\n",
    "plt.show()"
   ]
  },
  {
   "cell_type": "code",
   "execution_count": 38,
   "metadata": {},
   "outputs": [],
   "source": [
    "def he(G, u, v):\n",
    "    return G.has_edge(u, v)"
   ]
  },
  {
   "cell_type": "code",
   "execution_count": 39,
   "metadata": {},
   "outputs": [],
   "source": [
    "def nhe(G, u, v):\n",
    "    return not G.has_edge(u, v)"
   ]
  },
  {
   "cell_type": "code",
   "execution_count": 40,
   "metadata": {},
   "outputs": [],
   "source": [
    "def fanout(G, k=3):\n",
    "    node_permutations = list(itertools.permutations(G.nodes(), k))\n",
    "    subgraphs = []\n",
    "    for nodes in node_permutations:\n",
    "        if he(G, nodes[0], nodes[1]) and he(G, nodes[0], nodes[2]) and nhe(G, nodes[1], nodes[0]) and \\\n",
    "        nhe(G, nodes[2], nodes[0]) and nhe(G, nodes[2], nodes[1]) and nhe(G, nodes[1], nodes[2]):\n",
    "            subgraphs.append(nodes)\n",
    "    subgraphs = list(set(tuple(sorted(t)) for t in subgraphs))\n",
    "    name_subgraphs = [f\"fanout{i+1}\" for i in range(len(subgraphs))]\n",
    "    return subgraphs, name_subgraphs"
   ]
  },
  {
   "cell_type": "code",
   "execution_count": 41,
   "metadata": {},
   "outputs": [],
   "source": [
    "def fanin(G, k=3):\n",
    "    node_permutations = list(itertools.permutations(G.nodes(), k))\n",
    "    subgraphs = []\n",
    "    for nodes in node_permutations:\n",
    "        if he(G, nodes[1], nodes[0]) and he(G, nodes[2], nodes[0]) and nhe(G, nodes[0], nodes[1]) and \\\n",
    "        nhe(G, nodes[0], nodes[2]) and nhe(G, nodes[2], nodes[1]) and nhe(G, nodes[1], nodes[2]):\n",
    "            subgraphs.append(nodes)\n",
    "    subgraphs = list(set(tuple(sorted(t)) for t in subgraphs))\n",
    "    name_subgraphs = [f\"fanin{i+1}\" for i in range(len(subgraphs))]\n",
    "    return subgraphs, name_subgraphs"
   ]
  },
  {
   "cell_type": "code",
   "execution_count": 42,
   "metadata": {},
   "outputs": [],
   "source": [
    "def cascade(G, k=3):\n",
    "    node_permutations = list(itertools.permutations(G.nodes(), k))\n",
    "    subgraphs = []\n",
    "    for nodes in node_permutations:\n",
    "        if he(G, nodes[0], nodes[1]) and he(G, nodes[2], nodes[0]) and nhe(G, nodes[1], nodes[0]) and \\\n",
    "        nhe(G, nodes[0], nodes[2]) and nhe(G, nodes[2], nodes[1]) and nhe(G, nodes[1], nodes[2]):\n",
    "            subgraphs.append(nodes)\n",
    "    subgraphs = list(set(tuple(sorted(t)) for t in subgraphs))\n",
    "    name_subgraphs = [f\"cascade{i+1}\" for i in range(len(subgraphs))]\n",
    "    return subgraphs, name_subgraphs"
   ]
  },
  {
   "cell_type": "code",
   "execution_count": 43,
   "metadata": {},
   "outputs": [],
   "source": [
    "def mutualout(G, k=3):\n",
    "    node_permutations = list(itertools.permutations(G.nodes(), k))\n",
    "    subgraphs = []\n",
    "    for nodes in node_permutations:\n",
    "        if he(G, nodes[0], nodes[1]) and he(G, nodes[2], nodes[0]) and he(G, nodes[0], nodes[2]) and \\\n",
    "        nhe(G, nodes[1], nodes[0]) and nhe(G, nodes[2], nodes[1]) and nhe(G, nodes[1], nodes[2]):\n",
    "            subgraphs.append(nodes)\n",
    "    subgraphs = list(set(tuple(sorted(t)) for t in subgraphs))\n",
    "    name_subgraphs = [f\"mutualout{i+1}\" for i in range(len(subgraphs))]\n",
    "    return subgraphs, name_subgraphs"
   ]
  },
  {
   "cell_type": "code",
   "execution_count": 44,
   "metadata": {},
   "outputs": [],
   "source": [
    "def mutualin(G, k=3):\n",
    "    node_permutations = list(itertools.permutations(G.nodes(), k))\n",
    "    subgraphs = []\n",
    "    for nodes in node_permutations:\n",
    "        if he(G, nodes[0], nodes[1]) and nhe(G, nodes[0], nodes[2]) and he(G, nodes[1], nodes[2]) and \\\n",
    "        nhe(G, nodes[1], nodes[0]) and nhe(G, nodes[2], nodes[0]) and he(G, nodes[2], nodes[1]):\n",
    "            subgraphs.append(nodes)\n",
    "    subgraphs = list(set(tuple(sorted(t)) for t in subgraphs))\n",
    "    name_subgraphs = [f\"mutualin{i+1}\" for i in range(len(subgraphs))]\n",
    "    return subgraphs, name_subgraphs"
   ]
  },
  {
   "cell_type": "code",
   "execution_count": 45,
   "metadata": {},
   "outputs": [],
   "source": [
    "def bimutual(G, k=3):\n",
    "    node_permutations = list(itertools.permutations(G.nodes(), k))\n",
    "    subgraphs = []\n",
    "    for nodes in node_permutations:\n",
    "        if he(G, nodes[0], nodes[1]) and he(G, nodes[0], nodes[2]) and nhe(G, nodes[1], nodes[2]) and \\\n",
    "        he(G, nodes[1], nodes[0]) and he(G, nodes[2], nodes[0]) and nhe(G, nodes[2], nodes[1]):\n",
    "            subgraphs.append(nodes)\n",
    "    subgraphs = list(set(tuple(sorted(t)) for t in subgraphs))\n",
    "    name_subgraphs = [f\"bimutual{i+1}\" for i in range(len(subgraphs))]\n",
    "    return subgraphs, name_subgraphs"
   ]
  },
  {
   "cell_type": "code",
   "execution_count": 46,
   "metadata": {},
   "outputs": [],
   "source": [
    "def FFL(G, k=3):\n",
    "    node_permutations = list(itertools.permutations(G.nodes(), k))\n",
    "    subgraphs = []\n",
    "    for nodes in node_permutations:\n",
    "        if he(G, nodes[0], nodes[1]) and he(G, nodes[0], nodes[2]) and he(G, nodes[1], nodes[2]) and \\\n",
    "        nhe(G, nodes[1], nodes[0]) and nhe(G, nodes[2], nodes[0]) and nhe(G, nodes[2], nodes[1]):\n",
    "            subgraphs.append(nodes)\n",
    "    subgraphs = list(set(tuple(sorted(t)) for t in subgraphs))\n",
    "    name_subgraphs = [f\"FFL{i+1}\" for i in range(len(subgraphs))]\n",
    "    return subgraphs, name_subgraphs"
   ]
  },
  {
   "cell_type": "code",
   "execution_count": 47,
   "metadata": {},
   "outputs": [],
   "source": [
    "def FBL(G, k=3):\n",
    "    node_permutations = list(itertools.permutations(G.nodes(), k))\n",
    "    subgraphs = []\n",
    "    for nodes in node_permutations:\n",
    "        if he(G, nodes[0], nodes[1]) and nhe(G, nodes[0], nodes[2]) and he(G, nodes[1], nodes[2]) and \\\n",
    "        nhe(G, nodes[1], nodes[0]) and he(G, nodes[2], nodes[0]) and nhe(G, nodes[2], nodes[1]):\n",
    "            subgraphs.append(nodes)\n",
    "    subgraphs = list(set(tuple(sorted(t)) for t in subgraphs))\n",
    "    name_subgraphs = [f\"FBL{i+1}\" for i in range(len(subgraphs))]\n",
    "    return subgraphs, name_subgraphs"
   ]
  },
  {
   "cell_type": "code",
   "execution_count": 48,
   "metadata": {},
   "outputs": [],
   "source": [
    "def regulatingmutual(G, k=3):\n",
    "    node_permutations = list(itertools.permutations(G.nodes(), k))\n",
    "    subgraphs = []\n",
    "    for nodes in node_permutations:\n",
    "        if nhe(G, nodes[0], nodes[1]) and nhe(G, nodes[0], nodes[2]) and he(G, nodes[1], nodes[2]) and \\\n",
    "        he(G, nodes[1], nodes[0]) and he(G, nodes[2], nodes[0]) and he(G, nodes[2], nodes[1]):\n",
    "            subgraphs.append(nodes)\n",
    "    subgraphs = list(set(tuple(sorted(t)) for t in subgraphs))\n",
    "    name_subgraphs = [f\"regulatingmutual{i+1}\" for i in range(len(subgraphs))]\n",
    "    return subgraphs, name_subgraphs"
   ]
  },
  {
   "cell_type": "code",
   "execution_count": 49,
   "metadata": {},
   "outputs": [],
   "source": [
    "def regulatedmutual(G, k=3):\n",
    "    node_permutations = list(itertools.permutations(G.nodes(), k))\n",
    "    subgraphs = []\n",
    "    for nodes in node_permutations:\n",
    "        if he(G, nodes[0], nodes[1]) and he(G, nodes[0], nodes[2]) and he(G, nodes[1], nodes[2]) and \\\n",
    "        nhe(G, nodes[1], nodes[0]) and nhe(G, nodes[2], nodes[0]) and he(G, nodes[2], nodes[1]):\n",
    "            subgraphs.append(nodes)\n",
    "    subgraphs = list(set(tuple(sorted(t)) for t in subgraphs))\n",
    "    name_subgraphs = [f\"regulatedmutual{i+1}\" for i in range(len(subgraphs))]\n",
    "    return subgraphs, name_subgraphs"
   ]
  },
  {
   "cell_type": "code",
   "execution_count": 50,
   "metadata": {},
   "outputs": [],
   "source": [
    "def mutualcascade(G, k=3):\n",
    "    node_permutations = list(itertools.permutations(G.nodes(), k))\n",
    "    subgraphs = []\n",
    "    for nodes in node_permutations:\n",
    "        if he(G, nodes[0], nodes[1]) and nhe(G, nodes[0], nodes[2]) and he(G, nodes[1], nodes[2]) and \\\n",
    "        nhe(G, nodes[1], nodes[0]) and he(G, nodes[2], nodes[0]) and he(G, nodes[2], nodes[1]):\n",
    "            subgraphs.append(nodes)\n",
    "    subgraphs = list(set(tuple(sorted(t)) for t in subgraphs))\n",
    "    name_subgraphs = [f\"mutualcascade{i+1}\" for i in range(len(subgraphs))]\n",
    "    return subgraphs, name_subgraphs"
   ]
  },
  {
   "cell_type": "code",
   "execution_count": 51,
   "metadata": {},
   "outputs": [],
   "source": [
    "def semiclique(G, k=3):\n",
    "    node_permutations = list(itertools.permutations(G.nodes(), k))\n",
    "    subgraphs = []\n",
    "    for nodes in node_permutations:\n",
    "        if he(G, nodes[0], nodes[1]) and he(G, nodes[0], nodes[2]) and he(G, nodes[1], nodes[2]) and \\\n",
    "        he(G, nodes[1], nodes[0]) and he(G, nodes[2], nodes[0]) and nhe(G, nodes[2], nodes[1]):\n",
    "            subgraphs.append(nodes)\n",
    "    subgraphs = list(set(tuple(sorted(t)) for t in subgraphs))\n",
    "    name_subgraphs = [f\"semiclique{i+1}\" for i in range(len(subgraphs))]\n",
    "    return subgraphs, name_subgraphs"
   ]
  },
  {
   "cell_type": "code",
   "execution_count": 52,
   "metadata": {},
   "outputs": [],
   "source": [
    "def clique(G, k=3):\n",
    "    node_permutations = list(itertools.permutations(G.nodes(), k))\n",
    "    subgraphs = []\n",
    "    for nodes in node_permutations:\n",
    "        if he(G, nodes[0], nodes[1]) and he(G, nodes[0], nodes[2]) and he(G, nodes[1], nodes[2]) and \\\n",
    "        he(G, nodes[1], nodes[0]) and he(G, nodes[2], nodes[0]) and he(G, nodes[2], nodes[1]):\n",
    "            subgraphs.append(nodes)\n",
    "    subgraphs = list(set(tuple(sorted(t)) for t in subgraphs))\n",
    "    name_subgraphs = [f\"clique{i+1}\" for i in range(len(subgraphs))]\n",
    "    return subgraphs, name_subgraphs"
   ]
  },
  {
   "cell_type": "code",
   "execution_count": 53,
   "metadata": {},
   "outputs": [
    {
     "name": "stdout",
     "output_type": "stream",
     "text": [
      "[('1-1', '2-1', '2-2')]\n"
     ]
    }
   ],
   "source": [
    "one_subgraphs = fanout(G, k=3)\n",
    "print(one_subgraphs)"
   ]
  },
  {
   "cell_type": "code",
   "execution_count": 54,
   "metadata": {},
   "outputs": [
    {
     "name": "stdout",
     "output_type": "stream",
     "text": [
      "[('1-2', '2-3', '2-4')]\n"
     ]
    }
   ],
   "source": [
    "one_subgraphs = fanin(G, k=3)\n",
    "print(one_subgraphs)"
   ]
  },
  {
   "cell_type": "code",
   "execution_count": 55,
   "metadata": {},
   "outputs": [
    {
     "name": "stdout",
     "output_type": "stream",
     "text": [
      "[('1-3', '2-5', '2-6')]\n"
     ]
    }
   ],
   "source": [
    "subgraphs = cascade(G, k=3)\n",
    "print(subgraphs)"
   ]
  },
  {
   "cell_type": "code",
   "execution_count": 56,
   "metadata": {},
   "outputs": [
    {
     "name": "stdout",
     "output_type": "stream",
     "text": [
      "[('1-4', '2-7', '2-8')]\n"
     ]
    }
   ],
   "source": [
    "subgraphs = mutualout(G, k=3)\n",
    "print(subgraphs)"
   ]
  },
  {
   "cell_type": "code",
   "execution_count": 57,
   "metadata": {},
   "outputs": [
    {
     "name": "stdout",
     "output_type": "stream",
     "text": [
      "[('3-1', '4-1', '4-2')]\n"
     ]
    }
   ],
   "source": [
    "subgraphs = mutualin(G, k=3)\n",
    "print(subgraphs)"
   ]
  },
  {
   "cell_type": "code",
   "execution_count": 58,
   "metadata": {},
   "outputs": [
    {
     "name": "stdout",
     "output_type": "stream",
     "text": [
      "[('3-2', '4-3', '4-4')]\n"
     ]
    }
   ],
   "source": [
    "subgraphs = bimutual(G, k=3)\n",
    "print(subgraphs)"
   ]
  },
  {
   "cell_type": "code",
   "execution_count": 59,
   "metadata": {},
   "outputs": [
    {
     "name": "stdout",
     "output_type": "stream",
     "text": [
      "[('3-3', '4-5', '4-6')]\n"
     ]
    }
   ],
   "source": [
    "subgraphs = FFL(G, k=3)\n",
    "print(subgraphs)"
   ]
  },
  {
   "cell_type": "code",
   "execution_count": 60,
   "metadata": {},
   "outputs": [
    {
     "name": "stdout",
     "output_type": "stream",
     "text": [
      "[('3-4', '4-7', '4-8')]\n"
     ]
    }
   ],
   "source": [
    "subgraphs = FBL(G, k=3)\n",
    "print(subgraphs)"
   ]
  },
  {
   "cell_type": "code",
   "execution_count": 61,
   "metadata": {},
   "outputs": [
    {
     "name": "stdout",
     "output_type": "stream",
     "text": [
      "[('5-1', '6-1', '6-2')]\n"
     ]
    }
   ],
   "source": [
    "subgraphs = regulatingmutual(G, k=3)\n",
    "print(subgraphs)"
   ]
  },
  {
   "cell_type": "code",
   "execution_count": 62,
   "metadata": {},
   "outputs": [
    {
     "name": "stdout",
     "output_type": "stream",
     "text": [
      "[('5-2', '6-3', '6-4')]\n"
     ]
    }
   ],
   "source": [
    "subgraphs = regulatedmutual(G, k=3)\n",
    "print(subgraphs)"
   ]
  },
  {
   "cell_type": "code",
   "execution_count": 63,
   "metadata": {},
   "outputs": [
    {
     "name": "stdout",
     "output_type": "stream",
     "text": [
      "[('5-3', '6-5', '6-6')]\n"
     ]
    }
   ],
   "source": [
    "subgraphs = mutualcascade(G, k=3)\n",
    "print(subgraphs)"
   ]
  },
  {
   "cell_type": "code",
   "execution_count": 64,
   "metadata": {},
   "outputs": [
    {
     "name": "stdout",
     "output_type": "stream",
     "text": [
      "[('5-4', '6-7', '6-8')]\n"
     ]
    }
   ],
   "source": [
    "subgraphs = semiclique(G, k=3)\n",
    "print(subgraphs)"
   ]
  },
  {
   "cell_type": "code",
   "execution_count": 65,
   "metadata": {},
   "outputs": [
    {
     "name": "stdout",
     "output_type": "stream",
     "text": [
      "[('7-1', '8-1', '8-2')]\n"
     ]
    }
   ],
   "source": [
    "subgraphs = clique(G, k=3)\n",
    "print(subgraphs)"
   ]
  },
  {
   "cell_type": "code",
   "execution_count": null,
   "metadata": {},
   "outputs": [],
   "source": []
  },
  {
   "cell_type": "code",
   "execution_count": 3,
   "metadata": {},
   "outputs": [
    {
     "data": {
      "image/png": "[encoded data removed]",
      "text/plain": [
       "<Figure size 432x288 with 1 Axes>"
      ]
     },
     "metadata": {
      "needs_background": "light"
     },
     "output_type": "display_data"
    }
   ],
   "source": [
    "import matplotlib.pyplot as plt\n",
    "import numpy as np\n",
    "\n",
    "# 给定的字典\n",
    "un = {\n",
    "    'fanout1': 1, 'fanout2': 23, 'fanout3': 10, 'fanout20': 55,\n",
    "    'fanin1': 11, 'fanin55': 22\n",
    "}\n",
    "\n",
    "# 分组数据\n",
    "fanout_values = [un[key] for key in un if key.startswith('fanout')]\n",
    "fanin_values = [un[key] for key in un if key.startswith('fanin')]\n",
    "\n",
    "# 计算均值和标准差\n",
    "fanout_mean = np.mean(fanout_values)\n",
    "fanout_std = np.std(fanout_values)\n",
    "fanin_mean = np.mean(fanin_values)\n",
    "fanin_std = np.std(fanin_values)\n",
    "\n",
    "# 标签和值\n",
    "labels = ['fanout', 'fanin']\n",
    "means = [fanout_mean, fanin_mean]\n",
    "stds = [fanout_std, fanin_std]\n",
    "\n",
    "# 绘制柱状图\n",
    "x = np.arange(len(labels))  # 标签位置\n",
    "width = 0.35  # 柱子宽度\n",
    "\n",
    "fig, ax = plt.subplots()\n",
    "bars = ax.bar(x, means, width, yerr=stds, capsize=5, label='Mean with Std Dev')\n",
    "\n",
    "# 添加标题和标签\n",
    "ax.set_title('Mean and Standard Deviation of fanout and fanin')\n",
    "ax.set_xlabel('Type')\n",
    "ax.set_ylabel('Value')\n",
    "ax.set_xticks(x)\n",
    "ax.set_xticklabels(labels)\n",
    "ax.legend()\n",
    "\n",
    "# 显示图形\n",
    "plt.show()"
   ]
  },
  {
   "cell_type": "code",
   "execution_count": 9,
   "metadata": {},
   "outputs": [],
   "source": [
    "def create_bar_chart(ax=plt):\n",
    "    # 这里是生成柱状图的代码\n",
    "    # 例如：\n",
    "    ax.bar(['A', 'B', 'C'], [10, 20, 15])\n",
    "    ax.title('Bar Chart')\n",
    "    ax.xlabel('Categories')\n",
    "    ax.ylabel('Values')"
   ]
  },
  {
   "cell_type": "code",
   "execution_count": 10,
   "metadata": {},
   "outputs": [
    {
     "data": {
      "image/png": "[encoded data removed]",
      "text/plain": [
       "<Figure size 432x288 with 1 Axes>"
      ]
     },
     "metadata": {
      "needs_background": "light"
     },
     "output_type": "display_data"
    }
   ],
   "source": [
    "create_bar_chart()"
   ]
  },
  {
   "cell_type": "code",
   "execution_count": null,
   "metadata": {},
   "outputs": [],
   "source": []
  }
 ],
 "metadata": {
  "kernelspec": {
   "display_name": "Python 3",
   "language": "python",
   "name": "python3"
  },
  "language_info": {
   "codemirror_mode": {
    "name": "ipython",
    "version": 3
   },
   "file_extension": ".py",
   "mimetype": "text/x-python",
   "name": "python",
   "nbconvert_exporter": "python",
   "pygments_lexer": "ipython3",
   "version": "3.8.3"
  }
 },
 "nbformat": 4,
 "nbformat_minor": 5
}
