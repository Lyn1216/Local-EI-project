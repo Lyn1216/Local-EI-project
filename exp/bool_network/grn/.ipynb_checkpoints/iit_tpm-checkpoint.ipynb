{
 "cells": [
  {
   "cell_type": "code",
   "execution_count": 1,
   "metadata": {},
   "outputs": [],
   "source": [
    "import numpy as np\n",
    "import pandas as pd\n",
    "import itertools\n",
    "import seaborn as sns\n"
   ]
  },
  {
   "cell_type": "code",
   "execution_count": 2,
   "metadata": {},
   "outputs": [],
   "source": [
    "w = {\n",
    "    'w1': 0.7,\n",
    "    'w2': 0.2,\n",
    "    'w3': -0.8,\n",
    "    'w4': -0.2\n",
    "}\n",
    "\n",
    "bnet = {\n",
    "    ('A', 'B'): 'w1',\n",
    "    ('B', 'A'): 'w1',\n",
    "    ('A', 'C'): 'w2',\n",
    "    ('C', 'B'): 'w3',\n",
    "    ('A', 'A'): 'w4',\n",
    "    ('B', 'B'): 'w4',\n",
    "    ('C', 'C'): 'w2'\n",
    "}"
   ]
  },
  {
   "cell_type": "code",
   "execution_count": 3,
   "metadata": {},
   "outputs": [],
   "source": [
    "def value_boolnet(symbol_boolnet, weights):\n",
    "    results = {key: weights[w] for key, w in symbol_boolnet.items()}\n",
    "    return results"
   ]
  },
  {
   "cell_type": "code",
   "execution_count": 4,
   "metadata": {},
   "outputs": [
    {
     "data": {
      "text/plain": [
       "{('A', 'B'): 0.7,\n",
       " ('B', 'A'): 0.7,\n",
       " ('A', 'C'): 0.2,\n",
       " ('C', 'B'): -0.8,\n",
       " ('A', 'A'): -0.2,\n",
       " ('B', 'B'): -0.2,\n",
       " ('C', 'C'): 0.2}"
      ]
     },
     "execution_count": 4,
     "metadata": {},
     "output_type": "execute_result"
    }
   ],
   "source": [
    "boolnet = value_boolnet(bnet, w)\n",
    "boolnet"
   ]
  },
  {
   "cell_type": "code",
   "execution_count": 5,
   "metadata": {},
   "outputs": [],
   "source": [
    "def get_vars(boolnet):\n",
    "    \"\"\"\n",
    "    Extract variables form Bool net representation\n",
    "    \"\"\"\n",
    "    vars = set()\n",
    "    for edge in boolnet.keys():\n",
    "        vars.update(edge)\n",
    "    assert ''.join(vars).isupper()\n",
    "    return vars\n",
    "\n",
    "\n",
    "def get_wm(boolnet, vars):\n",
    "    \"\"\"\n",
    "    Get weights matrix\n",
    "    \"\"\"\n",
    "    dim = len(vars)\n",
    "    # make weights matrix\n",
    "    wm = pd.DataFrame(np.zeros((dim, dim)), columns=vars, index=vars)\n",
    "    for s, e in boolnet:\n",
    "        wm.loc[s, e] = boolnet[(s, e)]\n",
    "    return wm.values\n",
    "\n",
    "\n",
    "def get_states(vars, big_endian=False):\n",
    "    \"\"\"\n",
    "    Using upper case and lower case of variable name to represent 2 states of the variable\n",
    "    and return the full set of combination states of multiple variables\n",
    "    E.g. ['A', 'B'] -> [('a', 'b'), ('A', 'b'), ('a', 'B'), ('A', 'B') ]\n",
    "         ['Ab', 'Cd'] -> [('ab', 'cd'), ('AB', 'cd'), ('ab', 'CD'), ('AB', 'CD')]\n",
    "    @param\n",
    "    \"\"\"\n",
    "\n",
    "    order = 1 if big_endian else -1\n",
    "    values = [[v.lower(), v.upper()] for v in vars[::order]]\n",
    "    combinations = list(itertools.product(*values))\n",
    "    result = [combination[::order] for combination in combinations]\n",
    "    return result\n",
    "\n",
    "\n",
    "def state_name(state):\n",
    "    \"\"\"\n",
    "    E.g. ('A', 'B', 'C') -> 'ABC'\n",
    "    \"\"\"\n",
    "    return ''.join(state)\n",
    "\n",
    "\n",
    "def get_state_values(state):\n",
    "    \"\"\"\n",
    "    assign 1 if all characters of state name are upper case, else -1.\n",
    "    E.g. ('A', 'B', 'c') -> (1, 1, -1)\n",
    "         ('AB', 'cd') -> (1, -1)\n",
    "    \"\"\"\n",
    "    values = np.array([1 if v.isupper() else -1 for v in state])\n",
    "    return values\n",
    "\n",
    "\n",
    "\n",
    "def make_tpm(boolnet, k):\n",
    "    vars = list(get_vars(boolnet))\n",
    "    states = get_states(vars)\n",
    "    wm = get_wm(boolnet, vars)\n",
    "    n = len(states)\n",
    "    s_values = np.array([get_state_values(s) for s in states])\n",
    "    \n",
    "    # state to unit value transition probabilities\n",
    "    states_to_units_pos_tpm = 1. / (1. + np.exp(-k * s_values @ wm))\n",
    "    states_to_units_neg_tpm = 1. - states_to_units_pos_tpm\n",
    "    states_to_units_tpm = np.concatenate([states_to_units_pos_tpm, states_to_units_neg_tpm], axis=1)\n",
    "    pos_vars = [v.upper() for v in vars]\n",
    "    neg_vars = [v.lower() for v in vars]\n",
    "    states_names = [state_name(s) for s in states]\n",
    "    states_to_units_tpm_df = pd.DataFrame(states_to_units_tpm, columns=pos_vars+neg_vars, index=states_names)\n",
    "    \n",
    "    # states: cartesian product of unit probabilitys\n",
    "    states_tpm = states_to_units_tpm_df.apply(\n",
    "        lambda row: pd.Series(\n",
    "            data=[np.array([row[u] for u in s]).prod() for s in states], \n",
    "            index=states_names\n",
    "        ), axis=1)\n",
    "    \n",
    "    return states_tpm\n"
   ]
  },
  {
   "cell_type": "code",
   "execution_count": 6,
   "metadata": {},
   "outputs": [
    {
     "name": "stdout",
     "output_type": "stream",
     "text": [
      "vars: ['A', 'B', 'C']\n",
      "states: [('a', 'b', 'c'), ('A', 'b', 'c'), ('a', 'B', 'c'), ('A', 'B', 'c'), ('a', 'b', 'C'), ('A', 'b', 'C'), ('a', 'B', 'C'), ('A', 'B', 'C')]\n",
      "names: ['abc', 'Abc', 'aBc', 'ABc', 'abC', 'AbC', 'aBC', 'ABC']\n",
      "weights matrix:\n",
      " [[-0.2  0.7  0.2]\n",
      " [ 0.7 -0.2  0. ]\n",
      " [ 0.  -0.8  0.2]]\n"
     ]
    }
   ],
   "source": [
    "# testing functions\n",
    "\n",
    "vars = list(get_vars(bnet))\n",
    "states = get_states(vars)\n",
    "names = [state_name(s) for s in states]\n",
    "wm = get_wm(boolnet, list(vars))\n",
    "print('vars:', vars)\n",
    "print('states:', states)\n",
    "print('names:', names)\n",
    "print('weights matrix:\\n', wm)"
   ]
  },
  {
   "cell_type": "code",
   "execution_count": 7,
   "metadata": {},
   "outputs": [
    {
     "data": {
      "text/html": [
       "<div>\n",
       "<style scoped>\n",
       "    .dataframe tbody tr th:only-of-type {\n",
       "        vertical-align: middle;\n",
       "    }\n",
       "\n",
       "    .dataframe tbody tr th {\n",
       "        vertical-align: top;\n",
       "    }\n",
       "\n",
       "    .dataframe thead th {\n",
       "        text-align: right;\n",
       "    }\n",
       "</style>\n",
       "<table border=\"1\" class=\"dataframe\">\n",
       "  <thead>\n",
       "    <tr style=\"text-align: right;\">\n",
       "      <th></th>\n",
       "      <th>abc</th>\n",
       "      <th>Abc</th>\n",
       "      <th>aBc</th>\n",
       "      <th>ABc</th>\n",
       "      <th>abC</th>\n",
       "      <th>AbC</th>\n",
       "      <th>aBC</th>\n",
       "      <th>ABC</th>\n",
       "    </tr>\n",
       "  </thead>\n",
       "  <tbody>\n",
       "    <tr>\n",
       "      <th>abc</th>\n",
       "      <td>0.169634</td>\n",
       "      <td>0.022957</td>\n",
       "      <td>0.563205</td>\n",
       "      <td>0.076222</td>\n",
       "      <td>0.034249</td>\n",
       "      <td>0.004635</td>\n",
       "      <td>0.113709</td>\n",
       "      <td>0.015389</td>\n",
       "    </tr>\n",
       "    <tr>\n",
       "      <th>Abc</th>\n",
       "      <td>0.000541</td>\n",
       "      <td>0.000015</td>\n",
       "      <td>0.486160</td>\n",
       "      <td>0.013284</td>\n",
       "      <td>0.000541</td>\n",
       "      <td>0.000015</td>\n",
       "      <td>0.486160</td>\n",
       "      <td>0.013284</td>\n",
       "    </tr>\n",
       "    <tr>\n",
       "      <th>aBc</th>\n",
       "      <td>0.013248</td>\n",
       "      <td>0.484871</td>\n",
       "      <td>0.008881</td>\n",
       "      <td>0.325019</td>\n",
       "      <td>0.002675</td>\n",
       "      <td>0.097894</td>\n",
       "      <td>0.001793</td>\n",
       "      <td>0.065620</td>\n",
       "    </tr>\n",
       "    <tr>\n",
       "      <th>ABc</th>\n",
       "      <td>0.000327</td>\n",
       "      <td>0.002416</td>\n",
       "      <td>0.059274</td>\n",
       "      <td>0.437982</td>\n",
       "      <td>0.000327</td>\n",
       "      <td>0.002416</td>\n",
       "      <td>0.059274</td>\n",
       "      <td>0.437982</td>\n",
       "    </tr>\n",
       "    <tr>\n",
       "      <th>abC</th>\n",
       "      <td>0.437982</td>\n",
       "      <td>0.059274</td>\n",
       "      <td>0.002416</td>\n",
       "      <td>0.000327</td>\n",
       "      <td>0.437982</td>\n",
       "      <td>0.059274</td>\n",
       "      <td>0.002416</td>\n",
       "      <td>0.000327</td>\n",
       "    </tr>\n",
       "    <tr>\n",
       "      <th>AbC</th>\n",
       "      <td>0.065620</td>\n",
       "      <td>0.001793</td>\n",
       "      <td>0.097894</td>\n",
       "      <td>0.002675</td>\n",
       "      <td>0.325019</td>\n",
       "      <td>0.008881</td>\n",
       "      <td>0.484871</td>\n",
       "      <td>0.013248</td>\n",
       "    </tr>\n",
       "    <tr>\n",
       "      <th>aBC</th>\n",
       "      <td>0.013284</td>\n",
       "      <td>0.486160</td>\n",
       "      <td>0.000015</td>\n",
       "      <td>0.000541</td>\n",
       "      <td>0.013284</td>\n",
       "      <td>0.486160</td>\n",
       "      <td>0.000015</td>\n",
       "      <td>0.000541</td>\n",
       "    </tr>\n",
       "    <tr>\n",
       "      <th>ABC</th>\n",
       "      <td>0.015389</td>\n",
       "      <td>0.113709</td>\n",
       "      <td>0.004635</td>\n",
       "      <td>0.034249</td>\n",
       "      <td>0.076222</td>\n",
       "      <td>0.563205</td>\n",
       "      <td>0.022957</td>\n",
       "      <td>0.169634</td>\n",
       "    </tr>\n",
       "  </tbody>\n",
       "</table>\n",
       "</div>"
      ],
      "text/plain": [
       "          abc       Abc       aBc       ABc       abC       AbC       aBC  \\\n",
       "abc  0.169634  0.022957  0.563205  0.076222  0.034249  0.004635  0.113709   \n",
       "Abc  0.000541  0.000015  0.486160  0.013284  0.000541  0.000015  0.486160   \n",
       "aBc  0.013248  0.484871  0.008881  0.325019  0.002675  0.097894  0.001793   \n",
       "ABc  0.000327  0.002416  0.059274  0.437982  0.000327  0.002416  0.059274   \n",
       "abC  0.437982  0.059274  0.002416  0.000327  0.437982  0.059274  0.002416   \n",
       "AbC  0.065620  0.001793  0.097894  0.002675  0.325019  0.008881  0.484871   \n",
       "aBC  0.013284  0.486160  0.000015  0.000541  0.013284  0.486160  0.000015   \n",
       "ABC  0.015389  0.113709  0.004635  0.034249  0.076222  0.563205  0.022957   \n",
       "\n",
       "          ABC  \n",
       "abc  0.015389  \n",
       "Abc  0.013284  \n",
       "aBc  0.065620  \n",
       "ABc  0.437982  \n",
       "abC  0.000327  \n",
       "AbC  0.013248  \n",
       "aBC  0.000541  \n",
       "ABC  0.169634  "
      ]
     },
     "execution_count": 7,
     "metadata": {},
     "output_type": "execute_result"
    }
   ],
   "source": [
    "tpm = make_tpm(boolnet, k=4)\n",
    "tpm"
   ]
  },
  {
   "cell_type": "code",
   "execution_count": 8,
   "metadata": {},
   "outputs": [
    {
     "data": {
      "text/plain": [
       "<Axes: >"
      ]
     },
     "execution_count": 8,
     "metadata": {},
     "output_type": "execute_result"
    },
    {
     "data": {
      "image/png": "[encoded data removed]",
      "text/plain": [
       "<Figure size 640x480 with 2 Axes>"
      ]
     },
     "metadata": {},
     "output_type": "display_data"
    }
   ],
   "source": [
    "sns.heatmap(tpm, annot=True, fmt='.2f', cmap='Greys')"
   ]
  },
  {
   "cell_type": "code",
   "execution_count": 9,
   "metadata": {},
   "outputs": [
    {
     "data": {
      "text/plain": [
       "array([[1.69634150e-01, 2.29574857e-02, 5.63205212e-01, 7.62215369e-02,\n",
       "        3.42485442e-02, 4.63503643e-03, 1.13709171e-01, 1.53888629e-02],\n",
       "       [5.41472960e-04, 1.47950569e-05, 4.86160030e-01, 1.32837017e-02,\n",
       "        5.41472960e-04, 1.47950569e-05, 4.86160030e-01, 1.32837017e-02],\n",
       "       [1.32484716e-02, 4.84870669e-01, 8.88071607e-03, 3.25018529e-01,\n",
       "        2.67482028e-03, 9.78936997e-02, 1.79298565e-03, 6.56201093e-02],\n",
       "       [3.26991430e-04, 2.41615802e-03, 5.92744696e-02, 4.37982381e-01,\n",
       "        3.26991430e-04, 2.41615802e-03, 5.92744696e-02, 4.37982381e-01],\n",
       "       [4.37982381e-01, 5.92744696e-02, 2.41615802e-03, 3.26991430e-04,\n",
       "        4.37982381e-01, 5.92744696e-02, 2.41615802e-03, 3.26991430e-04],\n",
       "       [6.56201093e-02, 1.79298565e-03, 9.78936997e-02, 2.67482028e-03,\n",
       "        3.25018529e-01, 8.88071607e-03, 4.84870669e-01, 1.32484716e-02],\n",
       "       [1.32837017e-02, 4.86160030e-01, 1.47950569e-05, 5.41472960e-04,\n",
       "        1.32837017e-02, 4.86160030e-01, 1.47950569e-05, 5.41472960e-04],\n",
       "       [1.53888629e-02, 1.13709171e-01, 4.63503643e-03, 3.42485442e-02,\n",
       "        7.62215369e-02, 5.63205212e-01, 2.29574857e-02, 1.69634150e-01]])"
      ]
     },
     "execution_count": 9,
     "metadata": {},
     "output_type": "execute_result"
    }
   ],
   "source": [
    "# get numpy array\n",
    "\n",
    "tpm.values"
   ]
  },
  {
   "cell_type": "code",
   "execution_count": 10,
   "metadata": {},
   "outputs": [
    {
     "data": {
      "text/plain": [
       "['abc', 'Abc', 'aBc', 'ABc', 'abC', 'AbC', 'aBC', 'ABC']"
      ]
     },
     "execution_count": 10,
     "metadata": {},
     "output_type": "execute_result"
    }
   ],
   "source": [
    "# get state name of sources\n",
    "\n",
    "list(tpm.index)"
   ]
  },
  {
   "cell_type": "code",
   "execution_count": 11,
   "metadata": {},
   "outputs": [
    {
     "data": {
      "text/plain": [
       "['abc', 'Abc', 'aBc', 'ABc', 'abC', 'AbC', 'aBC', 'ABC']"
      ]
     },
     "execution_count": 11,
     "metadata": {},
     "output_type": "execute_result"
    }
   ],
   "source": [
    "# get state name of targets\n",
    "\n",
    "list(tpm.columns) "
   ]
  },
  {
   "cell_type": "code",
   "execution_count": 12,
   "metadata": {},
   "outputs": [],
   "source": [
    "# testing\n",
    "\n",
    "# k = 4\n",
    "# states_to_units_pos_tpm = 1. / (1. + np.exp(-k * s_values @ wm))\n",
    "# states_to_units_neg_tpm = 1. - states_to_units_pos_tpm\n",
    "# states_to_units_tpm = np.concatenate([states_to_units_pos_tpm, states_to_units_neg_tpm], axis=1)\n",
    "# pos_vars = [v.upper() for v in vars]\n",
    "# neg_vars = [v.lower() for v in vars]\n",
    "# states_names = [state_name(s) for s in states]\n",
    "# states_to_units_tpm_df = pd.DataFrame(states_to_units_tpm, columns=pos_vars+neg_vars, index=states_names)\n",
    "# states_to_units_tpm_df.apply(lambda row: pd.Series([np.array([row[u] for u in s]).prod() for s in states], index=states_names), axis=1)\n"
   ]
  }
 ],
 "metadata": {
  "kernelspec": {
   "display_name": "py310",
   "language": "python",
   "name": "python3"
  },
  "language_info": {
   "codemirror_mode": {
    "name": "ipython",
    "version": 3
   },
   "file_extension": ".py",
   "mimetype": "text/x-python",
   "name": "python",
   "nbconvert_exporter": "python",
   "pygments_lexer": "ipython3",
   "version": "3.10.12"
  }
 },
 "nbformat": 4,
 "nbformat_minor": 2
}
