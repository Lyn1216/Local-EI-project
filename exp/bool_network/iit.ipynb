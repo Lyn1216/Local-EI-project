{
 "cells": [
  {
   "cell_type": "code",
   "execution_count": 1,
   "metadata": {},
   "outputs": [
    {
     "name": "stdout",
     "output_type": "stream",
     "text": [
      "\n",
      "Welcome to PyPhi!\n",
      "\n",
      "If you use PyPhi in your research, please cite the paper:\n",
      "\n",
      "  Mayner WGP, Marshall W, Albantakis L, Findlay G, Marchman R, Tononi G.\n",
      "  (2018). PyPhi: A toolbox for integrated information theory.\n",
      "  PLOS Computational Biology 14(7): e1006343.\n",
      "  https://doi.org/10.1371/journal.pcbi.1006343\n",
      "\n",
      "Documentation is available online (or with the built-in `help()` function):\n",
      "  https://pyphi.readthedocs.io\n",
      "\n",
      "To report issues, please use the issue tracker on the GitHub repository:\n",
      "  https://github.com/wmayner/pyphi\n",
      "\n",
      "For general discussion, you are welcome to join the pyphi-users group:\n",
      "  https://groups.google.com/forum/#!forum/pyphi-users\n",
      "\n",
      "To suppress this message, either:\n",
      "  - Set `WELCOME_OFF: true` in your `pyphi_config.yml` file, or\n",
      "  - Set the environment variable PYPHI_WELCOME_OFF to any value in your shell:\n",
      "        export PYPHI_WELCOME_OFF='yes'\n",
      "\n"
     ]
    }
   ],
   "source": [
    "import pyphi"
   ]
  },
  {
   "cell_type": "code",
   "execution_count": 4,
   "metadata": {},
   "outputs": [],
   "source": [
    "import numpy as np\n",
    "import itertools\n",
    "\n",
    "pyphi.config.PROGRESS_BARS = False\n",
    "pyphi.config.VALIDATE_SUBSYSTEM_STATES = False"
   ]
  },
  {
   "cell_type": "code",
   "execution_count": 7,
   "metadata": {},
   "outputs": [
    {
     "ename": "AttributeError",
     "evalue": "module 'pyphi' has no attribute 'network_generator'",
     "output_type": "error",
     "traceback": [
      "\u001b[0;31m---------------------------------------------------------------------------\u001b[0m",
      "\u001b[0;31mAttributeError\u001b[0m                            Traceback (most recent call last)",
      "\u001b[0;32m<ipython-input-7-f97bca0dd733>\u001b[0m in \u001b[0;36m<module>\u001b[0;34m\u001b[0m\n\u001b[1;32m      4\u001b[0m \u001b[0;34m\u001b[0m\u001b[0m\n\u001b[1;32m      5\u001b[0m \u001b[0;31m# Define activation functions (all units have the same function)\u001b[0m\u001b[0;34m\u001b[0m\u001b[0;34m\u001b[0m\u001b[0;34m\u001b[0m\u001b[0m\n\u001b[0;32m----> 6\u001b[0;31m \u001b[0munit_activation_function\u001b[0m \u001b[0;34m=\u001b[0m \u001b[0mpyphi\u001b[0m\u001b[0;34m.\u001b[0m\u001b[0mnetwork_generator\u001b[0m\u001b[0;34m.\u001b[0m\u001b[0mprobability\u001b[0m\u001b[0;34m\u001b[0m\u001b[0;34m\u001b[0m\u001b[0m\n\u001b[0m\u001b[1;32m      7\u001b[0m \u001b[0mk\u001b[0m \u001b[0;34m=\u001b[0m \u001b[0;36m4\u001b[0m \u001b[0;31m# determines the slope of the sigmoid\u001b[0m\u001b[0;34m\u001b[0m\u001b[0;34m\u001b[0m\u001b[0m\n\u001b[1;32m      8\u001b[0m \u001b[0;34m\u001b[0m\u001b[0m\n",
      "\u001b[0;31mAttributeError\u001b[0m: module 'pyphi' has no attribute 'network_generator'"
     ]
    }
   ],
   "source": [
    "# Define units\n",
    "unit_labels = [\"A\", \"B\", \"C\"]\n",
    "n_units = len(unit_labels) # 3 units\n",
    "\n",
    "# Define activation functions (all units have the same function)\n",
    "unit_activation_function = pyphi.network..probability\n",
    "k = 4 # determines the slope of the sigmoid\n",
    "\n",
    "# Define weighted connectivity among units\n",
    "weights = np.array(\n",
    "    [\n",
    "        [-.2, 0.7, 0.2], # outgoing connections from A\n",
    "        [0.7, -.2, 0.0], # outgoing connections from B\n",
    "        [0.0, -.8, 0.2], # outgoing connections from C\n",
    "    ]\n",
    ")\n",
    "\n",
    "# Generate the substrate model\n",
    "substrate = pyphi.network_generator.build_network(\n",
    "    [unit_activation_function] * n_units,\n",
    "    weights,\n",
    "    temperature=1 / k,\n",
    ")\n",
    "\n",
    "# Print the state-by-node, forward TPM characterizing the substrate\n",
    "print('Substrate TPM: \\n(input state) : probability that units turn ON')\n",
    "for input_state, transition_probability in zip(pyphi.utils.all_states(3), pyphi.convert.to_2d(substrate.tpm.round(2))):\n",
    "  print(f'{input_state} : {transition_probability}')"
   ]
  },
  {
   "cell_type": "code",
   "execution_count": null,
   "metadata": {},
   "outputs": [],
   "source": [
    "# Define candidate complex\n",
    "substrate_state = (0, 1, 1)\n",
    "candidate_complex_units = (0, 1)\n",
    "candidate_cause_complex = pyphi.Subsystem(substrate, substrate_state, nodes=candidate_complex_units, backward_tpm=True)\n",
    "candidate_effect_complex = pyphi.Subsystem(substrate, substrate_state, nodes=candidate_complex_units, backward_tpm=False)"
   ]
  },
  {
   "cell_type": "code",
   "execution_count": null,
   "metadata": {},
   "outputs": [],
   "source": []
  }
 ],
 "metadata": {
  "kernelspec": {
   "display_name": "Python 3",
   "language": "python",
   "name": "python3"
  },
  "language_info": {
   "codemirror_mode": {
    "name": "ipython",
    "version": 3
   },
   "file_extension": ".py",
   "mimetype": "text/x-python",
   "name": "python",
   "nbconvert_exporter": "python",
   "pygments_lexer": "ipython3",
   "version": "3.8.3"
  }
 },
 "nbformat": 4,
 "nbformat_minor": 4
}
