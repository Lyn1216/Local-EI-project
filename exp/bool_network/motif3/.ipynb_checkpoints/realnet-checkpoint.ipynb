{
 "cells": [
  {
   "cell_type": "code",
   "execution_count": 1,
   "id": "fb781b45",
   "metadata": {},
   "outputs": [],
   "source": [
    "from motify_functions import *\n",
    "import sys\n",
    "sys.path.append(\"../..\")"
   ]
  },
  {
   "cell_type": "code",
   "execution_count": 5,
   "id": "c082d782",
   "metadata": {},
   "outputs": [
    {
     "data": {
      "text/plain": [
       "{0: 'Apoptosis Network_19422837.txt',\n",
       " 1: 'Arabidopsis thaliana Cell Cycle_26340681.txt',\n",
       " 2: 'Aurora Kinase A in Neuroblastoma_26616283.txt',\n",
       " 3: 'Body Segmentation in Drosophila 2013_23520449.txt',\n",
       " 4: 'B cell differentiation_26751566.txt',\n",
       " 5: 'B bronchiseptica and T retortaeformis coinfection_22253585.txt',\n",
       " 6: 'Bordetella bronchiseptica_22253585.txt',\n",
       " 7: 'Bortezomib Responses in U266 Human Myeloma Cells_26163548.txt',\n",
       " 8: 'BT474 Breast Cell Line Long-term ErbB Network_24970389.txt',\n",
       " 9: 'BT474 Breast Cell Line Short-term ErbB Network_24970389.txt',\n",
       " 10: 'Budding Yeast Cell Cycle_23049686.txt',\n",
       " 11: 'Budding Yeast Cell Cycle 2009_19185585.txt',\n",
       " 12: 'Cardiac development_23056457.txt',\n",
       " 13: 'CD4 T cell signaling_25538703.txt',\n",
       " 14: 'CD4+ T Cell Differentiation and Plasticity_26090929.txt',\n",
       " 15: 'Cell Cycle Transcription by Coupled CDK and Network Oscillators_18463633.txt',\n",
       " 16: 'CD4+ T cell Differentiation_22871178.txt',\n",
       " 17: 'Cholesterol Regulatory Pathway_19025648.txt',\n",
       " 18: 'Cortical Area Development_20862356.txt',\n",
       " 19: 'Death Receptor Signaling_20221256.txt',\n",
       " 20: 'Colitis-associated colon cancer_26446703.txt',\n",
       " 21: 'Differentiation of T lymphocytes_23743337.txt',\n",
       " 22: 'EGFR & ErbB Signaling_19662154.txt',\n",
       " 23: 'ErbB (1-4) Receptor Signaling_23637902.txt',\n",
       " 24: 'FA BRCA pathway_22267503.txt',\n",
       " 25: 'Fanconi anemia and checkpoint recovery_26385365.txt',\n",
       " 26: 'FGF pathway of Drosophila Signaling Pathways_23868318.txt',\n",
       " 27: 'fMRI - Regulation of the Lac Operon_25790483.txt',\n",
       " 28: 'Glucose Repression Signaling 2009_19144179.txt',\n",
       " 29: 'Guard Cell Abscisic Acid Signaling_16968132.txt',\n",
       " 30: 'HCC1954 Breast Cell Line Long-term ErbB Network_24970389.txt',\n",
       " 31: 'HCC1954 Breast Cell Line Short-term ErbB Network_24970389.txt',\n",
       " 32: 'HGF Signaling in Keratinocytes_22962472.txt',\n",
       " 33: 'HH Pathway of Drosophila Signaling Pathways_23868318.txt',\n",
       " 34: 'HIV-1 interactions with T-Cell Signaling Pathway_25431332.txt',\n",
       " 35: 'Human Gonadal Sex Determination_26573569.txt',\n",
       " 36: 'IGVH mutations in chronic lymphocytic leukemia_26088082.txt',\n",
       " 37: 'IL-1 Signaling_21968890.txt',\n",
       " 38: 'IL-6 Signaling_21968890.txt',\n",
       " 39: 'Inflammatory Bowel Disease (IBD) Model_29513758.txt',\n",
       " 40: 'Influenza A Virus Replication Cycle_23081726.txt',\n",
       " 41: 'Iron acquisition and oxidative stress response in aspergillus fumigatus_25908096.txt',\n",
       " 42: 'Lac Operon_21563979.txt',\n",
       " 43: 'Lymphopoiesis Regulatory Network_26408858.txt',\n",
       " 44: 'Lymphoid and myeloid cell specification and transdifferentiation_28584084.txt',\n",
       " 45: 'Mammalian Cell Cycle 2006_16873462.txt',\n",
       " 46: 'Mammalian Cell Cycle_19118495.txt',\n",
       " 47: 'manual_mod_Treatment of Castration-Resistant Prostate Cancer_28361666.txt',\n",
       " 48: 'MAPK Cancer Cell Fate Network_24250280.txt',\n",
       " 49: 'Neurotransmitter Signaling Pathway_17010384.txt',\n",
       " 50: 'Metabolic Interactions in the Gut Microbiome_26102287.txt',\n",
       " 51: 'Oxidative Stress Pathway_23134720.txt',\n",
       " 52: 'Predicting Variabilities in Cardiac Gene_26207376.txt',\n",
       " 53: 'PC12 Cell Differentiation_27148350.txt',\n",
       " 54: 'Processing of Spz Network from the Drosophila Signaling Pathway_23868318.txt',\n",
       " 55: 'Regulation of the L-arabinose operon of Escherichia coli_28639170.txt',\n",
       " 56: 'Pro-inflammatory Tumor Microenvironment in Acute Lymphoblastic Leukemia_27594840.txt',\n",
       " 57: 'Senescence Associated Secretory Phenotype_29206223.txt',\n",
       " 58: 'Septation Initiation Network_26244885.txt',\n",
       " 59: 'Signal Transduction in Fibroblasts_18250321.txt',\n",
       " 60: 'SKBR3 Breast Cell Line Short-term ErbB Network_24970389.txt',\n",
       " 61: 'Signaling in Macrophage Activation_18433497.txt',\n",
       " 62: 'SKBR3 Breast Cell Line Long-term ErbB Network_24970389.txt',\n",
       " 63: 'T cell differentiation_16542429.txt',\n",
       " 64: 'T Cell Receptor Signaling_17722974.txt',\n",
       " 65: 'Stomatal Opening Model_27542373.txt',\n",
       " 66: 'T-LGL Survival Network 2011 Reduced Network_22102804.txt',\n",
       " 67: 'T-Cell Signaling 2006_16464248.txt',\n",
       " 68: 'T-LGL Survival Network 2008_18852469.txt',\n",
       " 69: 'Toll Pathway of Drosophila Signaling Pathway_23868318.txt',\n",
       " 70: 'TOL Regulatory Network_23171249.txt',\n",
       " 71: 'T-LGL Survival Network 2011_22102804.txt',\n",
       " 72: 'VEGF Pathway of Drosophila Signaling Pathway_23868318.txt',\n",
       " 73: 'Trichostrongylus retortaeformis_22253585.txt',\n",
       " 74: 'Tumour Cell Invasion and Migration_26528548.txt',\n",
       " 75: 'Wg Pathway of Drosophila Signalling Pathways_23868318.txt',\n",
       " 76: 'Yeast Apoptosis_23233838.txt'}"
      ]
     },
     "execution_count": 5,
     "metadata": {},
     "output_type": "execute_result"
    }
   ],
   "source": [
    "file_dict = {}\n",
    "directory = Path('cellcollective')\n",
    "counter = 0\n",
    "for file_path in directory.rglob('*'):\n",
    "    if file_path.is_file():\n",
    "        file_dict[counter] = str(file_path)[15:]\n",
    "        counter += 1\n",
    "file_dict"
   ]
  },
  {
   "cell_type": "code",
   "execution_count": null,
   "id": "9bd1b1b4",
   "metadata": {},
   "outputs": [],
   "source": [
    "functionsname = [fanout, fanin, cascade, mutualout, mutualin, bimutual, \n",
    "                 FFL, FBL, regulatingmutual, regulatedmutual, mutualcascade, semiclique, clique]"
   ]
  },
  {
   "cell_type": "code",
   "execution_count": null,
   "id": "effbdd74",
   "metadata": {},
   "outputs": [],
   "source": [
    "Apoptosis_un = {}\n",
    "Apoptosis_un_en = {}\n",
    "Apoptosis_syn = {}\n",
    "for function in functionsname:\n",
    "    un, un_en, syn = cal_motify(function, file_dict[0])\n",
    "    Apoptosis_un.update(un)\n",
    "    Apoptosis_un_en.update(un_en)\n",
    "    Apoptosis_syn.update(syn)\n",
    "x_values = list(Apoptosis_un.keys())\n",
    "y_un = list(Apoptosis_un.values())\n",
    "y_un_en = list(Apoptosis_un_en.values())\n",
    "y_syn = list(Apoptosis_syn.values())\n",
    "make_figure(x_values, y_un, y_un_en, y_syn, \"Apoptosis_\")"
   ]
  },
  {
   "cell_type": "code",
   "execution_count": null,
   "id": "547f82e3",
   "metadata": {},
   "outputs": [],
   "source": [
    "#for file_name in list(file_dict.values())[0:5]:\n",
    " #   cal_motify(find_complete_subgraphs, file_name)"
   ]
  },
  {
   "cell_type": "code",
   "execution_count": null,
   "id": "29616ab5",
   "metadata": {},
   "outputs": [],
   "source": []
  }
 ],
 "metadata": {
  "kernelspec": {
   "display_name": "myenv",
   "language": "python",
   "name": "python3"
  },
  "language_info": {
   "codemirror_mode": {
    "name": "ipython",
    "version": 3
   },
   "file_extension": ".py",
   "mimetype": "text/x-python",
   "name": "python",
   "nbconvert_exporter": "python",
   "pygments_lexer": "ipython3",
   "version": "3.6.8"
  }
 },
 "nbformat": 4,
 "nbformat_minor": 5
}
