{
 "cells": [
  {
   "cell_type": "code",
   "execution_count": 63,
   "id": "405a1dec",
   "metadata": {},
   "outputs": [],
   "source": [
    "import numpy as np\n",
    "import networkx as nx\n",
    "from scipy.stats import entropy\n",
    "import matplotlib.pyplot as plt\n",
    "import random\n",
    "\n",
    "%matplotlib inline\n",
    "import torch\n",
    "import torch.nn as nn\n",
    "import torch.optim as optim\n",
    "\n",
    "import entropy_estimators as ee\n"
   ]
  },
  {
   "cell_type": "code",
   "execution_count": null,
   "id": "526eba06",
   "metadata": {},
   "outputs": [],
   "source": [
    "from func.EI_calculation import tpm_ei\n",
    "from func.p_calculation import calculate_or_p\n",
    "from func.p_calculation import calculate_xor_p\n",
    "from func.p_calculation import noise_modify_p"
   ]
  },
  {
   "cell_type": "code",
   "execution_count": 64,
   "id": "05c9d21a",
   "metadata": {},
   "outputs": [],
   "source": [
    "%run EI_calculation.ipynb"
   ]
  },
  {
   "cell_type": "code",
   "execution_count": 65,
   "id": "8fdada32",
   "metadata": {},
   "outputs": [],
   "source": [
    "%run p_calculation.ipynb"
   ]
  },
  {
   "cell_type": "code",
   "execution_count": 66,
   "id": "7606357a",
   "metadata": {},
   "outputs": [
    {
     "data": {
      "image/png": "[encoded data removed]",
      "text/plain": [
       "<Figure size 432x288 with 1 Axes>"
      ]
     },
     "metadata": {},
     "output_type": "display_data"
    }
   ],
   "source": [
    "G = nx.DiGraph()\n",
    "G.add_nodes_from(['A', 'B', 'C', 'D', 'E', 'F'])\n",
    "G.add_edges_from([('A', 'B'), ('B', 'A'), ('A', 'C'), ('C', 'A'), ('A', 'E'), ('C', 'E'), ('E', 'C'), ('B', 'D'), \n",
    "                  ('D', 'B'), ('D', 'F'), ('F', 'D'), ('B', 'F'), ('E', 'A'), ('F', 'B')])\n",
    "pos = {'A': (1, 2), 'B': (2, 2), 'C': (1, 0), 'D': (2, 0), 'E': (0, 1), 'F': (3, 1)}\n",
    "nx.draw_networkx(G, pos=pos, with_labels=True, node_color='lightblue', font_weight='bold', arrows=True, \n",
    "                 labels={node: node for node in G.nodes()}, node_size=1000, width=2, arrowstyle='->', arrowsize=20)\n",
    "plt.show()"
   ]
  },
  {
   "cell_type": "markdown",
   "id": "729ae934",
   "metadata": {},
   "source": [
    "# ACE或——BDF或"
   ]
  },
  {
   "cell_type": "markdown",
   "id": "d87df1bf",
   "metadata": {},
   "source": [
    "## 整体"
   ]
  },
  {
   "cell_type": "code",
   "execution_count": 67,
   "id": "ffd55085",
   "metadata": {},
   "outputs": [],
   "source": [
    "Col = ['{:06b}'.format(i) for i in range(64)]\n",
    "ABCDEF = np.empty((64, 64))\n",
    "\n",
    "for i in range(ABCDEF.shape[0]):\n",
    "    pa = calculate_or_p(i, 1,2,4) \n",
    "    pc = calculate_or_p(i, 0,4)\n",
    "    pe = calculate_or_p(i, 0,2)\n",
    "    \n",
    "    pb = calculate_or_p(i, 0,3,5)\n",
    "    pb = noise_modify_p(pb, 0.1)\n",
    "    pd = calculate_or_p(i, 1,5)\n",
    "    pd = noise_modify_p(pd, 0.1)\n",
    "    pf = calculate_or_p(i, 1,3)\n",
    "    pf = noise_modify_p(pf, 0.1)\n",
    "\n",
    "    ABCDEF[i] = np.kron(pa, np.kron(pb, np.kron(pc, np.kron(pd, np.kron(pe, pf)))))"
   ]
  },
  {
   "cell_type": "code",
   "execution_count": 68,
   "id": "2b76b7a8",
   "metadata": {},
   "outputs": [
    {
     "data": {
      "text/plain": [
       "2.9008312476221096"
      ]
     },
     "execution_count": 68,
     "metadata": {},
     "output_type": "execute_result"
    }
   ],
   "source": [
    "ABCDEF_ei = tpm_ei(ABCDEF, log_base = 2)\n",
    "ABCDEF_ei"
   ]
  },
  {
   "cell_type": "markdown",
   "id": "731cdcef",
   "metadata": {},
   "source": [
    "## ACE"
   ]
  },
  {
   "cell_type": "code",
   "execution_count": 82,
   "id": "4209e739",
   "metadata": {},
   "outputs": [],
   "source": [
    "Col = ['{:03b}0'.format(i) for i in range(8)]  #ACE_B\n",
    "ACE_B_0 = np.empty((8, 8))\n",
    "\n",
    "for i in range(ACE_B_0.shape[0]):  \n",
    "    pa = calculate_or_p(i, 1,2,3)  \n",
    "    pc = calculate_or_p(i, 0,2)\n",
    "    pe = calculate_or_p(i, 0,1)\n",
    "\n",
    "    ACE_B_0[i] = np.kron(pa, np.kron(pc, pe)) "
   ]
  },
  {
   "cell_type": "code",
   "execution_count": 83,
   "id": "5b3039da",
   "metadata": {},
   "outputs": [],
   "source": [
    "Col = ['{:03b}1'.format(i) for i in range(8)]\n",
    "ACE_B_1 = np.empty((8, 8))\n",
    "\n",
    "for i in range(ACE_B_1.shape[0]):  \n",
    "    pa = calculate_or_p(i, 1,2,3) \n",
    "    pc = calculate_or_p(i, 0,2)\n",
    "    pe = calculate_or_p(i, 0,1)\n",
    "   \n",
    "    ACE_B_1[i] = np.kron(pa, np.kron(pc, pe))"
   ]
  },
  {
   "cell_type": "code",
   "execution_count": 84,
   "id": "4ebc33b9",
   "metadata": {},
   "outputs": [
    {
     "name": "stdout",
     "output_type": "stream",
     "text": [
      "2.0\n",
      "1.5487949406953987\n",
      "1.7743974703476995\n"
     ]
    }
   ],
   "source": [
    "print(tpm_ei(ACE_B_0, log_base = 2))  #同质、B为0的时候ACE的ei\n",
    "print(tpm_ei(ACE_B_1, log_base = 2))  #同质、B为1的时候ACE的ei\n",
    "print((tpm_ei(ACE_B_0, log_base = 2) + tpm_ei(ACE_B_1, log_base = 2)) / 2)   #异质、ACE的ei"
   ]
  },
  {
   "cell_type": "markdown",
   "id": "1668f1c7",
   "metadata": {},
   "source": [
    "## BDF"
   ]
  },
  {
   "cell_type": "code",
   "execution_count": 85,
   "id": "86e416d2",
   "metadata": {},
   "outputs": [],
   "source": [
    "Col = ['{:03b}0'.format(i) for i in range(8)]\n",
    "BDF_A_0 = np.empty((8, 8))\n",
    "\n",
    "for i in range(BDF_A_0.shape[0]):  \n",
    "    pb = calculate_or_p(i, 1,2,3)  \n",
    "    pb = noise_modify_p(pb, 0.1)\n",
    "    pd = calculate_or_p(i, 0,2)\n",
    "    pd = noise_modify_p(pd, 0.1)\n",
    "    pf = calculate_or_p(i, 0,1)\n",
    "    pf = noise_modify_p(pf, 0.1)\n",
    "\n",
    "    BDF_A_0[i] = np.kron(pb, np.kron(pd, pf))"
   ]
  },
  {
   "cell_type": "code",
   "execution_count": 86,
   "id": "b5daea84",
   "metadata": {},
   "outputs": [],
   "source": [
    "Col = ['{:03b}1'.format(i) for i in range(8)]\n",
    "BDF_A_1 = np.empty((8, 8))\n",
    "\n",
    "for i in range(BDF_A_1.shape[0]):  \n",
    "    pb = calculate_or_p(i, 1,2,3)\n",
    "    pb = noise_modify_p(pb, 0.1)\n",
    "    pd = calculate_or_p(i, 0,2)\n",
    "    pd = noise_modify_p(pd, 0.1)\n",
    "    pf = calculate_or_p(i, 0,1)\n",
    "    pf = noise_modify_p(pf, 0.1)\n",
    "\n",
    "    BDF_A_1[i] = np.kron(pb, np.kron(pd, pf))"
   ]
  },
  {
   "cell_type": "code",
   "execution_count": 87,
   "id": "33bca369",
   "metadata": {},
   "outputs": [
    {
     "name": "stdout",
     "output_type": "stream",
     "text": [
      "1.1228211945075315\n",
      "0.7992726322942094\n",
      "0.9610469134008705\n"
     ]
    }
   ],
   "source": [
    "print(tpm_ei(BDF_A_0, log_base = 2))  #同质、A为0的时候BDF的ei\n",
    "print(tpm_ei(BDF_A_1, log_base = 2))  #同质、A为1的时候BDF的ei\n",
    "print((tpm_ei(BDF_A_0, log_base = 2) + tpm_ei(BDF_A_1, log_base = 2)) / 2)  #异质、BDF的ei"
   ]
  },
  {
   "cell_type": "markdown",
   "id": "35ed8d35",
   "metadata": {},
   "source": [
    "# ACE异或——BDF异或"
   ]
  },
  {
   "cell_type": "markdown",
   "id": "ba0138fc",
   "metadata": {},
   "source": [
    "## 整体"
   ]
  },
  {
   "cell_type": "code",
   "execution_count": 80,
   "id": "03962ee4",
   "metadata": {},
   "outputs": [],
   "source": [
    "Col = ['{:06b}'.format(i) for i in range(64)]\n",
    "ABCDEF = np.empty((64, 64))\n",
    "\n",
    "for i in range(ABCDEF.shape[0]):\n",
    "    pa = calculate_xor_p(i, 1,2,4) \n",
    "    pc = calculate_xor_p(i, 0,4)\n",
    "    pe = calculate_xor_p(i, 0,2)\n",
    "    \n",
    "    pb = calculate_xor_p(i, 0,3,5)\n",
    "    pb = noise_modify_p(pb, 0.1)\n",
    "    pd = calculate_xor_p(i, 1,5)\n",
    "    pd = noise_modify_p(pd, 0.1)\n",
    "    pf = calculate_xor_p(i, 1,3)\n",
    "    pf = noise_modify_p(pf, 0.1)\n",
    "\n",
    "    ABCDEF[i] = np.kron(pa, np.kron(pb, np.kron(pc, np.kron(pd, np.kron(pe, pf)))))"
   ]
  },
  {
   "cell_type": "code",
   "execution_count": 81,
   "id": "fee33360",
   "metadata": {},
   "outputs": [
    {
     "name": "stdout",
     "output_type": "stream",
     "text": [
      "4.593013219232156\n"
     ]
    }
   ],
   "source": [
    "print(tpm_ei(ABCDEF, log_base = 2))"
   ]
  },
  {
   "cell_type": "markdown",
   "id": "a85a2d21",
   "metadata": {},
   "source": [
    "## ACE"
   ]
  },
  {
   "cell_type": "code",
   "execution_count": 111,
   "id": "b65404cd",
   "metadata": {},
   "outputs": [],
   "source": [
    "Col = ['{:03b}0'.format(i) for i in range(8)]\n",
    "ACE_B_0 = np.empty((8, 8))\n",
    "\n",
    "for i in range(ACE_B_0.shape[0]):  \n",
    "    pa = calculate_xor_p(i, 1,2,3) \n",
    "    pc = calculate_xor_p(i, 0,2)\n",
    "    pe = calculate_xor_p(i, 0,1)\n",
    "\n",
    "    ACE_B_0[i] = np.kron(pa, np.kron(pc, pe)) "
   ]
  },
  {
   "cell_type": "code",
   "execution_count": 112,
   "id": "cf5a61ae",
   "metadata": {},
   "outputs": [],
   "source": [
    "Col = ['{:03b}1'.format(i) for i in range(8)]\n",
    "ACE_B_1 = np.empty((8, 8))\n",
    "\n",
    "for i in range(ACE_B_1.shape[0]):  \n",
    "    pa = calculate_xor_p(i, 1,2,3) \n",
    "    pc = calculate_xor_p(i, 0,2)\n",
    "    pe = calculate_xor_p(i, 0,1)\n",
    "\n",
    "    ACE_B_1[i] = np.kron(pa, np.kron(pc, pe)) "
   ]
  },
  {
   "cell_type": "code",
   "execution_count": 113,
   "id": "928c3724",
   "metadata": {},
   "outputs": [
    {
     "name": "stdout",
     "output_type": "stream",
     "text": [
      "2.0\n",
      "2.0\n",
      "2.0\n"
     ]
    }
   ],
   "source": [
    "print(tpm_ei(ACE_B_0, log_base = 2))  #同质、B为0的时候ACE的ei\n",
    "print(tpm_ei(ACE_B_1, log_base = 2))  #同质、B为1的时候ACE的ei\n",
    "print((tpm_ei(ACE_B_0, log_base = 2) + tpm_ei(ACE_B_1, log_base = 2)) / 2)   #异质、ACE的ei"
   ]
  },
  {
   "cell_type": "markdown",
   "id": "40fe48bf",
   "metadata": {},
   "source": [
    "## BDF"
   ]
  },
  {
   "cell_type": "code",
   "execution_count": 119,
   "id": "c2363d34",
   "metadata": {},
   "outputs": [],
   "source": [
    "Col = ['{:03b}0'.format(i) for i in range(8)]\n",
    "BDF_A_0 = np.empty((8, 8))\n",
    "\n",
    "for i in range(BDF_A_0.shape[0]):  \n",
    "    pb = calculate_xor_p(i, 1,2,3)  \n",
    "    pb = noise_modify_p(pb, 0.1)\n",
    "    pd = calculate_xor_p(i, 0,2)\n",
    "    pd = noise_modify_p(pd, 0.1)\n",
    "    pf = calculate_xor_p(i, 0,1)\n",
    "    pf = noise_modify_p(pf, 0.1)\n",
    "\n",
    "    BDF_A_0[i] = np.kron(pb, np.kron(pd, pf))"
   ]
  },
  {
   "cell_type": "code",
   "execution_count": 120,
   "id": "4fb99637",
   "metadata": {},
   "outputs": [],
   "source": [
    "Col = ['{:03b}1'.format(i) for i in range(8)]\n",
    "BDF_A_1 = np.empty((8, 8))\n",
    "\n",
    "for i in range(BDF_A_1.shape[0]):  \n",
    "    pb = calculate_xor_p(i, 1,2,3)  \n",
    "    pb = noise_modify_p(pb, 0.1)\n",
    "    pd = calculate_xor_p(i, 0,2)\n",
    "    pd = noise_modify_p(pd, 0.1)\n",
    "    pf = calculate_xor_p(i, 0,1)\n",
    "    pf = noise_modify_p(pf, 0.1)\n",
    "\n",
    "    BDF_A_1[i] = np.kron(pb, np.kron(pd, pf))"
   ]
  },
  {
   "cell_type": "code",
   "execution_count": 121,
   "id": "38201e57",
   "metadata": {},
   "outputs": [
    {
     "name": "stdout",
     "output_type": "stream",
     "text": [
      "1.3946423208177685\n",
      "1.3946423208177685\n",
      "1.3946423208177685\n"
     ]
    }
   ],
   "source": [
    "print(tpm_ei(BDF_A_0, log_base = 2))  #同质、A为0的时候BDF的ei\n",
    "print(tpm_ei(BDF_A_1, log_base = 2))  #同质、A为1的时候BDF的ei\n",
    "print((tpm_ei(BDF_A_0, log_base = 2) + tpm_ei(BDF_A_1, log_base = 2)) / 2)  #异质、BDF的ei"
   ]
  },
  {
   "cell_type": "code",
   "execution_count": null,
   "id": "db8089a7",
   "metadata": {},
   "outputs": [],
   "source": []
  }
 ],
 "metadata": {
  "kernelspec": {
   "display_name": "Python 3 (ipykernel)",
   "language": "python",
   "name": "python3"
  },
  "language_info": {
   "codemirror_mode": {
    "name": "ipython",
    "version": 3
   },
   "file_extension": ".py",
   "mimetype": "text/x-python",
   "name": "python",
   "nbconvert_exporter": "python",
   "pygments_lexer": "ipython3",
   "version": "3.10.14"
  }
 },
 "nbformat": 4,
 "nbformat_minor": 5
}
