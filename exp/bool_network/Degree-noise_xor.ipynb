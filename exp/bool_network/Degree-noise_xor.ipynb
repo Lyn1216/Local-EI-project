{
 "cells": [
  {
   "cell_type": "code",
   "execution_count": 1,
   "id": "5738cabf",
   "metadata": {},
   "outputs": [],
   "source": [
    "import numpy as np\n",
    "import networkx as nx\n",
    "from scipy.stats import entropy\n",
    "import matplotlib.pyplot as plt\n",
    "import random\n",
    "import string\n",
    "\n",
    "%matplotlib inline\n",
    "import torch\n",
    "import torch.nn as nn\n",
    "import torch.optim as optim\n",
    "\n",
    "import entropy_estimators as ee"
   ]
  },
  {
   "cell_type": "code",
   "execution_count": null,
   "id": "49b04f4f",
   "metadata": {},
   "outputs": [],
   "source": [
    "from func.EI_calculation import tpm_ei\n",
    "from func.p_calculation import calculate_or_p\n",
    "from func.p_calculation import calculate_xor_p\n",
    "from func.p_calculation import noise_modify_p"
   ]
  },
  {
   "cell_type": "code",
   "execution_count": 2,
   "id": "0ee1ab7f",
   "metadata": {},
   "outputs": [],
   "source": [
    "%run EI_calculation.ipynb"
   ]
  },
  {
   "cell_type": "code",
   "execution_count": 3,
   "id": "709c195b",
   "metadata": {},
   "outputs": [],
   "source": [
    "%run p_calculation.ipynb"
   ]
  },
  {
   "cell_type": "code",
   "execution_count": 12,
   "id": "7d4460ff",
   "metadata": {},
   "outputs": [
    {
     "data": {
      "image/png": "[encoded data removed]",
      "text/plain": [
       "<Figure size 720x576 with 1 Axes>"
      ]
     },
     "metadata": {},
     "output_type": "display_data"
    }
   ],
   "source": [
    "G = nx.DiGraph()\n",
    "G.add_nodes_from(['A', 'B', 'C', 'D', 'E', 'F'])\n",
    "G.add_edges_from([('A', 'B'), ('B', 'A'), ('A', 'C'), ('C', 'A'), ('A', 'D'), ('D', 'A'), ('A', 'E'), ('E', 'A'), \n",
    "                  ('A', 'A'), ('B', 'C'), ('C', 'B'), ('B', 'D'), ('D', 'B'), ('B', 'B'),\n",
    "                  ('C', 'C'), ('D', 'D'), ('E', 'E'), ('F', 'F')])\n",
    "pos = {'A': (2, 3), 'B': (3, 3), 'C': (1, 2), 'D': (3, 1), 'E': (2, 1), 'F': (4, 2)}\n",
    "plt.figure(figsize=(10, 8))\n",
    "nx.draw_networkx(G, pos=pos, with_labels=True, node_color='lightblue', font_weight='bold', arrows=True, \n",
    "                 labels={node: node for node in G.nodes()}, node_size=1000, width=2, arrowstyle='->', arrowsize=20)\n",
    "plt.show()"
   ]
  },
  {
   "cell_type": "code",
   "execution_count": 4,
   "id": "c8847402",
   "metadata": {},
   "outputs": [],
   "source": [
    "def same_noise_xor_ei(degree):\n",
    "    global Col\n",
    "    ei_results = {}  # 用于存储结果的字典\n",
    "    print(ei_results)\n",
    "    total_combinations = 2 ** (degree - 1) # 计算组合总数\n",
    "    print(total_combinations)\n",
    "    \n",
    "    for m in range(total_combinations):\n",
    "        print(\"m =\", m)\n",
    "        binary_str = f'{m:0{degree}b}'  # 生成相应长度的二进制字符串\n",
    "        print(binary_str)\n",
    "        Col = [binary_str, '1' + binary_str[1:]]  # 创建 'Col' 变量\n",
    "        print(Col)\n",
    "        \n",
    "        A = np.empty((2, 2))  # 初始化一个 2x2 的空数组\n",
    "        \n",
    "        params = tuple(range(degree))  # 根据 bit_length 动态生成参数列表\n",
    "        print(params)\n",
    "        \n",
    "        for i in range(A.shape[0]):\n",
    "            p = calculate_xor_p(i, *params)  # 动态传入参数\n",
    "            A[i] = noise_modify_p(p, 0.1)\n",
    "            print(A[i])\n",
    "        print(A)\n",
    "        \n",
    "        ei = tpm_ei(A, log_base=2)\n",
    "        print(ei)\n",
    "        ei_results[binary_str] = ei\n",
    "        print(ei_results)\n",
    "    \n",
    "    return ei_results"
   ]
  },
  {
   "cell_type": "code",
   "execution_count": 5,
   "id": "374c59ee",
   "metadata": {},
   "outputs": [],
   "source": [
    "def calculate_average(ei_results):\n",
    "    total_sum = sum(ei_results.values())  # 计算所有值的总和\n",
    "    count = len(ei_results)  # 计算字典中键值对的数量\n",
    "    average = total_sum / count if count != 0 else 0  # 计算平均数，避免除以零\n",
    "    return average"
   ]
  },
  {
   "cell_type": "markdown",
   "id": "8db832dc",
   "metadata": {},
   "source": [
    "# A"
   ]
  },
  {
   "cell_type": "code",
   "execution_count": 7,
   "id": "fd82cefb",
   "metadata": {},
   "outputs": [
    {
     "name": "stdout",
     "output_type": "stream",
     "text": [
      "{}\n",
      "16\n",
      "m = 0\n",
      "00000\n",
      "['00000', '10000']\n",
      "(0, 1, 2, 3, 4)\n",
      "[0.9 0.1]\n",
      "[0.1 0.9]\n",
      "[[0.9 0.1]\n",
      " [0.1 0.9]]\n",
      "0.5310044064107189\n",
      "{'00000': 0.5310044064107189}\n",
      "m = 1\n",
      "00001\n",
      "['00001', '10001']\n",
      "(0, 1, 2, 3, 4)\n",
      "[0.1 0.9]\n",
      "[0.9 0.1]\n",
      "[[0.1 0.9]\n",
      " [0.9 0.1]]\n",
      "0.5310044064107189\n",
      "{'00000': 0.5310044064107189, '00001': 0.5310044064107189}\n",
      "m = 2\n",
      "00010\n",
      "['00010', '10010']\n",
      "(0, 1, 2, 3, 4)\n",
      "[0.1 0.9]\n",
      "[0.9 0.1]\n",
      "[[0.1 0.9]\n",
      " [0.9 0.1]]\n",
      "0.5310044064107189\n",
      "{'00000': 0.5310044064107189, '00001': 0.5310044064107189, '00010': 0.5310044064107189}\n",
      "m = 3\n",
      "00011\n",
      "['00011', '10011']\n",
      "(0, 1, 2, 3, 4)\n",
      "[0.9 0.1]\n",
      "[0.1 0.9]\n",
      "[[0.9 0.1]\n",
      " [0.1 0.9]]\n",
      "0.5310044064107189\n",
      "{'00000': 0.5310044064107189, '00001': 0.5310044064107189, '00010': 0.5310044064107189, '00011': 0.5310044064107189}\n",
      "m = 4\n",
      "00100\n",
      "['00100', '10100']\n",
      "(0, 1, 2, 3, 4)\n",
      "[0.1 0.9]\n",
      "[0.9 0.1]\n",
      "[[0.1 0.9]\n",
      " [0.9 0.1]]\n",
      "0.5310044064107189\n",
      "{'00000': 0.5310044064107189, '00001': 0.5310044064107189, '00010': 0.5310044064107189, '00011': 0.5310044064107189, '00100': 0.5310044064107189}\n",
      "m = 5\n",
      "00101\n",
      "['00101', '10101']\n",
      "(0, 1, 2, 3, 4)\n",
      "[0.9 0.1]\n",
      "[0.1 0.9]\n",
      "[[0.9 0.1]\n",
      " [0.1 0.9]]\n",
      "0.5310044064107189\n",
      "{'00000': 0.5310044064107189, '00001': 0.5310044064107189, '00010': 0.5310044064107189, '00011': 0.5310044064107189, '00100': 0.5310044064107189, '00101': 0.5310044064107189}\n",
      "m = 6\n",
      "00110\n",
      "['00110', '10110']\n",
      "(0, 1, 2, 3, 4)\n",
      "[0.9 0.1]\n",
      "[0.1 0.9]\n",
      "[[0.9 0.1]\n",
      " [0.1 0.9]]\n",
      "0.5310044064107189\n",
      "{'00000': 0.5310044064107189, '00001': 0.5310044064107189, '00010': 0.5310044064107189, '00011': 0.5310044064107189, '00100': 0.5310044064107189, '00101': 0.5310044064107189, '00110': 0.5310044064107189}\n",
      "m = 7\n",
      "00111\n",
      "['00111', '10111']\n",
      "(0, 1, 2, 3, 4)\n",
      "[0.1 0.9]\n",
      "[0.9 0.1]\n",
      "[[0.1 0.9]\n",
      " [0.9 0.1]]\n",
      "0.5310044064107189\n",
      "{'00000': 0.5310044064107189, '00001': 0.5310044064107189, '00010': 0.5310044064107189, '00011': 0.5310044064107189, '00100': 0.5310044064107189, '00101': 0.5310044064107189, '00110': 0.5310044064107189, '00111': 0.5310044064107189}\n",
      "m = 8\n",
      "01000\n",
      "['01000', '11000']\n",
      "(0, 1, 2, 3, 4)\n",
      "[0.1 0.9]\n",
      "[0.9 0.1]\n",
      "[[0.1 0.9]\n",
      " [0.9 0.1]]\n",
      "0.5310044064107189\n",
      "{'00000': 0.5310044064107189, '00001': 0.5310044064107189, '00010': 0.5310044064107189, '00011': 0.5310044064107189, '00100': 0.5310044064107189, '00101': 0.5310044064107189, '00110': 0.5310044064107189, '00111': 0.5310044064107189, '01000': 0.5310044064107189}\n",
      "m = 9\n",
      "01001\n",
      "['01001', '11001']\n",
      "(0, 1, 2, 3, 4)\n",
      "[0.9 0.1]\n",
      "[0.1 0.9]\n",
      "[[0.9 0.1]\n",
      " [0.1 0.9]]\n",
      "0.5310044064107189\n",
      "{'00000': 0.5310044064107189, '00001': 0.5310044064107189, '00010': 0.5310044064107189, '00011': 0.5310044064107189, '00100': 0.5310044064107189, '00101': 0.5310044064107189, '00110': 0.5310044064107189, '00111': 0.5310044064107189, '01000': 0.5310044064107189, '01001': 0.5310044064107189}\n",
      "m = 10\n",
      "01010\n",
      "['01010', '11010']\n",
      "(0, 1, 2, 3, 4)\n",
      "[0.9 0.1]\n",
      "[0.1 0.9]\n",
      "[[0.9 0.1]\n",
      " [0.1 0.9]]\n",
      "0.5310044064107189\n",
      "{'00000': 0.5310044064107189, '00001': 0.5310044064107189, '00010': 0.5310044064107189, '00011': 0.5310044064107189, '00100': 0.5310044064107189, '00101': 0.5310044064107189, '00110': 0.5310044064107189, '00111': 0.5310044064107189, '01000': 0.5310044064107189, '01001': 0.5310044064107189, '01010': 0.5310044064107189}\n",
      "m = 11\n",
      "01011\n",
      "['01011', '11011']\n",
      "(0, 1, 2, 3, 4)\n",
      "[0.1 0.9]\n",
      "[0.9 0.1]\n",
      "[[0.1 0.9]\n",
      " [0.9 0.1]]\n",
      "0.5310044064107189\n",
      "{'00000': 0.5310044064107189, '00001': 0.5310044064107189, '00010': 0.5310044064107189, '00011': 0.5310044064107189, '00100': 0.5310044064107189, '00101': 0.5310044064107189, '00110': 0.5310044064107189, '00111': 0.5310044064107189, '01000': 0.5310044064107189, '01001': 0.5310044064107189, '01010': 0.5310044064107189, '01011': 0.5310044064107189}\n",
      "m = 12\n",
      "01100\n",
      "['01100', '11100']\n",
      "(0, 1, 2, 3, 4)\n",
      "[0.9 0.1]\n",
      "[0.1 0.9]\n",
      "[[0.9 0.1]\n",
      " [0.1 0.9]]\n",
      "0.5310044064107189\n",
      "{'00000': 0.5310044064107189, '00001': 0.5310044064107189, '00010': 0.5310044064107189, '00011': 0.5310044064107189, '00100': 0.5310044064107189, '00101': 0.5310044064107189, '00110': 0.5310044064107189, '00111': 0.5310044064107189, '01000': 0.5310044064107189, '01001': 0.5310044064107189, '01010': 0.5310044064107189, '01011': 0.5310044064107189, '01100': 0.5310044064107189}\n",
      "m = 13\n",
      "01101\n",
      "['01101', '11101']\n",
      "(0, 1, 2, 3, 4)\n",
      "[0.1 0.9]\n",
      "[0.9 0.1]\n",
      "[[0.1 0.9]\n",
      " [0.9 0.1]]\n",
      "0.5310044064107189\n",
      "{'00000': 0.5310044064107189, '00001': 0.5310044064107189, '00010': 0.5310044064107189, '00011': 0.5310044064107189, '00100': 0.5310044064107189, '00101': 0.5310044064107189, '00110': 0.5310044064107189, '00111': 0.5310044064107189, '01000': 0.5310044064107189, '01001': 0.5310044064107189, '01010': 0.5310044064107189, '01011': 0.5310044064107189, '01100': 0.5310044064107189, '01101': 0.5310044064107189}\n",
      "m = 14\n",
      "01110\n",
      "['01110', '11110']\n",
      "(0, 1, 2, 3, 4)\n",
      "[0.1 0.9]\n",
      "[0.9 0.1]\n",
      "[[0.1 0.9]\n",
      " [0.9 0.1]]\n",
      "0.5310044064107189\n",
      "{'00000': 0.5310044064107189, '00001': 0.5310044064107189, '00010': 0.5310044064107189, '00011': 0.5310044064107189, '00100': 0.5310044064107189, '00101': 0.5310044064107189, '00110': 0.5310044064107189, '00111': 0.5310044064107189, '01000': 0.5310044064107189, '01001': 0.5310044064107189, '01010': 0.5310044064107189, '01011': 0.5310044064107189, '01100': 0.5310044064107189, '01101': 0.5310044064107189, '01110': 0.5310044064107189}\n",
      "m = 15\n",
      "01111\n",
      "['01111', '11111']\n",
      "(0, 1, 2, 3, 4)\n",
      "[0.9 0.1]\n",
      "[0.1 0.9]\n",
      "[[0.9 0.1]\n",
      " [0.1 0.9]]\n",
      "0.5310044064107189\n",
      "{'00000': 0.5310044064107189, '00001': 0.5310044064107189, '00010': 0.5310044064107189, '00011': 0.5310044064107189, '00100': 0.5310044064107189, '00101': 0.5310044064107189, '00110': 0.5310044064107189, '00111': 0.5310044064107189, '01000': 0.5310044064107189, '01001': 0.5310044064107189, '01010': 0.5310044064107189, '01011': 0.5310044064107189, '01100': 0.5310044064107189, '01101': 0.5310044064107189, '01110': 0.5310044064107189, '01111': 0.5310044064107189}\n"
     ]
    }
   ],
   "source": [
    "A_bit_length = 5\n",
    "A_ei_results = same_noise_xor_ei(A_bit_length) "
   ]
  },
  {
   "cell_type": "code",
   "execution_count": 8,
   "id": "b12ec31b",
   "metadata": {},
   "outputs": [
    {
     "name": "stdout",
     "output_type": "stream",
     "text": [
      "A动力学异质: 0.5310044064107188\n"
     ]
    }
   ],
   "source": [
    "A_average_ei = calculate_average(A_ei_results)\n",
    "print(f\"A动力学异质: {A_average_ei}\")"
   ]
  },
  {
   "cell_type": "markdown",
   "id": "f4abda7b",
   "metadata": {},
   "source": [
    "# B"
   ]
  },
  {
   "cell_type": "code",
   "execution_count": 9,
   "id": "159d4640",
   "metadata": {
    "scrolled": true
   },
   "outputs": [
    {
     "name": "stdout",
     "output_type": "stream",
     "text": [
      "{}\n",
      "8\n",
      "m = 0\n",
      "0000\n",
      "['0000', '1000']\n",
      "(0, 1, 2, 3)\n",
      "[0.9 0.1]\n",
      "[0.1 0.9]\n",
      "[[0.9 0.1]\n",
      " [0.1 0.9]]\n",
      "0.5310044064107189\n",
      "{'0000': 0.5310044064107189}\n",
      "m = 1\n",
      "0001\n",
      "['0001', '1001']\n",
      "(0, 1, 2, 3)\n",
      "[0.1 0.9]\n",
      "[0.9 0.1]\n",
      "[[0.1 0.9]\n",
      " [0.9 0.1]]\n",
      "0.5310044064107189\n",
      "{'0000': 0.5310044064107189, '0001': 0.5310044064107189}\n",
      "m = 2\n",
      "0010\n",
      "['0010', '1010']\n",
      "(0, 1, 2, 3)\n",
      "[0.1 0.9]\n",
      "[0.9 0.1]\n",
      "[[0.1 0.9]\n",
      " [0.9 0.1]]\n",
      "0.5310044064107189\n",
      "{'0000': 0.5310044064107189, '0001': 0.5310044064107189, '0010': 0.5310044064107189}\n",
      "m = 3\n",
      "0011\n",
      "['0011', '1011']\n",
      "(0, 1, 2, 3)\n",
      "[0.9 0.1]\n",
      "[0.1 0.9]\n",
      "[[0.9 0.1]\n",
      " [0.1 0.9]]\n",
      "0.5310044064107189\n",
      "{'0000': 0.5310044064107189, '0001': 0.5310044064107189, '0010': 0.5310044064107189, '0011': 0.5310044064107189}\n",
      "m = 4\n",
      "0100\n",
      "['0100', '1100']\n",
      "(0, 1, 2, 3)\n",
      "[0.1 0.9]\n",
      "[0.9 0.1]\n",
      "[[0.1 0.9]\n",
      " [0.9 0.1]]\n",
      "0.5310044064107189\n",
      "{'0000': 0.5310044064107189, '0001': 0.5310044064107189, '0010': 0.5310044064107189, '0011': 0.5310044064107189, '0100': 0.5310044064107189}\n",
      "m = 5\n",
      "0101\n",
      "['0101', '1101']\n",
      "(0, 1, 2, 3)\n",
      "[0.9 0.1]\n",
      "[0.1 0.9]\n",
      "[[0.9 0.1]\n",
      " [0.1 0.9]]\n",
      "0.5310044064107189\n",
      "{'0000': 0.5310044064107189, '0001': 0.5310044064107189, '0010': 0.5310044064107189, '0011': 0.5310044064107189, '0100': 0.5310044064107189, '0101': 0.5310044064107189}\n",
      "m = 6\n",
      "0110\n",
      "['0110', '1110']\n",
      "(0, 1, 2, 3)\n",
      "[0.9 0.1]\n",
      "[0.1 0.9]\n",
      "[[0.9 0.1]\n",
      " [0.1 0.9]]\n",
      "0.5310044064107189\n",
      "{'0000': 0.5310044064107189, '0001': 0.5310044064107189, '0010': 0.5310044064107189, '0011': 0.5310044064107189, '0100': 0.5310044064107189, '0101': 0.5310044064107189, '0110': 0.5310044064107189}\n",
      "m = 7\n",
      "0111\n",
      "['0111', '1111']\n",
      "(0, 1, 2, 3)\n",
      "[0.1 0.9]\n",
      "[0.9 0.1]\n",
      "[[0.1 0.9]\n",
      " [0.9 0.1]]\n",
      "0.5310044064107189\n",
      "{'0000': 0.5310044064107189, '0001': 0.5310044064107189, '0010': 0.5310044064107189, '0011': 0.5310044064107189, '0100': 0.5310044064107189, '0101': 0.5310044064107189, '0110': 0.5310044064107189, '0111': 0.5310044064107189}\n"
     ]
    }
   ],
   "source": [
    "B_bit_length = 4\n",
    "B_ei_results = same_noise_xor_ei(B_bit_length) "
   ]
  },
  {
   "cell_type": "code",
   "execution_count": 10,
   "id": "8d5b307e",
   "metadata": {},
   "outputs": [
    {
     "name": "stdout",
     "output_type": "stream",
     "text": [
      "B动力学异质: 0.5310044064107188\n"
     ]
    }
   ],
   "source": [
    "B_average_ei = calculate_average(B_ei_results)\n",
    "print(f\"B动力学异质: {B_average_ei}\")"
   ]
  },
  {
   "cell_type": "markdown",
   "id": "6ada8a3f",
   "metadata": {},
   "source": [
    "# C and D"
   ]
  },
  {
   "cell_type": "code",
   "execution_count": 11,
   "id": "abf343a7",
   "metadata": {
    "scrolled": true
   },
   "outputs": [
    {
     "name": "stdout",
     "output_type": "stream",
     "text": [
      "{}\n",
      "4\n",
      "m = 0\n",
      "000\n",
      "['000', '100']\n",
      "(0, 1, 2)\n",
      "[0.9 0.1]\n",
      "[0.1 0.9]\n",
      "[[0.9 0.1]\n",
      " [0.1 0.9]]\n",
      "0.5310044064107189\n",
      "{'000': 0.5310044064107189}\n",
      "m = 1\n",
      "001\n",
      "['001', '101']\n",
      "(0, 1, 2)\n",
      "[0.1 0.9]\n",
      "[0.9 0.1]\n",
      "[[0.1 0.9]\n",
      " [0.9 0.1]]\n",
      "0.5310044064107189\n",
      "{'000': 0.5310044064107189, '001': 0.5310044064107189}\n",
      "m = 2\n",
      "010\n",
      "['010', '110']\n",
      "(0, 1, 2)\n",
      "[0.1 0.9]\n",
      "[0.9 0.1]\n",
      "[[0.1 0.9]\n",
      " [0.9 0.1]]\n",
      "0.5310044064107189\n",
      "{'000': 0.5310044064107189, '001': 0.5310044064107189, '010': 0.5310044064107189}\n",
      "m = 3\n",
      "011\n",
      "['011', '111']\n",
      "(0, 1, 2)\n",
      "[0.9 0.1]\n",
      "[0.1 0.9]\n",
      "[[0.9 0.1]\n",
      " [0.1 0.9]]\n",
      "0.5310044064107189\n",
      "{'000': 0.5310044064107189, '001': 0.5310044064107189, '010': 0.5310044064107189, '011': 0.5310044064107189}\n"
     ]
    }
   ],
   "source": [
    "C_bit_length = 3\n",
    "C_ei_results = same_noise_xor_ei(C_bit_length) "
   ]
  },
  {
   "cell_type": "code",
   "execution_count": 12,
   "id": "68d779e2",
   "metadata": {},
   "outputs": [
    {
     "name": "stdout",
     "output_type": "stream",
     "text": [
      "C动力学异质: 0.5310044064107189\n"
     ]
    }
   ],
   "source": [
    "C_average_ei = calculate_average(C_ei_results)\n",
    "print(f\"C动力学异质: {C_average_ei}\")"
   ]
  },
  {
   "cell_type": "markdown",
   "id": "e9ce294e",
   "metadata": {},
   "source": [
    "# E"
   ]
  },
  {
   "cell_type": "code",
   "execution_count": 13,
   "id": "66725528",
   "metadata": {
    "scrolled": true
   },
   "outputs": [
    {
     "name": "stdout",
     "output_type": "stream",
     "text": [
      "{}\n",
      "2\n",
      "m = 0\n",
      "00\n",
      "['00', '10']\n",
      "(0, 1)\n",
      "[0.9 0.1]\n",
      "[0.1 0.9]\n",
      "[[0.9 0.1]\n",
      " [0.1 0.9]]\n",
      "0.5310044064107189\n",
      "{'00': 0.5310044064107189}\n",
      "m = 1\n",
      "01\n",
      "['01', '11']\n",
      "(0, 1)\n",
      "[0.1 0.9]\n",
      "[0.9 0.1]\n",
      "[[0.1 0.9]\n",
      " [0.9 0.1]]\n",
      "0.5310044064107189\n",
      "{'00': 0.5310044064107189, '01': 0.5310044064107189}\n"
     ]
    }
   ],
   "source": [
    "E_bit_length = 2\n",
    "E_ei_results = same_noise_xor_ei(E_bit_length) "
   ]
  },
  {
   "cell_type": "code",
   "execution_count": 14,
   "id": "9b87ba5d",
   "metadata": {},
   "outputs": [
    {
     "name": "stdout",
     "output_type": "stream",
     "text": [
      "E动力学异质: 0.5310044064107189\n"
     ]
    }
   ],
   "source": [
    "E_average_ei = calculate_average(E_ei_results)\n",
    "print(f\"E动力学异质: {E_average_ei}\")"
   ]
  },
  {
   "cell_type": "markdown",
   "id": "17431d00",
   "metadata": {},
   "source": [
    "# F"
   ]
  },
  {
   "cell_type": "code",
   "execution_count": 15,
   "id": "20dffb6a",
   "metadata": {},
   "outputs": [
    {
     "name": "stdout",
     "output_type": "stream",
     "text": [
      "{}\n",
      "1\n",
      "m = 0\n",
      "0\n",
      "['0', '1']\n",
      "(0,)\n",
      "[0.9 0.1]\n",
      "[0.1 0.9]\n",
      "[[0.9 0.1]\n",
      " [0.1 0.9]]\n",
      "0.5310044064107189\n",
      "{'0': 0.5310044064107189}\n"
     ]
    }
   ],
   "source": [
    "F_bit_length = 1\n",
    "F_ei_results = same_noise_xor_ei(F_bit_length) "
   ]
  },
  {
   "cell_type": "code",
   "execution_count": 16,
   "id": "5770c80f",
   "metadata": {},
   "outputs": [
    {
     "name": "stdout",
     "output_type": "stream",
     "text": [
      "F动力学异质: 0.5310044064107189\n"
     ]
    }
   ],
   "source": [
    "F_average_ei = calculate_average(F_ei_results)\n",
    "print(f\"F动力学异质: {F_average_ei}\")"
   ]
  },
  {
   "cell_type": "code",
   "execution_count": null,
   "id": "b129ebf2",
   "metadata": {},
   "outputs": [],
   "source": []
  },
  {
   "cell_type": "code",
   "execution_count": null,
   "id": "e2066b6f",
   "metadata": {},
   "outputs": [],
   "source": []
  }
 ],
 "metadata": {
  "kernelspec": {
   "display_name": "Python 3",
   "language": "python",
   "name": "python3"
  },
  "language_info": {
   "codemirror_mode": {
    "name": "ipython",
    "version": 3
   },
   "file_extension": ".py",
   "mimetype": "text/x-python",
   "name": "python",
   "nbconvert_exporter": "python",
   "pygments_lexer": "ipython3",
   "version": "3.8.8"
  }
 },
 "nbformat": 4,
 "nbformat_minor": 5
}
