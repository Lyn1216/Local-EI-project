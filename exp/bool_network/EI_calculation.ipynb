{
 "cells": [
  {
   "cell_type": "code",
   "execution_count": 2,
   "id": "1ffeaccf",
   "metadata": {},
   "outputs": [],
   "source": [
    "import numpy as np"
   ]
  },
  {
   "cell_type": "code",
   "execution_count": 3,
   "id": "b0d90664",
   "metadata": {},
   "outputs": [],
   "source": [
    "#EI的求解\n",
    "def tpm_ei(tpm, log_base = 2):\n",
    "    # marginal distribution of y given x ~ Unifrom Dist\n",
    "    puy = tpm.sum(axis=0)\n",
    "    n = tpm.shape[0]\n",
    "    # replace 0 to a small positive number to avoid log error\n",
    "    eps = 1E-10\n",
    "    tpm_e = np.where(tpm==0, eps, tpm)\n",
    "    puy_e = np.where(tpm==0, eps, puy)\n",
    "    \n",
    "    # calculate EI of specific x\n",
    "    ei_x = (np.log2(n * tpm_e / puy_e) / np.log2(log_base)  * tpm).sum(axis=1)\n",
    "    \n",
    "    # calculate total EI\n",
    "    ei_all = ei_x.mean()\n",
    "    return ei_all\n"
   ]
  },
  {
   "cell_type": "code",
   "execution_count": null,
   "id": "89aaa792",
   "metadata": {},
   "outputs": [],
   "source": []
  }
 ],
 "metadata": {
  "kernelspec": {
   "display_name": "Python 3",
   "language": "python",
   "name": "python3"
  },
  "language_info": {
   "codemirror_mode": {
    "name": "ipython",
    "version": 3
   },
   "file_extension": ".py",
   "mimetype": "text/x-python",
   "name": "python",
   "nbconvert_exporter": "python",
   "pygments_lexer": "ipython3",
   "version": "3.8.8"
  }
 },
 "nbformat": 4,
 "nbformat_minor": 5
}
