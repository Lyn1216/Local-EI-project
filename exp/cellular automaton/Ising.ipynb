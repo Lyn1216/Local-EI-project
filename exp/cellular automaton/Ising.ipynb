{
 "cells": [
  {
   "cell_type": "code",
   "execution_count": 2,
   "metadata": {},
   "outputs": [],
   "source": [
    "\n",
    "import random\n",
    "import numpy as np\n",
    "from tqdm import tqdm\n",
    "import matplotlib.pyplot as plt\n",
    "import pickle as pkl"
   ]
  },
  {
   "cell_type": "markdown",
   "metadata": {},
   "source": [
    "# glauber local ei"
   ]
  },
  {
   "cell_type": "code",
   "execution_count": 3,
   "metadata": {},
   "outputs": [
    {
     "data": {
      "text/plain": [
       "array([[0.97432841, 0.02567159],\n",
       "       [0.97432841, 0.02567159],\n",
       "       [0.86034782, 0.13965218],\n",
       "       [0.86034782, 0.13965218],\n",
       "       [0.86034782, 0.13965218],\n",
       "       [0.86034782, 0.13965218],\n",
       "       [0.5       , 0.5       ],\n",
       "       [0.5       , 0.5       ],\n",
       "       [0.86034782, 0.13965218],\n",
       "       [0.86034782, 0.13965218],\n",
       "       [0.5       , 0.5       ],\n",
       "       [0.5       , 0.5       ],\n",
       "       [0.5       , 0.5       ],\n",
       "       [0.5       , 0.5       ],\n",
       "       [0.13965218, 0.86034782],\n",
       "       [0.13965218, 0.86034782],\n",
       "       [0.86034782, 0.13965218],\n",
       "       [0.86034782, 0.13965218],\n",
       "       [0.5       , 0.5       ],\n",
       "       [0.5       , 0.5       ],\n",
       "       [0.5       , 0.5       ],\n",
       "       [0.5       , 0.5       ],\n",
       "       [0.13965218, 0.86034782],\n",
       "       [0.13965218, 0.86034782],\n",
       "       [0.5       , 0.5       ],\n",
       "       [0.5       , 0.5       ],\n",
       "       [0.13965218, 0.86034782],\n",
       "       [0.13965218, 0.86034782],\n",
       "       [0.13965218, 0.86034782],\n",
       "       [0.13965218, 0.86034782],\n",
       "       [0.02567159, 0.97432841],\n",
       "       [0.02567159, 0.97432841]])"
      ]
     },
     "execution_count": 3,
     "metadata": {},
     "output_type": "execute_result"
    }
   ],
   "source": [
    "def trans10_to_base(number, base = 2, min_length=0):\n",
    "    \n",
    "    if min_length < 1:\n",
    "        raise ValueError(\"Minimum length must be at least 1\")\n",
    "    \n",
    "    if number == 0:\n",
    "        return '0' * min_length\n",
    "\n",
    "    digits = []\n",
    "    while number > 0:\n",
    "        digits.insert(0, str(number % base))\n",
    "        number //= base\n",
    "\n",
    "    # 将数字列表转换为字符串，并在前面填充字符以达到最小长度\n",
    "    padded_digits = ''.join(digits).zfill(min_length)\n",
    "\n",
    "    return padded_digits\n",
    "\n",
    "def pro_str(s):\n",
    "    return int(s) * 2 - 1\n",
    "\n",
    "def ising_flip(H,T):\n",
    "    return 1 / (1 + np.exp(H / T))\n",
    "    \n",
    "def ising_tpm(T):\n",
    "    pur_tpm = np.zeros([32,2])\n",
    "    for i in range(32):\n",
    "        strs = trans10_to_base(i, min_length=5)\n",
    "        H = 0\n",
    "        for j in range(4):\n",
    "            H += 2 * pro_str(strs[-1]) * pro_str(strs[j])\n",
    "            \n",
    "        p = ising_flip(H, T)\n",
    "        \n",
    "        if strs[-1] == '0':\n",
    "            pur_tpm[i, 0] = 1 - p\n",
    "            pur_tpm[i, 1] = p\n",
    "        else:\n",
    "            pur_tpm[i, 0] = p\n",
    "            pur_tpm[i, 1] = 1 - p\n",
    "            \n",
    "    return pur_tpm\n",
    "\n",
    "ising_tpm(2.2)"
   ]
  },
  {
   "cell_type": "code",
   "execution_count": 4,
   "metadata": {},
   "outputs": [
    {
     "data": {
      "text/plain": [
       "(-6.890152495355112e-17,\n",
       " array([[0.86034782, 0.13965218],\n",
       "        [0.86034782, 0.13965218]]))"
      ]
     },
     "execution_count": 4,
     "metadata": {},
     "output_type": "execute_result"
    }
   ],
   "source": [
    "def tpm_ei(tpm, log_base = 2):\n",
    "    # marginal distribution of y given x ~ Unifrom Dist\n",
    "    puy = tpm.sum(axis=0)\n",
    "    n = tpm.shape[0]\n",
    "    # replace 0 to a small positive number to avoid log error\n",
    "    eps = 1E-10\n",
    "    tpm_e = np.where(tpm==0, eps, tpm)\n",
    "    puy_e = np.where(tpm==0, eps, puy)\n",
    "    \n",
    "    # calculate EI of specific x\n",
    "    ei_x = (np.log2(n * tpm_e / puy_e) / np.log2(log_base)  * tpm).sum(axis=1)\n",
    "    \n",
    "    # calculate total EI\n",
    "    ei_all = ei_x.mean()\n",
    "    return ei_all\n",
    "\n",
    "def local_ei_ising(e_list, markov_matrix):\n",
    "    local_markov = np.zeros([2, 2])\n",
    "    for num in range(2):\n",
    "        binary_string = trans10_to_base(num,  min_length = 1)\n",
    "        padded_binary_string = e_list + binary_string\n",
    "        binary_array = [int(bit) for bit in padded_binary_string] \n",
    "        pattern = int(''.join(str(cell) for cell in binary_array), 2)\n",
    "        local_markov[num, :] = markov_matrix[pattern, :]\n",
    "    ei = tpm_ei(local_markov, log_base = 2)\n",
    "    return ei, local_markov \n",
    "\n",
    "markov = ising_tpm(2.2)\n",
    "local_ei_ising('0001', markov)"
   ]
  },
  {
   "cell_type": "markdown",
   "metadata": {},
   "source": [
    "# mech_size=2"
   ]
  },
  {
   "cell_type": "code",
   "execution_count": 6,
   "metadata": {},
   "outputs": [
    {
     "data": {
      "text/plain": [
       "array([[9.49315858e-01, 2.50125560e-02, 2.50125560e-02, 6.59030346e-04],\n",
       "       [8.38261323e-01, 1.36067090e-01, 2.20864933e-02, 3.58509309e-03],\n",
       "       [8.38261323e-01, 2.20864933e-02, 1.36067090e-01, 3.58509309e-03],\n",
       "       ...,\n",
       "       [3.58509309e-03, 1.36067090e-01, 2.20864933e-02, 8.38261323e-01],\n",
       "       [3.58509309e-03, 2.20864933e-02, 1.36067090e-01, 8.38261323e-01],\n",
       "       [6.59030346e-04, 2.50125560e-02, 2.50125560e-02, 9.49315858e-01]])"
      ]
     },
     "execution_count": 6,
     "metadata": {},
     "output_type": "execute_result"
    }
   ],
   "source": [
    "def ising_flip2(T):\n",
    "    pur_tpm = np.zeros([2**8,2**2])\n",
    "    m_idx = np.array([3, 4])\n",
    "    e_idx = np.array([[0, 2, 4, 6],[1, 3, 5, 7]])\n",
    "    for i in range(2**8):\n",
    "        strs = trans10_to_base(i, min_length=8)\n",
    "        p_list = []\n",
    "        for k in range(2):\n",
    "            m = m_idx[k]\n",
    "            H = 0\n",
    "            for j in e_idx[k]:\n",
    "                H += 2 * pro_str(strs[m]) * pro_str(strs[j])\n",
    "\n",
    "            p_list.append(ising_flip(H, T))\n",
    "\n",
    "        pur_tpm[i,:] = cal_tpm(strs, m_idx, p_list)\n",
    "            \n",
    "    return pur_tpm\n",
    "\n",
    "def cal_tpm(strs, m_idx, p_list):\n",
    "    m_len = len(m_idx)\n",
    "    tpm_row = []\n",
    "    for i in range(2**m_len):\n",
    "        strs1 = trans10_to_base(i, min_length=m_len)\n",
    "        p = 1\n",
    "        for k in range(m_len):\n",
    "            if strs[m_idx[k]] == strs1[k]:\n",
    "                p *= (1 - p_list[k])\n",
    "            else:\n",
    "                p *= p_list[k]\n",
    "        tpm_row.append(p)\n",
    "    return tpm_row\n",
    "\n",
    "ising_flip2(2.2)"
   ]
  },
  {
   "cell_type": "code",
   "execution_count": 7,
   "metadata": {},
   "outputs": [
    {
     "ename": "ValueError",
     "evalue": "invalid literal for int() with base 10: 'x'",
     "output_type": "error",
     "traceback": [
      "\u001b[0;31m---------------------------------------------------------------------------\u001b[0m",
      "\u001b[0;31mValueError\u001b[0m                                Traceback (most recent call last)",
      "\u001b[0;32m<ipython-input-7-0b0ea5f8054b>\u001b[0m in \u001b[0;36m<module>\u001b[0;34m\u001b[0m\n\u001b[1;32m     11\u001b[0m \u001b[0;34m\u001b[0m\u001b[0m\n\u001b[1;32m     12\u001b[0m \u001b[0mmarkov\u001b[0m \u001b[0;34m=\u001b[0m \u001b[0mising_flip2\u001b[0m\u001b[0;34m(\u001b[0m\u001b[0;36m2.2\u001b[0m\u001b[0;34m)\u001b[0m\u001b[0;34m\u001b[0m\u001b[0;34m\u001b[0m\u001b[0m\n\u001b[0;32m---> 13\u001b[0;31m \u001b[0mlocal_ei_ising\u001b[0m\u001b[0;34m(\u001b[0m\u001b[0;34m'001xx010'\u001b[0m\u001b[0;34m,\u001b[0m \u001b[0mmarkov\u001b[0m\u001b[0;34m)\u001b[0m\u001b[0;34m\u001b[0m\u001b[0;34m\u001b[0m\u001b[0m\n\u001b[0m",
      "\u001b[0;32m<ipython-input-4-898f6b8997ee>\u001b[0m in \u001b[0;36mlocal_ei_ising\u001b[0;34m(e_list, markov_matrix)\u001b[0m\n\u001b[1;32m     20\u001b[0m         \u001b[0mbinary_string\u001b[0m \u001b[0;34m=\u001b[0m \u001b[0mtrans10_to_base\u001b[0m\u001b[0;34m(\u001b[0m\u001b[0mnum\u001b[0m\u001b[0;34m,\u001b[0m  \u001b[0mmin_length\u001b[0m \u001b[0;34m=\u001b[0m \u001b[0;36m1\u001b[0m\u001b[0;34m)\u001b[0m\u001b[0;34m\u001b[0m\u001b[0;34m\u001b[0m\u001b[0m\n\u001b[1;32m     21\u001b[0m         \u001b[0mpadded_binary_string\u001b[0m \u001b[0;34m=\u001b[0m \u001b[0me_list\u001b[0m \u001b[0;34m+\u001b[0m \u001b[0mbinary_string\u001b[0m\u001b[0;34m\u001b[0m\u001b[0;34m\u001b[0m\u001b[0m\n\u001b[0;32m---> 22\u001b[0;31m         \u001b[0mbinary_array\u001b[0m \u001b[0;34m=\u001b[0m \u001b[0;34m[\u001b[0m\u001b[0mint\u001b[0m\u001b[0;34m(\u001b[0m\u001b[0mbit\u001b[0m\u001b[0;34m)\u001b[0m \u001b[0;32mfor\u001b[0m \u001b[0mbit\u001b[0m \u001b[0;32min\u001b[0m \u001b[0mpadded_binary_string\u001b[0m\u001b[0;34m]\u001b[0m\u001b[0;34m\u001b[0m\u001b[0;34m\u001b[0m\u001b[0m\n\u001b[0m\u001b[1;32m     23\u001b[0m         \u001b[0mpattern\u001b[0m \u001b[0;34m=\u001b[0m \u001b[0mint\u001b[0m\u001b[0;34m(\u001b[0m\u001b[0;34m''\u001b[0m\u001b[0;34m.\u001b[0m\u001b[0mjoin\u001b[0m\u001b[0;34m(\u001b[0m\u001b[0mstr\u001b[0m\u001b[0;34m(\u001b[0m\u001b[0mcell\u001b[0m\u001b[0;34m)\u001b[0m \u001b[0;32mfor\u001b[0m \u001b[0mcell\u001b[0m \u001b[0;32min\u001b[0m \u001b[0mbinary_array\u001b[0m\u001b[0;34m)\u001b[0m\u001b[0;34m,\u001b[0m \u001b[0;36m2\u001b[0m\u001b[0;34m)\u001b[0m\u001b[0;34m\u001b[0m\u001b[0;34m\u001b[0m\u001b[0m\n\u001b[1;32m     24\u001b[0m         \u001b[0mlocal_markov\u001b[0m\u001b[0;34m[\u001b[0m\u001b[0mnum\u001b[0m\u001b[0;34m,\u001b[0m \u001b[0;34m:\u001b[0m\u001b[0;34m]\u001b[0m \u001b[0;34m=\u001b[0m \u001b[0mmarkov_matrix\u001b[0m\u001b[0;34m[\u001b[0m\u001b[0mpattern\u001b[0m\u001b[0;34m,\u001b[0m \u001b[0;34m:\u001b[0m\u001b[0;34m]\u001b[0m\u001b[0;34m\u001b[0m\u001b[0;34m\u001b[0m\u001b[0m\n",
      "\u001b[0;32m<ipython-input-4-898f6b8997ee>\u001b[0m in \u001b[0;36m<listcomp>\u001b[0;34m(.0)\u001b[0m\n\u001b[1;32m     20\u001b[0m         \u001b[0mbinary_string\u001b[0m \u001b[0;34m=\u001b[0m \u001b[0mtrans10_to_base\u001b[0m\u001b[0;34m(\u001b[0m\u001b[0mnum\u001b[0m\u001b[0;34m,\u001b[0m  \u001b[0mmin_length\u001b[0m \u001b[0;34m=\u001b[0m \u001b[0;36m1\u001b[0m\u001b[0;34m)\u001b[0m\u001b[0;34m\u001b[0m\u001b[0;34m\u001b[0m\u001b[0m\n\u001b[1;32m     21\u001b[0m         \u001b[0mpadded_binary_string\u001b[0m \u001b[0;34m=\u001b[0m \u001b[0me_list\u001b[0m \u001b[0;34m+\u001b[0m \u001b[0mbinary_string\u001b[0m\u001b[0;34m\u001b[0m\u001b[0;34m\u001b[0m\u001b[0m\n\u001b[0;32m---> 22\u001b[0;31m         \u001b[0mbinary_array\u001b[0m \u001b[0;34m=\u001b[0m \u001b[0;34m[\u001b[0m\u001b[0mint\u001b[0m\u001b[0;34m(\u001b[0m\u001b[0mbit\u001b[0m\u001b[0;34m)\u001b[0m \u001b[0;32mfor\u001b[0m \u001b[0mbit\u001b[0m \u001b[0;32min\u001b[0m \u001b[0mpadded_binary_string\u001b[0m\u001b[0;34m]\u001b[0m\u001b[0;34m\u001b[0m\u001b[0;34m\u001b[0m\u001b[0m\n\u001b[0m\u001b[1;32m     23\u001b[0m         \u001b[0mpattern\u001b[0m \u001b[0;34m=\u001b[0m \u001b[0mint\u001b[0m\u001b[0;34m(\u001b[0m\u001b[0;34m''\u001b[0m\u001b[0;34m.\u001b[0m\u001b[0mjoin\u001b[0m\u001b[0;34m(\u001b[0m\u001b[0mstr\u001b[0m\u001b[0;34m(\u001b[0m\u001b[0mcell\u001b[0m\u001b[0;34m)\u001b[0m \u001b[0;32mfor\u001b[0m \u001b[0mcell\u001b[0m \u001b[0;32min\u001b[0m \u001b[0mbinary_array\u001b[0m\u001b[0;34m)\u001b[0m\u001b[0;34m,\u001b[0m \u001b[0;36m2\u001b[0m\u001b[0;34m)\u001b[0m\u001b[0;34m\u001b[0m\u001b[0;34m\u001b[0m\u001b[0m\n\u001b[1;32m     24\u001b[0m         \u001b[0mlocal_markov\u001b[0m\u001b[0;34m[\u001b[0m\u001b[0mnum\u001b[0m\u001b[0;34m,\u001b[0m \u001b[0;34m:\u001b[0m\u001b[0;34m]\u001b[0m \u001b[0;34m=\u001b[0m \u001b[0mmarkov_matrix\u001b[0m\u001b[0;34m[\u001b[0m\u001b[0mpattern\u001b[0m\u001b[0;34m,\u001b[0m \u001b[0;34m:\u001b[0m\u001b[0;34m]\u001b[0m\u001b[0;34m\u001b[0m\u001b[0;34m\u001b[0m\u001b[0m\n",
      "\u001b[0;31mValueError\u001b[0m: invalid literal for int() with base 10: 'x'"
     ]
    }
   ],
   "source": [
    "def local_ei_ising2(e_list, markov_matrix):\n",
    "    local_markov = np.zeros([2**2, 2**2])\n",
    "    for num in range(2**2):\n",
    "        binary_string = trans10_to_base(num,  min_length = 2)\n",
    "        padded_binary_string = e_list.replace('xx', binary_string)\n",
    "        binary_array = [int(bit) for bit in padded_binary_string] \n",
    "        pattern = int(''.join(str(cell) for cell in binary_array), 2)\n",
    "        local_markov[num, :] = markov_matrix[pattern, :]\n",
    "    ei = tpm_ei(local_markov, log_base = 2)\n",
    "    return ei, local_markov \n",
    "\n",
    "markov = ising_flip2(2.2)\n",
    "local_ei_ising('001xx010', markov)"
   ]
  },
  {
   "cell_type": "code",
   "execution_count": null,
   "metadata": {},
   "outputs": [],
   "source": []
  }
 ],
 "metadata": {
  "kernelspec": {
   "display_name": "Python 3",
   "language": "python",
   "name": "python3"
  },
  "language_info": {
   "codemirror_mode": {
    "name": "ipython",
    "version": 3
   },
   "file_extension": ".py",
   "mimetype": "text/x-python",
   "name": "python",
   "nbconvert_exporter": "python",
   "pygments_lexer": "ipython3",
   "version": "3.8.3"
  }
 },
 "nbformat": 4,
 "nbformat_minor": 5
}
