{
 "cells": [
  {
   "cell_type": "code",
   "execution_count": 1,
   "id": "50be2e32-78a3-4d39-bd1c-5d9ebd8fce48",
   "metadata": {},
   "outputs": [],
   "source": [
    "import numpy as np\n",
    "import random\n",
    "import matplotlib.pyplot as plt\n",
    "%matplotlib inline"
   ]
  },
  {
   "cell_type": "markdown",
   "id": "054f44a3-4fa0-475e-a716-70eed9b67cf3",
   "metadata": {},
   "source": [
    "# 已知动力学 动力学异质"
   ]
  },
  {
   "cell_type": "code",
   "execution_count": null,
   "id": "eedf7bbf-8a65-45ba-af54-c492accef6ee",
   "metadata": {},
   "outputs": [],
   "source": [
    "from ca_generate import generate_markov"
   ]
  }
 ],
 "metadata": {
  "kernelspec": {
   "display_name": "Python 3 (ipykernel)",
   "language": "python",
   "name": "python3"
  },
  "language_info": {
   "codemirror_mode": {
    "name": "ipython",
    "version": 3
   },
   "file_extension": ".py",
   "mimetype": "text/x-python",
   "name": "python",
   "nbconvert_exporter": "python",
   "pygments_lexer": "ipython3",
   "version": "3.10.14"
  }
 },
 "nbformat": 4,
 "nbformat_minor": 5
}
